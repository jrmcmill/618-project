{
 "cells": [
  {
   "cell_type": "markdown",
   "metadata": {},
   "source": [
    "# SI 618 Project Description\n",
    "\n",
    "## Mental Health Indicator relationships with Alcohol Consumption and Reproductive Health\n",
    "\n",
    "### Jonathan McMillan | Lizett Aguilar | Shirley Santaella"
   ]
  },
  {
   "cell_type": "markdown",
   "metadata": {},
   "source": [
    "#### Imports for reading data, plotting, etc."
   ]
  },
  {
   "cell_type": "code",
   "execution_count": 29,
   "metadata": {},
   "outputs": [],
   "source": [
    "import pandas as pd\n",
    "from numpy import NaN\n",
    "from matplotlib import pyplot as plt"
   ]
  },
  {
   "cell_type": "markdown",
   "metadata": {},
   "source": [
    "#### Read in the data"
   ]
  },
  {
   "cell_type": "code",
   "execution_count": 38,
   "metadata": {},
   "outputs": [
    {
     "name": "stderr",
     "output_type": "stream",
     "text": [
      "/var/folders/7k/kt8nfzwd2pvgsvfsrs6vyjsm0000gn/T/ipykernel_18892/655771790.py:2: DtypeWarning: Columns (10) have mixed types. Specify dtype option on import or set low_memory=False.\n",
      "  alcohol = pd.read_csv('data/U.S._Chronic_Disease_Indicators__Alcohol_20240217.csv')\n"
     ]
    }
   ],
   "source": [
    "mental_health = pd.read_csv('data/U.S._Chronic_Disease_Indicators__Mental_Health_20240217.csv')\n",
    "alcohol = pd.read_csv('data/U.S._Chronic_Disease_Indicators__Alcohol_20240217.csv')\n",
    "reproductive_health = pd.read_csv('data/U.S._Chronic_Disease_Indicators__Reproductive_Health_20240219.csv')"
   ]
  },
  {
   "cell_type": "markdown",
   "metadata": {},
   "source": [
    "#### Investigate columns of interest"
   ]
  },
  {
   "cell_type": "code",
   "execution_count": 39,
   "metadata": {},
   "outputs": [
    {
     "name": "stdout",
     "output_type": "stream",
     "text": [
      "[2009, 2011, 2012, 2013, 2014, 2015, 2016, 2017, 2018, 2019, 2020, 2021]\n",
      "[2011, 2012, 2013, 2014, 2015, 2016, 2017, 2018, 2019, 2020, 2021]\n",
      "\n",
      "[2010, 2011, 2012, 2013, 2014, 2015, 2016, 2017, 2018, 2019, 2020, 2021]\n",
      "[2010, 2011, 2012, 2013, 2014, 2015, 2016, 2017, 2018, 2019, 2020, 2021]\n",
      "\n",
      "[2011, 2012, 2013, 2014, 2015, 2016, 2017, 2018, 2019, 2020, 2021]\n",
      "[2011, 2012, 2013, 2014, 2015, 2016, 2017, 2018, 2019, 2020, 2021]\n",
      "\n"
     ]
    }
   ],
   "source": [
    "# let's see what years we have data for\n",
    "for df in [mental_health, alcohol, reproductive_health]:\n",
    "    print(sorted(df.YearStart.unique()))\n",
    "    print(sorted(df.YearEnd.unique()))\n",
    "    print()"
   ]
  },
  {
   "cell_type": "code",
   "execution_count": 40,
   "metadata": {},
   "outputs": [
    {
     "name": "stdout",
     "output_type": "stream",
     "text": [
      "['BRFSS', 'PRAMS']\n",
      "\n",
      "['AEDS', 'APIS', 'BRFSS', 'Legal Research', 'NVSS', 'PRAMS', 'YRBSS']\n",
      "\n",
      "['BRFSS', 'PRAMS']\n",
      "\n"
     ]
    }
   ],
   "source": [
    "# let's see what sources we have data for\n",
    "for df in [mental_health, alcohol, reproductive_health]:\n",
    "    print(sorted(df.DataSource.unique()))\n",
    "    print()"
   ]
  },
  {
   "cell_type": "code",
   "execution_count": 41,
   "metadata": {},
   "outputs": [
    {
     "name": "stdout",
     "output_type": "stream",
     "text": [
      "['Gender', 'Overall', 'Race/Ethnicity']\n",
      "['Black, non-Hispanic', 'Female', 'Hispanic', 'Male', 'Multiracial, non-Hispanic', 'Other, non-Hispanic', 'Overall', 'White, non-Hispanic']\n",
      "\n",
      "['Gender', 'Overall', 'Race/Ethnicity']\n",
      "['American Indian or Alaska Native', 'Asian or Pacific Islander', 'Asian, non-Hispanic', 'Black, non-Hispanic', 'Female', 'Hispanic', 'Male', 'Multiracial, non-Hispanic', 'Other, non-Hispanic', 'Overall', 'White, non-Hispanic']\n",
      "\n",
      "['Overall', 'Race/Ethnicity']\n",
      "['American Indian or Alaska Native', 'Asian or Pacific Islander', 'Black, non-Hispanic', 'Hispanic', 'Multiracial, non-Hispanic', 'Other, non-Hispanic', 'Overall', 'White, non-Hispanic']\n",
      "\n"
     ]
    }
   ],
   "source": [
    "# let's see what demographics we have data for\n",
    "for df in [mental_health, alcohol, reproductive_health]:\n",
    "    print(sorted(df.StratificationCategory1.unique()))\n",
    "    print(sorted(df.Stratification1.unique()))\n",
    "    print()"
   ]
  },
  {
   "cell_type": "markdown",
   "metadata": {},
   "source": [
    "##### None for the 2nd and 3rd demographic categories:"
   ]
  },
  {
   "cell_type": "code",
   "execution_count": 42,
   "metadata": {},
   "outputs": [
    {
     "name": "stdout",
     "output_type": "stream",
     "text": [
      "[nan]\n",
      "[nan]\n",
      "\n",
      "[nan]\n",
      "[nan]\n",
      "\n",
      "[nan]\n",
      "[nan]\n",
      "\n"
     ]
    }
   ],
   "source": [
    "for df in [mental_health, alcohol, reproductive_health]:\n",
    "    print(sorted(df.StratificationCategory2.unique()))\n",
    "    print(sorted(df.Stratification2.unique()))\n",
    "    print()"
   ]
  },
  {
   "cell_type": "code",
   "execution_count": 43,
   "metadata": {},
   "outputs": [
    {
     "name": "stdout",
     "output_type": "stream",
     "text": [
      "[nan]\n",
      "[nan]\n",
      "\n",
      "[nan]\n",
      "[nan]\n",
      "\n",
      "[nan]\n",
      "[nan]\n",
      "\n"
     ]
    }
   ],
   "source": [
    "for df in [mental_health, alcohol, reproductive_health]:\n",
    "    print(sorted(df.StratificationCategory3.unique()))\n",
    "    print(sorted(df.Stratification3.unique()))\n",
    "    print()"
   ]
  },
  {
   "cell_type": "markdown",
   "metadata": {},
   "source": [
    "### Expanding the StratificationCategory1 column"
   ]
  },
  {
   "cell_type": "code",
   "execution_count": 44,
   "metadata": {},
   "outputs": [],
   "source": [
    "for df in [mental_health, alcohol]:\n",
    "    df['Gender'] = df.apply(lambda row: row.Stratification1 if row.StratificationCategory1 == 'Gender' else NaN, axis=1)"
   ]
  },
  {
   "cell_type": "code",
   "execution_count": 45,
   "metadata": {},
   "outputs": [],
   "source": [
    "for df in [mental_health, alcohol, reproductive_health]:\n",
    "    df['Race/Ethnicity'] = df.apply(lambda row: row.Stratification1 if row.StratificationCategory1 == 'Race/Ethnicity' else NaN, axis=1)"
   ]
  },
  {
   "cell_type": "code",
   "execution_count": 46,
   "metadata": {},
   "outputs": [],
   "source": [
    "for df in [mental_health, alcohol, reproductive_health]:\n",
    "    df['Overall'] = df.apply(lambda row: row.Stratification1 if row.StratificationCategory1 == 'Overall' else NaN, axis=1)"
   ]
  },
  {
   "cell_type": "code",
   "execution_count": 47,
   "metadata": {},
   "outputs": [],
   "source": [
    "# drop repetitive Stratification columns\n",
    "drop_cols = ['StratificationCategory1', 'Stratification1', 'StratificationCategory2', 'Stratification2', 'StratificationCategory3', 'Stratification3', 'StratificationCategoryID1', 'StratificationID1', 'StratificationCategoryID2', 'StratificationID2', 'StratificationCategoryID3', 'StratificationID3']\n",
    "\n",
    "for df in [mental_health, alcohol, reproductive_health]:\n",
    "    df.drop(drop_cols, axis=1, inplace=True)"
   ]
  },
  {
   "cell_type": "code",
   "execution_count": 48,
   "metadata": {},
   "outputs": [
    {
     "data": {
      "text/html": [
       "<div>\n",
       "<style scoped>\n",
       "    .dataframe tbody tr th:only-of-type {\n",
       "        vertical-align: middle;\n",
       "    }\n",
       "\n",
       "    .dataframe tbody tr th {\n",
       "        vertical-align: top;\n",
       "    }\n",
       "\n",
       "    .dataframe thead th {\n",
       "        text-align: right;\n",
       "    }\n",
       "</style>\n",
       "<table border=\"1\" class=\"dataframe\">\n",
       "  <thead>\n",
       "    <tr style=\"text-align: right;\">\n",
       "      <th></th>\n",
       "      <th>YearStart</th>\n",
       "      <th>YearEnd</th>\n",
       "      <th>LocationAbbr</th>\n",
       "      <th>LocationDesc</th>\n",
       "      <th>DataSource</th>\n",
       "      <th>Topic</th>\n",
       "      <th>Question</th>\n",
       "      <th>Response</th>\n",
       "      <th>DataValueUnit</th>\n",
       "      <th>DataValueType</th>\n",
       "      <th>...</th>\n",
       "      <th>LowConfidenceLimit</th>\n",
       "      <th>HighConfidenceLimit</th>\n",
       "      <th>ResponseID</th>\n",
       "      <th>LocationID</th>\n",
       "      <th>TopicID</th>\n",
       "      <th>QuestionID</th>\n",
       "      <th>DataValueTypeID</th>\n",
       "      <th>Gender</th>\n",
       "      <th>Race/Ethnicity</th>\n",
       "      <th>Overall</th>\n",
       "    </tr>\n",
       "  </thead>\n",
       "  <tbody>\n",
       "    <tr>\n",
       "      <th>0</th>\n",
       "      <td>2018</td>\n",
       "      <td>2018</td>\n",
       "      <td>NV</td>\n",
       "      <td>Nevada</td>\n",
       "      <td>BRFSS</td>\n",
       "      <td>Mental Health</td>\n",
       "      <td>At least 14 recent mentally unhealthy days amo...</td>\n",
       "      <td>NaN</td>\n",
       "      <td>%</td>\n",
       "      <td>Crude Prevalence</td>\n",
       "      <td>...</td>\n",
       "      <td>17.2</td>\n",
       "      <td>26.8</td>\n",
       "      <td>NaN</td>\n",
       "      <td>32</td>\n",
       "      <td>MTH</td>\n",
       "      <td>MTH2_0</td>\n",
       "      <td>CRDPREV</td>\n",
       "      <td>NaN</td>\n",
       "      <td>NaN</td>\n",
       "      <td>Overall</td>\n",
       "    </tr>\n",
       "    <tr>\n",
       "      <th>1</th>\n",
       "      <td>2020</td>\n",
       "      <td>2020</td>\n",
       "      <td>NV</td>\n",
       "      <td>Nevada</td>\n",
       "      <td>BRFSS</td>\n",
       "      <td>Mental Health</td>\n",
       "      <td>Recent mentally unhealthy days among adults ag...</td>\n",
       "      <td>NaN</td>\n",
       "      <td>Number</td>\n",
       "      <td>Mean</td>\n",
       "      <td>...</td>\n",
       "      <td>2.4</td>\n",
       "      <td>5.8</td>\n",
       "      <td>NaN</td>\n",
       "      <td>32</td>\n",
       "      <td>MTH</td>\n",
       "      <td>MTH1_0</td>\n",
       "      <td>MEAN</td>\n",
       "      <td>NaN</td>\n",
       "      <td>Black, non-Hispanic</td>\n",
       "      <td>NaN</td>\n",
       "    </tr>\n",
       "    <tr>\n",
       "      <th>2</th>\n",
       "      <td>2018</td>\n",
       "      <td>2018</td>\n",
       "      <td>NV</td>\n",
       "      <td>Nevada</td>\n",
       "      <td>BRFSS</td>\n",
       "      <td>Mental Health</td>\n",
       "      <td>Recent mentally unhealthy days among adults ag...</td>\n",
       "      <td>NaN</td>\n",
       "      <td>Number</td>\n",
       "      <td>Mean</td>\n",
       "      <td>...</td>\n",
       "      <td>4.4</td>\n",
       "      <td>5.6</td>\n",
       "      <td>NaN</td>\n",
       "      <td>32</td>\n",
       "      <td>MTH</td>\n",
       "      <td>MTH1_0</td>\n",
       "      <td>MEAN</td>\n",
       "      <td>Female</td>\n",
       "      <td>NaN</td>\n",
       "      <td>NaN</td>\n",
       "    </tr>\n",
       "  </tbody>\n",
       "</table>\n",
       "<p>3 rows × 24 columns</p>\n",
       "</div>"
      ],
      "text/plain": [
       "   YearStart  YearEnd LocationAbbr LocationDesc DataSource          Topic  \\\n",
       "0       2018     2018           NV       Nevada      BRFSS  Mental Health   \n",
       "1       2020     2020           NV       Nevada      BRFSS  Mental Health   \n",
       "2       2018     2018           NV       Nevada      BRFSS  Mental Health   \n",
       "\n",
       "                                            Question  Response DataValueUnit  \\\n",
       "0  At least 14 recent mentally unhealthy days amo...       NaN             %   \n",
       "1  Recent mentally unhealthy days among adults ag...       NaN        Number   \n",
       "2  Recent mentally unhealthy days among adults ag...       NaN        Number   \n",
       "\n",
       "      DataValueType  ...  LowConfidenceLimit  HighConfidenceLimit ResponseID  \\\n",
       "0  Crude Prevalence  ...                17.2                 26.8        NaN   \n",
       "1              Mean  ...                 2.4                  5.8        NaN   \n",
       "2              Mean  ...                 4.4                  5.6        NaN   \n",
       "\n",
       "  LocationID  TopicID  QuestionID  DataValueTypeID  Gender  \\\n",
       "0         32      MTH      MTH2_0          CRDPREV     NaN   \n",
       "1         32      MTH      MTH1_0             MEAN     NaN   \n",
       "2         32      MTH      MTH1_0             MEAN  Female   \n",
       "\n",
       "        Race/Ethnicity  Overall  \n",
       "0                  NaN  Overall  \n",
       "1  Black, non-Hispanic      NaN  \n",
       "2                  NaN      NaN  \n",
       "\n",
       "[3 rows x 24 columns]"
      ]
     },
     "execution_count": 48,
     "metadata": {},
     "output_type": "execute_result"
    }
   ],
   "source": [
    "mental_health.head(3)"
   ]
  },
  {
   "cell_type": "markdown",
   "metadata": {},
   "source": [
    "### Investigate Location data columns"
   ]
  },
  {
   "cell_type": "code",
   "execution_count": 51,
   "metadata": {},
   "outputs": [
    {
     "name": "stdout",
     "output_type": "stream",
     "text": [
      "55\n",
      "55\n",
      "55\n",
      "\n",
      "55\n",
      "55\n",
      "55\n",
      "\n",
      "55\n",
      "55\n",
      "55\n",
      "\n"
     ]
    }
   ],
   "source": [
    "for df in [mental_health, alcohol, reproductive_health]:\n",
    "    print(df.LocationAbbr.nunique())\n",
    "    print(df.LocationDesc.nunique())\n",
    "    print(df.LocationID.nunique())\n",
    "    print()"
   ]
  },
  {
   "cell_type": "code",
   "execution_count": 61,
   "metadata": {},
   "outputs": [
    {
     "name": "stdout",
     "output_type": "stream",
     "text": [
      "True\n",
      "True\n",
      "True\n",
      "\n",
      "True\n",
      "True\n",
      "True\n",
      "\n",
      "True\n",
      "True\n",
      "True\n",
      "\n"
     ]
    }
   ],
   "source": [
    "# print if the LocationAbbr, LocationDesc, and LocationID have the same values for each dataset\n",
    "for location in ['LocationAbbr', 'LocationDesc', 'LocationID']:\n",
    "    print(set(mental_health[location].unique()) == set(alcohol[location].unique()))\n",
    "    print(set(mental_health[location].unique()) == set(reproductive_health[location].unique()))\n",
    "    print(set(alcohol[location].unique()) == set(reproductive_health[location].unique()))\n",
    "    print()"
   ]
  },
  {
   "cell_type": "code",
   "execution_count": 62,
   "metadata": {},
   "outputs": [],
   "source": [
    "# just keep one of them, LocationDesc\n",
    "for df in [mental_health, alcohol, reproductive_health]:\n",
    "    df.drop(['LocationAbbr', 'LocationID'], axis=1, inplace=True)"
   ]
  },
  {
   "cell_type": "code",
   "execution_count": 76,
   "metadata": {},
   "outputs": [
    {
     "name": "stdout",
     "output_type": "stream",
     "text": [
      "['Response', 'ResponseID']\n",
      "['Response', 'ResponseID']\n",
      "['Response', 'ResponseID']\n"
     ]
    }
   ],
   "source": [
    "# find columns in all DFs that only have NaN values\n",
    "for df in [mental_health, alcohol, reproductive_health]:\n",
    "    print(df.columns[df.isna().all()].tolist())"
   ]
  },
  {
   "cell_type": "code",
   "execution_count": 77,
   "metadata": {},
   "outputs": [],
   "source": [
    "# remove Reponse and ResponseID from all DFs\n",
    "for df in [mental_health, alcohol, reproductive_health]:\n",
    "    df.drop(['Response', 'ResponseID'], axis=1, inplace=True)"
   ]
  },
  {
   "cell_type": "code",
   "execution_count": 80,
   "metadata": {},
   "outputs": [
    {
     "data": {
      "text/html": [
       "<div>\n",
       "<style scoped>\n",
       "    .dataframe tbody tr th:only-of-type {\n",
       "        vertical-align: middle;\n",
       "    }\n",
       "\n",
       "    .dataframe tbody tr th {\n",
       "        vertical-align: top;\n",
       "    }\n",
       "\n",
       "    .dataframe thead th {\n",
       "        text-align: right;\n",
       "    }\n",
       "</style>\n",
       "<table border=\"1\" class=\"dataframe\">\n",
       "  <thead>\n",
       "    <tr style=\"text-align: right;\">\n",
       "      <th></th>\n",
       "      <th>YearStart</th>\n",
       "      <th>YearEnd</th>\n",
       "      <th>LocationDesc</th>\n",
       "      <th>DataSource</th>\n",
       "      <th>Topic</th>\n",
       "      <th>Question</th>\n",
       "      <th>DataValueUnit</th>\n",
       "      <th>DataValueType</th>\n",
       "      <th>DataValue</th>\n",
       "      <th>DataValueAlt</th>\n",
       "      <th>DataValueFootnoteSymbol</th>\n",
       "      <th>DatavalueFootnote</th>\n",
       "      <th>LowConfidenceLimit</th>\n",
       "      <th>HighConfidenceLimit</th>\n",
       "      <th>TopicID</th>\n",
       "      <th>QuestionID</th>\n",
       "      <th>DataValueTypeID</th>\n",
       "      <th>Gender</th>\n",
       "      <th>Race/Ethnicity</th>\n",
       "      <th>Overall</th>\n",
       "    </tr>\n",
       "  </thead>\n",
       "  <tbody>\n",
       "    <tr>\n",
       "      <th>0</th>\n",
       "      <td>2018</td>\n",
       "      <td>2018</td>\n",
       "      <td>Nevada</td>\n",
       "      <td>BRFSS</td>\n",
       "      <td>Mental Health</td>\n",
       "      <td>At least 14 recent mentally unhealthy days amo...</td>\n",
       "      <td>%</td>\n",
       "      <td>Crude Prevalence</td>\n",
       "      <td>21.6</td>\n",
       "      <td>21.6</td>\n",
       "      <td>NaN</td>\n",
       "      <td>NaN</td>\n",
       "      <td>17.2</td>\n",
       "      <td>26.8</td>\n",
       "      <td>MTH</td>\n",
       "      <td>MTH2_0</td>\n",
       "      <td>CRDPREV</td>\n",
       "      <td>NaN</td>\n",
       "      <td>NaN</td>\n",
       "      <td>Overall</td>\n",
       "    </tr>\n",
       "    <tr>\n",
       "      <th>1</th>\n",
       "      <td>2020</td>\n",
       "      <td>2020</td>\n",
       "      <td>Nevada</td>\n",
       "      <td>BRFSS</td>\n",
       "      <td>Mental Health</td>\n",
       "      <td>Recent mentally unhealthy days among adults ag...</td>\n",
       "      <td>Number</td>\n",
       "      <td>Mean</td>\n",
       "      <td>4.1</td>\n",
       "      <td>4.1</td>\n",
       "      <td>NaN</td>\n",
       "      <td>NaN</td>\n",
       "      <td>2.4</td>\n",
       "      <td>5.8</td>\n",
       "      <td>MTH</td>\n",
       "      <td>MTH1_0</td>\n",
       "      <td>MEAN</td>\n",
       "      <td>NaN</td>\n",
       "      <td>Black, non-Hispanic</td>\n",
       "      <td>NaN</td>\n",
       "    </tr>\n",
       "    <tr>\n",
       "      <th>2</th>\n",
       "      <td>2018</td>\n",
       "      <td>2018</td>\n",
       "      <td>Nevada</td>\n",
       "      <td>BRFSS</td>\n",
       "      <td>Mental Health</td>\n",
       "      <td>Recent mentally unhealthy days among adults ag...</td>\n",
       "      <td>Number</td>\n",
       "      <td>Mean</td>\n",
       "      <td>5.0</td>\n",
       "      <td>5.0</td>\n",
       "      <td>NaN</td>\n",
       "      <td>NaN</td>\n",
       "      <td>4.4</td>\n",
       "      <td>5.6</td>\n",
       "      <td>MTH</td>\n",
       "      <td>MTH1_0</td>\n",
       "      <td>MEAN</td>\n",
       "      <td>Female</td>\n",
       "      <td>NaN</td>\n",
       "      <td>NaN</td>\n",
       "    </tr>\n",
       "  </tbody>\n",
       "</table>\n",
       "</div>"
      ],
      "text/plain": [
       "   YearStart  YearEnd LocationDesc DataSource          Topic  \\\n",
       "0       2018     2018       Nevada      BRFSS  Mental Health   \n",
       "1       2020     2020       Nevada      BRFSS  Mental Health   \n",
       "2       2018     2018       Nevada      BRFSS  Mental Health   \n",
       "\n",
       "                                            Question DataValueUnit  \\\n",
       "0  At least 14 recent mentally unhealthy days amo...             %   \n",
       "1  Recent mentally unhealthy days among adults ag...        Number   \n",
       "2  Recent mentally unhealthy days among adults ag...        Number   \n",
       "\n",
       "      DataValueType  DataValue  DataValueAlt DataValueFootnoteSymbol  \\\n",
       "0  Crude Prevalence       21.6          21.6                     NaN   \n",
       "1              Mean        4.1           4.1                     NaN   \n",
       "2              Mean        5.0           5.0                     NaN   \n",
       "\n",
       "  DatavalueFootnote  LowConfidenceLimit  HighConfidenceLimit TopicID  \\\n",
       "0               NaN                17.2                 26.8     MTH   \n",
       "1               NaN                 2.4                  5.8     MTH   \n",
       "2               NaN                 4.4                  5.6     MTH   \n",
       "\n",
       "  QuestionID DataValueTypeID  Gender       Race/Ethnicity  Overall  \n",
       "0     MTH2_0         CRDPREV     NaN                  NaN  Overall  \n",
       "1     MTH1_0            MEAN     NaN  Black, non-Hispanic      NaN  \n",
       "2     MTH1_0            MEAN  Female                  NaN      NaN  "
      ]
     },
     "execution_count": 80,
     "metadata": {},
     "output_type": "execute_result"
    }
   ],
   "source": [
    "mental_health.head(3)"
   ]
  },
  {
   "cell_type": "code",
   "execution_count": 81,
   "metadata": {},
   "outputs": [
    {
     "name": "stdout",
     "output_type": "stream",
     "text": [
      "['Mental Health']\n",
      "['MTH']\n",
      "\n",
      "['Alcohol']\n",
      "['ALC']\n",
      "\n",
      "['Reproductive Health']\n",
      "['RPH']\n",
      "\n"
     ]
    }
   ],
   "source": [
    "# print all unique Topic and TopicID values for each DF\n",
    "for df in [mental_health, alcohol, reproductive_health]:\n",
    "    print(sorted(df.Topic.unique()))\n",
    "    print(sorted(df.TopicID.unique()))\n",
    "    print()"
   ]
  },
  {
   "cell_type": "code",
   "execution_count": 82,
   "metadata": {},
   "outputs": [],
   "source": [
    "# drop TopicID from all DFs\n",
    "for df in [mental_health, alcohol, reproductive_health]:\n",
    "    df.drop(['TopicID'], axis=1, inplace=True)"
   ]
  },
  {
   "cell_type": "code",
   "execution_count": 87,
   "metadata": {},
   "outputs": [
    {
     "name": "stdout",
     "output_type": "stream",
     "text": [
      "['Age-adjusted Mean', 'Crude Prevalence', 'Mean']\n",
      "['AGEADJMEAN', 'CRDPREV', 'MEAN']\n",
      "\n",
      "['Age-adjusted Mean', 'Age-adjusted Prevalence', 'Age-adjusted Rate', 'Commercial host (dram shop) liability status for alcohol service', 'Crude Prevalence', 'Crude Rate', 'Local control of the regulation of alcohol outlet density', 'Mean', 'Number', 'Per capita alcohol consumption', 'US Dollars']\n",
      "['AGEADJMEAN', 'AGEADJPREV', 'AGEADJRATE', 'COMMHSTLIAB', 'CRDPREV', 'CRDRATE', 'LCLCNTRLALC', 'MEAN', 'NMBR', 'PERCAPALC', 'USD']\n",
      "\n",
      "['Crude Prevalence']\n",
      "['CRDPREV']\n",
      "\n",
      "{'Crude Prevalence', 'Age-adjusted Mean', 'Mean'}\n",
      "{'Crude Prevalence'}\n"
     ]
    }
   ],
   "source": [
    "# get unique DataValueType and DataValueTypeID values for each DF\n",
    "for df in [mental_health, alcohol, reproductive_health]:\n",
    "    print(sorted(df.DataValueType.unique()))\n",
    "    print(sorted(df.DataValueTypeID.unique()))\n",
    "    print()\n",
    "\n",
    "# and get the common DataValueType values across mental_health and alcohol, then mental_health and reproductive_health\n",
    "print(set(mental_health.DataValueType.unique()) & set(alcohol.DataValueType.unique()))\n",
    "print(set(mental_health.DataValueType.unique()) & set(reproductive_health.DataValueType.unique()))"
   ]
  },
  {
   "cell_type": "markdown",
   "metadata": {},
   "source": [
    "### NOTE: *Crude Prevalence* is the answer to: How many deaths occurred per year for every 100,000 persons in the selected population?\n",
    "[https://www.cdc.gov/injury/wisqars/mapping_help/crude_rate.html]"
   ]
  },
  {
   "cell_type": "code",
   "execution_count": 105,
   "metadata": {},
   "outputs": [
    {
     "data": {
      "text/plain": [
       "array(['Recent mentally unhealthy days among adults aged >= 18 years'],\n",
       "      dtype=object)"
      ]
     },
     "execution_count": 105,
     "metadata": {},
     "output_type": "execute_result"
    }
   ],
   "source": [
    "mental_health[(mental_health.DataValueType == 'Mean') & (mental_health.LocationDesc == 'Michigan') & (mental_health.Overall == 'Overall')].Question.unique()"
   ]
  },
  {
   "cell_type": "code",
   "execution_count": 110,
   "metadata": {},
   "outputs": [
    {
     "data": {
      "image/png": "[encoded data removed]",
      "text/plain": [
       "<Figure size 640x480 with 1 Axes>"
      ]
     },
     "metadata": {},
     "output_type": "display_data"
    }
   ],
   "source": [
    "mental_health[(mental_health.DataValueType == 'Mean') & (mental_health.LocationDesc == 'Michigan') & (mental_health.Overall == 'Overall')].sort_values(by='YearStart').plot(x='YearStart', y='DataValue', kind='line')\n",
    "_ = plt.title('Mean mentally unhealthy days among adults in Michigan over time')"
   ]
  },
  {
   "cell_type": "code",
   "execution_count": 116,
   "metadata": {},
   "outputs": [
    {
     "data": {
      "text/html": [
       "<div>\n",
       "<style scoped>\n",
       "    .dataframe tbody tr th:only-of-type {\n",
       "        vertical-align: middle;\n",
       "    }\n",
       "\n",
       "    .dataframe tbody tr th {\n",
       "        vertical-align: top;\n",
       "    }\n",
       "\n",
       "    .dataframe thead th {\n",
       "        text-align: right;\n",
       "    }\n",
       "</style>\n",
       "<table border=\"1\" class=\"dataframe\">\n",
       "  <thead>\n",
       "    <tr style=\"text-align: right;\">\n",
       "      <th></th>\n",
       "      <th>YearStart</th>\n",
       "      <th>YearEnd</th>\n",
       "      <th>LocationDesc</th>\n",
       "      <th>DataSource</th>\n",
       "      <th>Topic</th>\n",
       "      <th>Question</th>\n",
       "      <th>DataValueUnit</th>\n",
       "      <th>DataValueType</th>\n",
       "      <th>DataValue</th>\n",
       "      <th>DataValueAlt</th>\n",
       "      <th>DataValueFootnoteSymbol</th>\n",
       "      <th>DatavalueFootnote</th>\n",
       "      <th>LowConfidenceLimit</th>\n",
       "      <th>HighConfidenceLimit</th>\n",
       "      <th>QuestionID</th>\n",
       "      <th>DataValueTypeID</th>\n",
       "      <th>Gender</th>\n",
       "      <th>Race/Ethnicity</th>\n",
       "      <th>Overall</th>\n",
       "    </tr>\n",
       "  </thead>\n",
       "  <tbody>\n",
       "    <tr>\n",
       "      <th>40651</th>\n",
       "      <td>2018</td>\n",
       "      <td>2018</td>\n",
       "      <td>Michigan</td>\n",
       "      <td>BRFSS</td>\n",
       "      <td>Alcohol</td>\n",
       "      <td>Binge drinking frequency among adults aged &gt;= ...</td>\n",
       "      <td>Number</td>\n",
       "      <td>Mean</td>\n",
       "      <td>4.8</td>\n",
       "      <td>4.8</td>\n",
       "      <td>NaN</td>\n",
       "      <td>NaN</td>\n",
       "      <td>4.4</td>\n",
       "      <td>5.2</td>\n",
       "      <td>ALC3_0</td>\n",
       "      <td>MEAN</td>\n",
       "      <td>NaN</td>\n",
       "      <td>NaN</td>\n",
       "      <td>Overall</td>\n",
       "    </tr>\n",
       "    <tr>\n",
       "      <th>40861</th>\n",
       "      <td>2021</td>\n",
       "      <td>2021</td>\n",
       "      <td>Michigan</td>\n",
       "      <td>BRFSS</td>\n",
       "      <td>Alcohol</td>\n",
       "      <td>Binge drinking frequency among adults aged &gt;= ...</td>\n",
       "      <td>Number</td>\n",
       "      <td>Mean</td>\n",
       "      <td>5.0</td>\n",
       "      <td>5.0</td>\n",
       "      <td>NaN</td>\n",
       "      <td>NaN</td>\n",
       "      <td>4.4</td>\n",
       "      <td>5.7</td>\n",
       "      <td>ALC3_0</td>\n",
       "      <td>MEAN</td>\n",
       "      <td>NaN</td>\n",
       "      <td>NaN</td>\n",
       "      <td>Overall</td>\n",
       "    </tr>\n",
       "    <tr>\n",
       "      <th>40936</th>\n",
       "      <td>2017</td>\n",
       "      <td>2017</td>\n",
       "      <td>Michigan</td>\n",
       "      <td>BRFSS</td>\n",
       "      <td>Alcohol</td>\n",
       "      <td>Binge drinking frequency among adults aged &gt;= ...</td>\n",
       "      <td>Number</td>\n",
       "      <td>Mean</td>\n",
       "      <td>4.5</td>\n",
       "      <td>4.5</td>\n",
       "      <td>NaN</td>\n",
       "      <td>NaN</td>\n",
       "      <td>4.2</td>\n",
       "      <td>4.9</td>\n",
       "      <td>ALC3_0</td>\n",
       "      <td>MEAN</td>\n",
       "      <td>NaN</td>\n",
       "      <td>NaN</td>\n",
       "      <td>Overall</td>\n",
       "    </tr>\n",
       "    <tr>\n",
       "      <th>40957</th>\n",
       "      <td>2011</td>\n",
       "      <td>2011</td>\n",
       "      <td>Michigan</td>\n",
       "      <td>BRFSS</td>\n",
       "      <td>Alcohol</td>\n",
       "      <td>Binge drinking frequency among adults aged &gt;= ...</td>\n",
       "      <td>Number</td>\n",
       "      <td>Mean</td>\n",
       "      <td>4.5</td>\n",
       "      <td>4.5</td>\n",
       "      <td>NaN</td>\n",
       "      <td>NaN</td>\n",
       "      <td>4.1</td>\n",
       "      <td>4.9</td>\n",
       "      <td>ALC3_0</td>\n",
       "      <td>MEAN</td>\n",
       "      <td>NaN</td>\n",
       "      <td>NaN</td>\n",
       "      <td>Overall</td>\n",
       "    </tr>\n",
       "    <tr>\n",
       "      <th>40962</th>\n",
       "      <td>2013</td>\n",
       "      <td>2013</td>\n",
       "      <td>Michigan</td>\n",
       "      <td>BRFSS</td>\n",
       "      <td>Alcohol</td>\n",
       "      <td>Binge drinking frequency among adults aged &gt;= ...</td>\n",
       "      <td>Number</td>\n",
       "      <td>Mean</td>\n",
       "      <td>4.4</td>\n",
       "      <td>4.4</td>\n",
       "      <td>NaN</td>\n",
       "      <td>NaN</td>\n",
       "      <td>4.1</td>\n",
       "      <td>4.8</td>\n",
       "      <td>ALC3_0</td>\n",
       "      <td>MEAN</td>\n",
       "      <td>NaN</td>\n",
       "      <td>NaN</td>\n",
       "      <td>Overall</td>\n",
       "    </tr>\n",
       "    <tr>\n",
       "      <th>40994</th>\n",
       "      <td>2015</td>\n",
       "      <td>2015</td>\n",
       "      <td>Michigan</td>\n",
       "      <td>BRFSS</td>\n",
       "      <td>Alcohol</td>\n",
       "      <td>Binge drinking frequency among adults aged &gt;= ...</td>\n",
       "      <td>Number</td>\n",
       "      <td>Mean</td>\n",
       "      <td>4.8</td>\n",
       "      <td>4.8</td>\n",
       "      <td>NaN</td>\n",
       "      <td>NaN</td>\n",
       "      <td>4.2</td>\n",
       "      <td>5.4</td>\n",
       "      <td>ALC3_0</td>\n",
       "      <td>MEAN</td>\n",
       "      <td>NaN</td>\n",
       "      <td>NaN</td>\n",
       "      <td>Overall</td>\n",
       "    </tr>\n",
       "    <tr>\n",
       "      <th>41115</th>\n",
       "      <td>2014</td>\n",
       "      <td>2014</td>\n",
       "      <td>Michigan</td>\n",
       "      <td>BRFSS</td>\n",
       "      <td>Alcohol</td>\n",
       "      <td>Binge drinking frequency among adults aged &gt;= ...</td>\n",
       "      <td>Number</td>\n",
       "      <td>Mean</td>\n",
       "      <td>4.5</td>\n",
       "      <td>4.5</td>\n",
       "      <td>NaN</td>\n",
       "      <td>NaN</td>\n",
       "      <td>4.1</td>\n",
       "      <td>4.9</td>\n",
       "      <td>ALC3_0</td>\n",
       "      <td>MEAN</td>\n",
       "      <td>NaN</td>\n",
       "      <td>NaN</td>\n",
       "      <td>Overall</td>\n",
       "    </tr>\n",
       "    <tr>\n",
       "      <th>41118</th>\n",
       "      <td>2016</td>\n",
       "      <td>2016</td>\n",
       "      <td>Michigan</td>\n",
       "      <td>BRFSS</td>\n",
       "      <td>Alcohol</td>\n",
       "      <td>Binge drinking frequency among adults aged &gt;= ...</td>\n",
       "      <td>Number</td>\n",
       "      <td>Mean</td>\n",
       "      <td>4.6</td>\n",
       "      <td>4.6</td>\n",
       "      <td>NaN</td>\n",
       "      <td>NaN</td>\n",
       "      <td>4.2</td>\n",
       "      <td>5.0</td>\n",
       "      <td>ALC3_0</td>\n",
       "      <td>MEAN</td>\n",
       "      <td>NaN</td>\n",
       "      <td>NaN</td>\n",
       "      <td>Overall</td>\n",
       "    </tr>\n",
       "    <tr>\n",
       "      <th>41156</th>\n",
       "      <td>2019</td>\n",
       "      <td>2019</td>\n",
       "      <td>Michigan</td>\n",
       "      <td>BRFSS</td>\n",
       "      <td>Alcohol</td>\n",
       "      <td>Binge drinking frequency among adults aged &gt;= ...</td>\n",
       "      <td>Number</td>\n",
       "      <td>Mean</td>\n",
       "      <td>4.7</td>\n",
       "      <td>4.7</td>\n",
       "      <td>NaN</td>\n",
       "      <td>NaN</td>\n",
       "      <td>4.3</td>\n",
       "      <td>5.1</td>\n",
       "      <td>ALC3_0</td>\n",
       "      <td>MEAN</td>\n",
       "      <td>NaN</td>\n",
       "      <td>NaN</td>\n",
       "      <td>Overall</td>\n",
       "    </tr>\n",
       "    <tr>\n",
       "      <th>41210</th>\n",
       "      <td>2012</td>\n",
       "      <td>2012</td>\n",
       "      <td>Michigan</td>\n",
       "      <td>BRFSS</td>\n",
       "      <td>Alcohol</td>\n",
       "      <td>Binge drinking frequency among adults aged &gt;= ...</td>\n",
       "      <td>Number</td>\n",
       "      <td>Mean</td>\n",
       "      <td>4.3</td>\n",
       "      <td>4.3</td>\n",
       "      <td>NaN</td>\n",
       "      <td>NaN</td>\n",
       "      <td>3.9</td>\n",
       "      <td>4.7</td>\n",
       "      <td>ALC3_0</td>\n",
       "      <td>MEAN</td>\n",
       "      <td>NaN</td>\n",
       "      <td>NaN</td>\n",
       "      <td>Overall</td>\n",
       "    </tr>\n",
       "    <tr>\n",
       "      <th>41423</th>\n",
       "      <td>2020</td>\n",
       "      <td>2020</td>\n",
       "      <td>Michigan</td>\n",
       "      <td>BRFSS</td>\n",
       "      <td>Alcohol</td>\n",
       "      <td>Binge drinking frequency among adults aged &gt;= ...</td>\n",
       "      <td>Number</td>\n",
       "      <td>Mean</td>\n",
       "      <td>5.1</td>\n",
       "      <td>5.1</td>\n",
       "      <td>NaN</td>\n",
       "      <td>NaN</td>\n",
       "      <td>4.5</td>\n",
       "      <td>5.7</td>\n",
       "      <td>ALC3_0</td>\n",
       "      <td>MEAN</td>\n",
       "      <td>NaN</td>\n",
       "      <td>NaN</td>\n",
       "      <td>Overall</td>\n",
       "    </tr>\n",
       "  </tbody>\n",
       "</table>\n",
       "</div>"
      ],
      "text/plain": [
       "       YearStart  YearEnd LocationDesc DataSource    Topic  \\\n",
       "40651       2018     2018     Michigan      BRFSS  Alcohol   \n",
       "40861       2021     2021     Michigan      BRFSS  Alcohol   \n",
       "40936       2017     2017     Michigan      BRFSS  Alcohol   \n",
       "40957       2011     2011     Michigan      BRFSS  Alcohol   \n",
       "40962       2013     2013     Michigan      BRFSS  Alcohol   \n",
       "40994       2015     2015     Michigan      BRFSS  Alcohol   \n",
       "41115       2014     2014     Michigan      BRFSS  Alcohol   \n",
       "41118       2016     2016     Michigan      BRFSS  Alcohol   \n",
       "41156       2019     2019     Michigan      BRFSS  Alcohol   \n",
       "41210       2012     2012     Michigan      BRFSS  Alcohol   \n",
       "41423       2020     2020     Michigan      BRFSS  Alcohol   \n",
       "\n",
       "                                                Question DataValueUnit  \\\n",
       "40651  Binge drinking frequency among adults aged >= ...        Number   \n",
       "40861  Binge drinking frequency among adults aged >= ...        Number   \n",
       "40936  Binge drinking frequency among adults aged >= ...        Number   \n",
       "40957  Binge drinking frequency among adults aged >= ...        Number   \n",
       "40962  Binge drinking frequency among adults aged >= ...        Number   \n",
       "40994  Binge drinking frequency among adults aged >= ...        Number   \n",
       "41115  Binge drinking frequency among adults aged >= ...        Number   \n",
       "41118  Binge drinking frequency among adults aged >= ...        Number   \n",
       "41156  Binge drinking frequency among adults aged >= ...        Number   \n",
       "41210  Binge drinking frequency among adults aged >= ...        Number   \n",
       "41423  Binge drinking frequency among adults aged >= ...        Number   \n",
       "\n",
       "      DataValueType DataValue  DataValueAlt DataValueFootnoteSymbol  \\\n",
       "40651          Mean       4.8           4.8                     NaN   \n",
       "40861          Mean       5.0           5.0                     NaN   \n",
       "40936          Mean       4.5           4.5                     NaN   \n",
       "40957          Mean       4.5           4.5                     NaN   \n",
       "40962          Mean       4.4           4.4                     NaN   \n",
       "40994          Mean       4.8           4.8                     NaN   \n",
       "41115          Mean       4.5           4.5                     NaN   \n",
       "41118          Mean       4.6           4.6                     NaN   \n",
       "41156          Mean       4.7           4.7                     NaN   \n",
       "41210          Mean       4.3           4.3                     NaN   \n",
       "41423          Mean       5.1           5.1                     NaN   \n",
       "\n",
       "      DatavalueFootnote  LowConfidenceLimit  HighConfidenceLimit QuestionID  \\\n",
       "40651               NaN                 4.4                  5.2     ALC3_0   \n",
       "40861               NaN                 4.4                  5.7     ALC3_0   \n",
       "40936               NaN                 4.2                  4.9     ALC3_0   \n",
       "40957               NaN                 4.1                  4.9     ALC3_0   \n",
       "40962               NaN                 4.1                  4.8     ALC3_0   \n",
       "40994               NaN                 4.2                  5.4     ALC3_0   \n",
       "41115               NaN                 4.1                  4.9     ALC3_0   \n",
       "41118               NaN                 4.2                  5.0     ALC3_0   \n",
       "41156               NaN                 4.3                  5.1     ALC3_0   \n",
       "41210               NaN                 3.9                  4.7     ALC3_0   \n",
       "41423               NaN                 4.5                  5.7     ALC3_0   \n",
       "\n",
       "      DataValueTypeID Gender Race/Ethnicity  Overall  \n",
       "40651            MEAN    NaN            NaN  Overall  \n",
       "40861            MEAN    NaN            NaN  Overall  \n",
       "40936            MEAN    NaN            NaN  Overall  \n",
       "40957            MEAN    NaN            NaN  Overall  \n",
       "40962            MEAN    NaN            NaN  Overall  \n",
       "40994            MEAN    NaN            NaN  Overall  \n",
       "41115            MEAN    NaN            NaN  Overall  \n",
       "41118            MEAN    NaN            NaN  Overall  \n",
       "41156            MEAN    NaN            NaN  Overall  \n",
       "41210            MEAN    NaN            NaN  Overall  \n",
       "41423            MEAN    NaN            NaN  Overall  "
      ]
     },
     "execution_count": 116,
     "metadata": {},
     "output_type": "execute_result"
    }
   ],
   "source": [
    "alcohol[(alcohol.DataValueType == 'Mean') & (alcohol.LocationDesc == 'Michigan') & (alcohol.Overall == 'Overall') & (alcohol.Question == 'Binge drinking frequency among adults aged >= 18 years who binge drink')]"
   ]
  },
  {
   "cell_type": "code",
   "execution_count": 119,
   "metadata": {},
   "outputs": [
    {
     "data": {
      "image/png": "[encoded data removed]",
      "text/plain": [
       "<Figure size 640x480 with 1 Axes>"
      ]
     },
     "metadata": {},
     "output_type": "display_data"
    }
   ],
   "source": [
    "alcohol[(alcohol.DataValueType == 'Mean') & (alcohol.LocationDesc == 'Michigan') & (alcohol.Overall == 'Overall') & (alcohol.Question == 'Binge drinking frequency among adults aged >= 18 years who binge drink')].sort_values(by='YearStart').plot(x='YearStart', y='DataValue', kind='line')\n",
    "_ = plt.title('Binge drinking frequency among adults in Michigan over time')"
   ]
  },
  {
   "cell_type": "code",
   "execution_count": 132,
   "metadata": {},
   "outputs": [
    {
     "data": {
      "image/png": "[encoded data removed]",
      "text/plain": [
       "<Figure size 640x480 with 1 Axes>"
      ]
     },
     "metadata": {},
     "output_type": "display_data"
    }
   ],
   "source": [
    "mh_mi = mental_health[(mental_health.DataValueType == 'Mean') & (mental_health.LocationDesc == 'Michigan') & (mental_health.Overall == 'Overall')]\n",
    "al_mi = alcohol[(alcohol.DataValueType == 'Mean') & (alcohol.LocationDesc == 'Michigan') & (alcohol.Overall == 'Overall') & (alcohol.Question == 'Binge drinking frequency among adults aged >= 18 years who binge drink')]\n",
    "mh_mi.merge(al_mi, on='YearStart', suffixes=('_mh', '_al'), how='inner').sort_values(by='YearStart').plot(x='YearStart', y=['DataValue_mh', 'DataValue_al'], kind='line')\n",
    "_ = plt.title('Mean mentally unhealthy days and binge drinking frequency among adults in Michigan over time')"
   ]
  },
  {
   "cell_type": "code",
   "execution_count": 133,
   "metadata": {},
   "outputs": [
    {
     "data": {
      "image/png": "[encoded data removed]",
      "text/plain": [
       "<Figure size 640x480 with 1 Axes>"
      ]
     },
     "metadata": {},
     "output_type": "display_data"
    }
   ],
   "source": [
    "# Assuming your DataFrames are named mh_mi and al_mi\n",
    "mh_mi = mental_health[(mental_health.DataValueType == 'Mean') & (mental_health.LocationDesc == 'Michigan') & (mental_health.Overall == 'Overall')]\n",
    "al_mi = alcohol[(alcohol.DataValueType == 'Mean') & (alcohol.LocationDesc == 'Michigan') & (alcohol.Overall == 'Overall') & (alcohol.Question == 'Binge drinking frequency among adults aged >= 18 years who binge drink')]\n",
    "\n",
    "# Merge the DataFrames\n",
    "merged_df = mh_mi.merge(al_mi, on='YearStart', suffixes=('_mh', '_al'), how='inner').sort_values(by='YearStart')\n",
    "\n",
    "# Create a scatter plot\n",
    "plt.scatter(merged_df['YearStart'], merged_df['DataValue_mh'], label='Mean Mentally Unhealthy Days')\n",
    "plt.scatter(merged_df['YearStart'], merged_df['DataValue_al'], label='Binge Drinking Frequency')\n",
    "plt.xlabel('Year')\n",
    "plt.ylabel('Values')\n",
    "plt.title('Scatter Plot of Mean mentally unhealthy days and binge drinking frequency among adults in Michigan over time')\n",
    "plt.legend()\n",
    "plt.show()"
   ]
  }
 ],
 "metadata": {
  "kernelspec": {
   "display_name": ".venv",
   "language": "python",
   "name": "python3"
  },
  "language_info": {
   "codemirror_mode": {
    "name": "ipython",
    "version": 3
   },
   "file_extension": ".py",
   "mimetype": "text/x-python",
   "name": "python",
   "nbconvert_exporter": "python",
   "pygments_lexer": "ipython3",
   "version": "3.10.5"
  }
 },
 "nbformat": 4,
 "nbformat_minor": 2
}
