{
 "cells": [
  {
   "cell_type": "markdown",
   "metadata": {},
   "source": [
    "# SI 618 Project Description"
   ]
  },
  {
   "cell_type": "markdown",
   "metadata": {},
   "source": [
    "## Project Title\n",
    "\n",
    "US Chronic Disease Indicators looking at Mental Health and alcohol use and reproductive health trends\n",
    "\n",
    "## Team Members\n",
    "\n",
    "- Lizett, Lizett Aguilar\n",
    "- Saraizas, Shirley Araiza Santaella\n",
    "- JRmcmill, Jonathan McMillan\n",
    "\n",
    "## Overview\n",
    "\n",
    "This project will explore three different Chronic Disease Indicators from the Centers for Disease Control (CDC). We are interested in seeing trends and patterns related to mental health, alcohol use among youth, and reproductive healthcare access.\n",
    "\n"
   ]
  },
  {
   "cell_type": "markdown",
   "metadata": {},
   "source": [
    "## Motivation\n",
    "\n",
    "These three data sets are from the Centers for Disease Control (CDC) US Chronic Disease Indicators, which are a set of agreed upon surveillance indicators for state and national public health agencies. These indicators are collected from a series of other data collection programs and compiled based on the indicator. The CDI is composed of 124 different indicators. According to the CDC, “18 topic groups: alcohol; arthritis; asthma; cancer; cardiovascular disease; chronic kidney disease; chronic obstructive pulmonary disease; diabetes; immunization; nutrition, physical activity, and weight status; oral health; tobacco; overarching conditions; and new topic areas that include disability, mental health, older adults, reproductive health, and school health. For the first time, CDI includes 22 indicators of systems and environmental change. A total of 201 individual measures are included for the 124 indicators, many of which overlap multiple chronic disease topic areas or are specific to a certain sex or age group.”\n",
    "\n",
    "Citations:\n",
    "\n",
    "Chronic disease Indicators, Overview. Centers for Disease Control. August 3rd, 2021. National Center for Chronic Disease Prevention and Health Promotion. https://www.cdc.gov/cdi/overview.html \n",
    "\n",
    "\n"
   ]
  },
  {
   "cell_type": "markdown",
   "metadata": {},
   "source": [
    "We chose the CDI data sets about: \n",
    "- Mental Health \n",
    "- Alcohol use \n",
    "- Reproductive Health \n",
    "\n",
    "Possible Questions: \n",
    "- How do negative mental health indicators correlate to the use of alcohol among youth?\n",
    "- How does access to reproductive healthcare relate to mental health indicators?\n",
    "- How does mental health, reproductive health care, and alcohol use among youth vary across states and demographics?\n",
    "\n",
    "We are interested in exploring any potential relationships between mental health outcomes for youth and issues related to high risk activities such as alcohol use, as well as perceptions and access related to reproductive health outcomes. We are interested in exploring these particular issues with recent reports finding that youth substance use is linked to mental health distress. Although the data available about youth substance abuse that we were able to find didn't correspond as well with out current data sets we hope to find any patterns of those relationships in adult self reporting datasets. Additionally, we are interested in seeing if there are any relationships with mental health indicators and access to reproductive healthcare access, as access to care continues to face variation and volatility based on state contexts. In a recent report from the CDC as reported in the Associated press, “Mental health conditions were the leading underlying cause of pregnancy-related deaths from 2017 to 2019 with nearly 23% of pregnancy-related deaths attributed to mental health conditions, including suicides and overdoses from substance use disorders.”\n",
    "Using mental health as an overarching theme, we intend to parse through any potential relationships with other significant public health measures, especially with these three areas finding increasing relevance in the current American healthcare context.\n",
    "\n",
    "- Richtel, Matt. Teen Drug and Alcohol Use Linked to Mental Health Distress. New York Times. January 29th, 2024. https://www.nytimes.com/2024/01/29/health/teens-drugs-alcohol-mental-health.html\n",
    "\n",
    "- Fernando, Christine. Mental health emerges as a dividing line in abortion rights initiatives planned for state ballots. February 13th, 2024. Associated Press. https://apnews.com/article/abortion-mental-health-ballot-maryland-missouri-arizona-6268ec88d1638009128b55fc56e3610c \n",
    "\n",
    "- Zaks, Nina. et al. Association Between Mental Health and Reproductive System Disorders in Women. Journal of the American Medical Association (JAMA). April 18th, 2023, 6(4): e238685. doi: 10.1001/jamanetworkopen.2023.8685\n",
    "\n"
   ]
  },
  {
   "cell_type": "markdown",
   "metadata": {},
   "source": [
    "## Data Sources\n",
    "\n",
    "We chose these three particular subsets of data due to the similarities in their structure. We are expected to be able to merge them with minimal risk of compromise to the data integrity.\n",
    "\n",
    "- https://data.cdc.gov/Chronic-Disease-Indicators/U-S-Chronic-Disease-Indicators-Mental-Health/ixrt-gnsg/about_data\n",
    "- https://data.cdc.gov/Chronic-Disease-Indicators/U-S-Chronic-Disease-Indicators-Alcohol-use-among-y/y4cx-ipur/about_data\n",
    "- https://data.cdc.gov/Chronic-Disease-Indicators/U-S-Chronic-Disease-Indicators-Reproductive-Health/xrn9-9eas/about_data"
   ]
  },
  {
   "cell_type": "markdown",
   "metadata": {},
   "source": [
    "## Data Description and Manipulation"
   ]
  },
  {
   "cell_type": "markdown",
   "metadata": {},
   "source": [
    "#### Imports for reading data, plotting, etc."
   ]
  },
  {
   "cell_type": "code",
   "execution_count": 340,
   "metadata": {},
   "outputs": [],
   "source": [
    "import pandas as pd\n",
    "from numpy import NaN\n",
    "from matplotlib import pyplot as plt"
   ]
  },
  {
   "cell_type": "markdown",
   "metadata": {},
   "source": [
    "#### Read in the data"
   ]
  },
  {
   "cell_type": "code",
   "execution_count": 341,
   "metadata": {},
   "outputs": [
    {
     "name": "stderr",
     "output_type": "stream",
     "text": [
      "/var/folders/6t/t91z119x51q_lpb_lspp0sjw0000gn/T/ipykernel_64832/655771790.py:2: DtypeWarning: Columns (10) have mixed types. Specify dtype option on import or set low_memory=False.\n",
      "  alcohol = pd.read_csv('data/U.S._Chronic_Disease_Indicators__Alcohol_20240217.csv')\n"
     ]
    }
   ],
   "source": [
    "mental_health = pd.read_csv('data/U.S._Chronic_Disease_Indicators__Mental_Health_20240217.csv')\n",
    "alcohol = pd.read_csv('data/U.S._Chronic_Disease_Indicators__Alcohol_20240217.csv')\n",
    "reproductive_health = pd.read_csv('data/U.S._Chronic_Disease_Indicators__Reproductive_Health_20240219.csv')"
   ]
  },
  {
   "cell_type": "code",
   "execution_count": 342,
   "metadata": {},
   "outputs": [
    {
     "data": {
      "text/html": [
       "<div>\n",
       "<style scoped>\n",
       "    .dataframe tbody tr th:only-of-type {\n",
       "        vertical-align: middle;\n",
       "    }\n",
       "\n",
       "    .dataframe tbody tr th {\n",
       "        vertical-align: top;\n",
       "    }\n",
       "\n",
       "    .dataframe thead th {\n",
       "        text-align: right;\n",
       "    }\n",
       "</style>\n",
       "<table border=\"1\" class=\"dataframe\">\n",
       "  <thead>\n",
       "    <tr style=\"text-align: right;\">\n",
       "      <th></th>\n",
       "      <th>YearStart</th>\n",
       "      <th>YearEnd</th>\n",
       "      <th>LocationAbbr</th>\n",
       "      <th>LocationDesc</th>\n",
       "      <th>DataSource</th>\n",
       "      <th>Topic</th>\n",
       "      <th>Question</th>\n",
       "      <th>Response</th>\n",
       "      <th>DataValueUnit</th>\n",
       "      <th>DataValueType</th>\n",
       "      <th>...</th>\n",
       "      <th>LocationID</th>\n",
       "      <th>TopicID</th>\n",
       "      <th>QuestionID</th>\n",
       "      <th>DataValueTypeID</th>\n",
       "      <th>StratificationCategoryID1</th>\n",
       "      <th>StratificationID1</th>\n",
       "      <th>StratificationCategoryID2</th>\n",
       "      <th>StratificationID2</th>\n",
       "      <th>StratificationCategoryID3</th>\n",
       "      <th>StratificationID3</th>\n",
       "    </tr>\n",
       "  </thead>\n",
       "  <tbody>\n",
       "    <tr>\n",
       "      <th>0</th>\n",
       "      <td>2018</td>\n",
       "      <td>2018</td>\n",
       "      <td>NV</td>\n",
       "      <td>Nevada</td>\n",
       "      <td>BRFSS</td>\n",
       "      <td>Mental Health</td>\n",
       "      <td>At least 14 recent mentally unhealthy days amo...</td>\n",
       "      <td>NaN</td>\n",
       "      <td>%</td>\n",
       "      <td>Crude Prevalence</td>\n",
       "      <td>...</td>\n",
       "      <td>32</td>\n",
       "      <td>MTH</td>\n",
       "      <td>MTH2_0</td>\n",
       "      <td>CRDPREV</td>\n",
       "      <td>OVERALL</td>\n",
       "      <td>OVR</td>\n",
       "      <td>NaN</td>\n",
       "      <td>NaN</td>\n",
       "      <td>NaN</td>\n",
       "      <td>NaN</td>\n",
       "    </tr>\n",
       "    <tr>\n",
       "      <th>1</th>\n",
       "      <td>2020</td>\n",
       "      <td>2020</td>\n",
       "      <td>NV</td>\n",
       "      <td>Nevada</td>\n",
       "      <td>BRFSS</td>\n",
       "      <td>Mental Health</td>\n",
       "      <td>Recent mentally unhealthy days among adults ag...</td>\n",
       "      <td>NaN</td>\n",
       "      <td>Number</td>\n",
       "      <td>Mean</td>\n",
       "      <td>...</td>\n",
       "      <td>32</td>\n",
       "      <td>MTH</td>\n",
       "      <td>MTH1_0</td>\n",
       "      <td>MEAN</td>\n",
       "      <td>RACE</td>\n",
       "      <td>BLK</td>\n",
       "      <td>NaN</td>\n",
       "      <td>NaN</td>\n",
       "      <td>NaN</td>\n",
       "      <td>NaN</td>\n",
       "    </tr>\n",
       "  </tbody>\n",
       "</table>\n",
       "<p>2 rows × 33 columns</p>\n",
       "</div>"
      ],
      "text/plain": [
       "   YearStart  YearEnd LocationAbbr LocationDesc DataSource          Topic  \\\n",
       "0       2018     2018           NV       Nevada      BRFSS  Mental Health   \n",
       "1       2020     2020           NV       Nevada      BRFSS  Mental Health   \n",
       "\n",
       "                                            Question  Response DataValueUnit  \\\n",
       "0  At least 14 recent mentally unhealthy days amo...       NaN             %   \n",
       "1  Recent mentally unhealthy days among adults ag...       NaN        Number   \n",
       "\n",
       "      DataValueType  ...  LocationID  TopicID QuestionID DataValueTypeID  \\\n",
       "0  Crude Prevalence  ...          32      MTH     MTH2_0         CRDPREV   \n",
       "1              Mean  ...          32      MTH     MTH1_0            MEAN   \n",
       "\n",
       "   StratificationCategoryID1  StratificationID1 StratificationCategoryID2  \\\n",
       "0                    OVERALL                OVR                       NaN   \n",
       "1                       RACE                BLK                       NaN   \n",
       "\n",
       "  StratificationID2  StratificationCategoryID3  StratificationID3  \n",
       "0               NaN                        NaN                NaN  \n",
       "1               NaN                        NaN                NaN  \n",
       "\n",
       "[2 rows x 33 columns]"
      ]
     },
     "execution_count": 342,
     "metadata": {},
     "output_type": "execute_result"
    }
   ],
   "source": [
    "mental_health.head(2)"
   ]
  },
  {
   "cell_type": "code",
   "execution_count": 343,
   "metadata": {},
   "outputs": [
    {
     "data": {
      "text/html": [
       "<div>\n",
       "<style scoped>\n",
       "    .dataframe tbody tr th:only-of-type {\n",
       "        vertical-align: middle;\n",
       "    }\n",
       "\n",
       "    .dataframe tbody tr th {\n",
       "        vertical-align: top;\n",
       "    }\n",
       "\n",
       "    .dataframe thead th {\n",
       "        text-align: right;\n",
       "    }\n",
       "</style>\n",
       "<table border=\"1\" class=\"dataframe\">\n",
       "  <thead>\n",
       "    <tr style=\"text-align: right;\">\n",
       "      <th></th>\n",
       "      <th>YearStart</th>\n",
       "      <th>YearEnd</th>\n",
       "      <th>LocationAbbr</th>\n",
       "      <th>LocationDesc</th>\n",
       "      <th>DataSource</th>\n",
       "      <th>Topic</th>\n",
       "      <th>Question</th>\n",
       "      <th>Response</th>\n",
       "      <th>DataValueUnit</th>\n",
       "      <th>DataValueType</th>\n",
       "      <th>...</th>\n",
       "      <th>LocationID</th>\n",
       "      <th>TopicID</th>\n",
       "      <th>QuestionID</th>\n",
       "      <th>DataValueTypeID</th>\n",
       "      <th>StratificationCategoryID1</th>\n",
       "      <th>StratificationID1</th>\n",
       "      <th>StratificationCategoryID2</th>\n",
       "      <th>StratificationID2</th>\n",
       "      <th>StratificationCategoryID3</th>\n",
       "      <th>StratificationID3</th>\n",
       "    </tr>\n",
       "  </thead>\n",
       "  <tbody>\n",
       "    <tr>\n",
       "      <th>0</th>\n",
       "      <td>2019</td>\n",
       "      <td>2019</td>\n",
       "      <td>AZ</td>\n",
       "      <td>Arizona</td>\n",
       "      <td>YRBSS</td>\n",
       "      <td>Alcohol</td>\n",
       "      <td>Alcohol use among youth</td>\n",
       "      <td>NaN</td>\n",
       "      <td>%</td>\n",
       "      <td>Crude Prevalence</td>\n",
       "      <td>...</td>\n",
       "      <td>4</td>\n",
       "      <td>ALC</td>\n",
       "      <td>ALC1_1</td>\n",
       "      <td>CRDPREV</td>\n",
       "      <td>GENDER</td>\n",
       "      <td>GENF</td>\n",
       "      <td>NaN</td>\n",
       "      <td>NaN</td>\n",
       "      <td>NaN</td>\n",
       "      <td>NaN</td>\n",
       "    </tr>\n",
       "    <tr>\n",
       "      <th>1</th>\n",
       "      <td>2019</td>\n",
       "      <td>2019</td>\n",
       "      <td>OH</td>\n",
       "      <td>Ohio</td>\n",
       "      <td>YRBSS</td>\n",
       "      <td>Alcohol</td>\n",
       "      <td>Alcohol use among youth</td>\n",
       "      <td>NaN</td>\n",
       "      <td>%</td>\n",
       "      <td>Crude Prevalence</td>\n",
       "      <td>...</td>\n",
       "      <td>39</td>\n",
       "      <td>ALC</td>\n",
       "      <td>ALC1_1</td>\n",
       "      <td>CRDPREV</td>\n",
       "      <td>GENDER</td>\n",
       "      <td>GENM</td>\n",
       "      <td>NaN</td>\n",
       "      <td>NaN</td>\n",
       "      <td>NaN</td>\n",
       "      <td>NaN</td>\n",
       "    </tr>\n",
       "  </tbody>\n",
       "</table>\n",
       "<p>2 rows × 33 columns</p>\n",
       "</div>"
      ],
      "text/plain": [
       "   YearStart  YearEnd LocationAbbr LocationDesc DataSource    Topic  \\\n",
       "0       2019     2019           AZ      Arizona      YRBSS  Alcohol   \n",
       "1       2019     2019           OH         Ohio      YRBSS  Alcohol   \n",
       "\n",
       "                  Question  Response DataValueUnit     DataValueType  ...  \\\n",
       "0  Alcohol use among youth       NaN             %  Crude Prevalence  ...   \n",
       "1  Alcohol use among youth       NaN             %  Crude Prevalence  ...   \n",
       "\n",
       "  LocationID  TopicID QuestionID DataValueTypeID  StratificationCategoryID1  \\\n",
       "0          4      ALC     ALC1_1         CRDPREV                     GENDER   \n",
       "1         39      ALC     ALC1_1         CRDPREV                     GENDER   \n",
       "\n",
       "   StratificationID1 StratificationCategoryID2 StratificationID2  \\\n",
       "0               GENF                       NaN               NaN   \n",
       "1               GENM                       NaN               NaN   \n",
       "\n",
       "   StratificationCategoryID3  StratificationID3  \n",
       "0                        NaN                NaN  \n",
       "1                        NaN                NaN  \n",
       "\n",
       "[2 rows x 33 columns]"
      ]
     },
     "execution_count": 343,
     "metadata": {},
     "output_type": "execute_result"
    }
   ],
   "source": [
    "alcohol.head(2)"
   ]
  },
  {
   "cell_type": "code",
   "execution_count": 344,
   "metadata": {},
   "outputs": [
    {
     "data": {
      "text/html": [
       "<div>\n",
       "<style scoped>\n",
       "    .dataframe tbody tr th:only-of-type {\n",
       "        vertical-align: middle;\n",
       "    }\n",
       "\n",
       "    .dataframe tbody tr th {\n",
       "        vertical-align: top;\n",
       "    }\n",
       "\n",
       "    .dataframe thead th {\n",
       "        text-align: right;\n",
       "    }\n",
       "</style>\n",
       "<table border=\"1\" class=\"dataframe\">\n",
       "  <thead>\n",
       "    <tr style=\"text-align: right;\">\n",
       "      <th></th>\n",
       "      <th>YearStart</th>\n",
       "      <th>YearEnd</th>\n",
       "      <th>LocationAbbr</th>\n",
       "      <th>LocationDesc</th>\n",
       "      <th>DataSource</th>\n",
       "      <th>Topic</th>\n",
       "      <th>Question</th>\n",
       "      <th>Response</th>\n",
       "      <th>DataValueUnit</th>\n",
       "      <th>DataValueType</th>\n",
       "      <th>...</th>\n",
       "      <th>LocationID</th>\n",
       "      <th>TopicID</th>\n",
       "      <th>QuestionID</th>\n",
       "      <th>DataValueTypeID</th>\n",
       "      <th>StratificationCategoryID1</th>\n",
       "      <th>StratificationID1</th>\n",
       "      <th>StratificationCategoryID2</th>\n",
       "      <th>StratificationID2</th>\n",
       "      <th>StratificationCategoryID3</th>\n",
       "      <th>StratificationID3</th>\n",
       "    </tr>\n",
       "  </thead>\n",
       "  <tbody>\n",
       "    <tr>\n",
       "      <th>0</th>\n",
       "      <td>2012</td>\n",
       "      <td>2012</td>\n",
       "      <td>NV</td>\n",
       "      <td>Nevada</td>\n",
       "      <td>BRFSS</td>\n",
       "      <td>Reproductive Health</td>\n",
       "      <td>Timeliness of routine health care checkup amon...</td>\n",
       "      <td>NaN</td>\n",
       "      <td>%</td>\n",
       "      <td>Crude Prevalence</td>\n",
       "      <td>...</td>\n",
       "      <td>32</td>\n",
       "      <td>RPH</td>\n",
       "      <td>RPH1_0</td>\n",
       "      <td>CRDPREV</td>\n",
       "      <td>OVERALL</td>\n",
       "      <td>OVR</td>\n",
       "      <td>NaN</td>\n",
       "      <td>NaN</td>\n",
       "      <td>NaN</td>\n",
       "      <td>NaN</td>\n",
       "    </tr>\n",
       "    <tr>\n",
       "      <th>1</th>\n",
       "      <td>2016</td>\n",
       "      <td>2016</td>\n",
       "      <td>NE</td>\n",
       "      <td>Nebraska</td>\n",
       "      <td>BRFSS</td>\n",
       "      <td>Reproductive Health</td>\n",
       "      <td>Timeliness of routine health care checkup amon...</td>\n",
       "      <td>NaN</td>\n",
       "      <td>%</td>\n",
       "      <td>Crude Prevalence</td>\n",
       "      <td>...</td>\n",
       "      <td>31</td>\n",
       "      <td>RPH</td>\n",
       "      <td>RPH1_0</td>\n",
       "      <td>CRDPREV</td>\n",
       "      <td>RACE</td>\n",
       "      <td>HIS</td>\n",
       "      <td>NaN</td>\n",
       "      <td>NaN</td>\n",
       "      <td>NaN</td>\n",
       "      <td>NaN</td>\n",
       "    </tr>\n",
       "  </tbody>\n",
       "</table>\n",
       "<p>2 rows × 33 columns</p>\n",
       "</div>"
      ],
      "text/plain": [
       "   YearStart  YearEnd LocationAbbr LocationDesc DataSource  \\\n",
       "0       2012     2012           NV       Nevada      BRFSS   \n",
       "1       2016     2016           NE     Nebraska      BRFSS   \n",
       "\n",
       "                 Topic                                           Question  \\\n",
       "0  Reproductive Health  Timeliness of routine health care checkup amon...   \n",
       "1  Reproductive Health  Timeliness of routine health care checkup amon...   \n",
       "\n",
       "   Response DataValueUnit     DataValueType  ...  LocationID  TopicID  \\\n",
       "0       NaN             %  Crude Prevalence  ...          32      RPH   \n",
       "1       NaN             %  Crude Prevalence  ...          31      RPH   \n",
       "\n",
       "  QuestionID DataValueTypeID  StratificationCategoryID1  StratificationID1  \\\n",
       "0     RPH1_0         CRDPREV                    OVERALL                OVR   \n",
       "1     RPH1_0         CRDPREV                       RACE                HIS   \n",
       "\n",
       "  StratificationCategoryID2 StratificationID2  StratificationCategoryID3  \\\n",
       "0                       NaN               NaN                        NaN   \n",
       "1                       NaN               NaN                        NaN   \n",
       "\n",
       "   StratificationID3  \n",
       "0                NaN  \n",
       "1                NaN  \n",
       "\n",
       "[2 rows x 33 columns]"
      ]
     },
     "execution_count": 344,
     "metadata": {},
     "output_type": "execute_result"
    }
   ],
   "source": [
    "reproductive_health.head(2)"
   ]
  },
  {
   "cell_type": "markdown",
   "metadata": {},
   "source": [
    "#### Investigate sizes"
   ]
  },
  {
   "cell_type": "code",
   "execution_count": 345,
   "metadata": {},
   "outputs": [
    {
     "name": "stdout",
     "output_type": "stream",
     "text": [
      "(13200, 33)\n",
      "\n",
      "(66091, 33)\n",
      "\n",
      "(9086, 33)\n",
      "\n"
     ]
    }
   ],
   "source": [
    "for df in [mental_health, alcohol, reproductive_health]:\n",
    "    print(df.shape)\n",
    "    print()"
   ]
  },
  {
   "cell_type": "markdown",
   "metadata": {},
   "source": [
    "We can see all three data sets have 33 columns, and thousands of rows."
   ]
  },
  {
   "cell_type": "markdown",
   "metadata": {},
   "source": [
    "#### Investigate columns of interest"
   ]
  },
  {
   "cell_type": "code",
   "execution_count": 346,
   "metadata": {},
   "outputs": [
    {
     "name": "stdout",
     "output_type": "stream",
     "text": [
      "[2009, 2011, 2012, 2013, 2014, 2015, 2016, 2017, 2018, 2019, 2020, 2021]\n",
      "[2011, 2012, 2013, 2014, 2015, 2016, 2017, 2018, 2019, 2020, 2021]\n",
      "\n",
      "[2010, 2011, 2012, 2013, 2014, 2015, 2016, 2017, 2018, 2019, 2020, 2021]\n",
      "[2010, 2011, 2012, 2013, 2014, 2015, 2016, 2017, 2018, 2019, 2020, 2021]\n",
      "\n",
      "[2011, 2012, 2013, 2014, 2015, 2016, 2017, 2018, 2019, 2020, 2021]\n",
      "[2011, 2012, 2013, 2014, 2015, 2016, 2017, 2018, 2019, 2020, 2021]\n",
      "\n"
     ]
    }
   ],
   "source": [
    "# let's see what years we have data for\n",
    "for df in [mental_health, alcohol, reproductive_health]:\n",
    "    print(sorted(df.YearStart.unique()))\n",
    "    print(sorted(df.YearEnd.unique()))\n",
    "    print()"
   ]
  },
  {
   "cell_type": "code",
   "execution_count": 347,
   "metadata": {},
   "outputs": [
    {
     "name": "stdout",
     "output_type": "stream",
     "text": [
      "['BRFSS', 'PRAMS']\n",
      "\n",
      "['AEDS', 'APIS', 'BRFSS', 'Legal Research', 'NVSS', 'PRAMS', 'YRBSS']\n",
      "\n",
      "['BRFSS', 'PRAMS']\n",
      "\n"
     ]
    }
   ],
   "source": [
    "# let's see what sources we have data for\n",
    "for df in [mental_health, alcohol, reproductive_health]:\n",
    "    print(sorted(df.DataSource.unique()))\n",
    "    print()"
   ]
  },
  {
   "cell_type": "code",
   "execution_count": 348,
   "metadata": {},
   "outputs": [
    {
     "name": "stdout",
     "output_type": "stream",
     "text": [
      "['Gender', 'Overall', 'Race/Ethnicity']\n",
      "['Black, non-Hispanic', 'Female', 'Hispanic', 'Male', 'Multiracial, non-Hispanic', 'Other, non-Hispanic', 'Overall', 'White, non-Hispanic']\n",
      "\n",
      "['Gender', 'Overall', 'Race/Ethnicity']\n",
      "['American Indian or Alaska Native', 'Asian or Pacific Islander', 'Asian, non-Hispanic', 'Black, non-Hispanic', 'Female', 'Hispanic', 'Male', 'Multiracial, non-Hispanic', 'Other, non-Hispanic', 'Overall', 'White, non-Hispanic']\n",
      "\n",
      "['Overall', 'Race/Ethnicity']\n",
      "['American Indian or Alaska Native', 'Asian or Pacific Islander', 'Black, non-Hispanic', 'Hispanic', 'Multiracial, non-Hispanic', 'Other, non-Hispanic', 'Overall', 'White, non-Hispanic']\n",
      "\n"
     ]
    }
   ],
   "source": [
    "# let's see what demographics we have data for\n",
    "for df in [mental_health, alcohol, reproductive_health]:\n",
    "    print(sorted(df.StratificationCategory1.unique()))\n",
    "    print(sorted(df.Stratification1.unique()))\n",
    "    print()"
   ]
  },
  {
   "cell_type": "markdown",
   "metadata": {},
   "source": [
    "#### None for the 2nd and 3rd demographic categories:"
   ]
  },
  {
   "cell_type": "code",
   "execution_count": 349,
   "metadata": {},
   "outputs": [
    {
     "name": "stdout",
     "output_type": "stream",
     "text": [
      "[nan]\n",
      "[nan]\n",
      "\n",
      "[nan]\n",
      "[nan]\n",
      "\n",
      "[nan]\n",
      "[nan]\n",
      "\n"
     ]
    }
   ],
   "source": [
    "for df in [mental_health, alcohol, reproductive_health]:\n",
    "    print(sorted(df.StratificationCategory2.unique()))\n",
    "    print(sorted(df.Stratification2.unique()))\n",
    "    print()"
   ]
  },
  {
   "cell_type": "code",
   "execution_count": 350,
   "metadata": {},
   "outputs": [
    {
     "name": "stdout",
     "output_type": "stream",
     "text": [
      "[nan]\n",
      "[nan]\n",
      "\n",
      "[nan]\n",
      "[nan]\n",
      "\n",
      "[nan]\n",
      "[nan]\n",
      "\n"
     ]
    }
   ],
   "source": [
    "for df in [mental_health, alcohol, reproductive_health]:\n",
    "    print(sorted(df.StratificationCategory3.unique()))\n",
    "    print(sorted(df.Stratification3.unique()))\n",
    "    print()"
   ]
  },
  {
   "cell_type": "markdown",
   "metadata": {},
   "source": [
    "#### Expanding the StratificationCategory1 column"
   ]
  },
  {
   "cell_type": "code",
   "execution_count": 351,
   "metadata": {},
   "outputs": [],
   "source": [
    "for df in [mental_health, alcohol]:\n",
    "    df['Gender'] = df.apply(lambda row: row.Stratification1 if row.StratificationCategory1 == 'Gender' else NaN, axis=1)"
   ]
  },
  {
   "cell_type": "code",
   "execution_count": 352,
   "metadata": {},
   "outputs": [],
   "source": [
    "for df in [mental_health, alcohol, reproductive_health]:\n",
    "    df['Race/Ethnicity'] = df.apply(lambda row: row.Stratification1 if row.StratificationCategory1 == 'Race/Ethnicity' else NaN, axis=1)"
   ]
  },
  {
   "cell_type": "code",
   "execution_count": 353,
   "metadata": {},
   "outputs": [],
   "source": [
    "for df in [mental_health, alcohol, reproductive_health]:\n",
    "    df['Overall'] = df.apply(lambda row: row.Stratification1 if row.StratificationCategory1 == 'Overall' else NaN, axis=1)"
   ]
  },
  {
   "cell_type": "code",
   "execution_count": 354,
   "metadata": {},
   "outputs": [],
   "source": [
    "# drop repetitive Stratification columns\n",
    "drop_cols = ['StratificationCategory1', 'Stratification1', 'StratificationCategory2', 'Stratification2', 'StratificationCategory3', 'Stratification3', 'StratificationCategoryID1', 'StratificationID1', 'StratificationCategoryID2', 'StratificationID2', 'StratificationCategoryID3', 'StratificationID3']\n",
    "\n",
    "for df in [mental_health, alcohol, reproductive_health]:\n",
    "    df.drop(drop_cols, axis=1, inplace=True)"
   ]
  },
  {
   "cell_type": "code",
   "execution_count": 355,
   "metadata": {},
   "outputs": [
    {
     "data": {
      "text/html": [
       "<div>\n",
       "<style scoped>\n",
       "    .dataframe tbody tr th:only-of-type {\n",
       "        vertical-align: middle;\n",
       "    }\n",
       "\n",
       "    .dataframe tbody tr th {\n",
       "        vertical-align: top;\n",
       "    }\n",
       "\n",
       "    .dataframe thead th {\n",
       "        text-align: right;\n",
       "    }\n",
       "</style>\n",
       "<table border=\"1\" class=\"dataframe\">\n",
       "  <thead>\n",
       "    <tr style=\"text-align: right;\">\n",
       "      <th></th>\n",
       "      <th>YearStart</th>\n",
       "      <th>YearEnd</th>\n",
       "      <th>LocationAbbr</th>\n",
       "      <th>LocationDesc</th>\n",
       "      <th>DataSource</th>\n",
       "      <th>Topic</th>\n",
       "      <th>Question</th>\n",
       "      <th>Response</th>\n",
       "      <th>DataValueUnit</th>\n",
       "      <th>DataValueType</th>\n",
       "      <th>...</th>\n",
       "      <th>LowConfidenceLimit</th>\n",
       "      <th>HighConfidenceLimit</th>\n",
       "      <th>ResponseID</th>\n",
       "      <th>LocationID</th>\n",
       "      <th>TopicID</th>\n",
       "      <th>QuestionID</th>\n",
       "      <th>DataValueTypeID</th>\n",
       "      <th>Gender</th>\n",
       "      <th>Race/Ethnicity</th>\n",
       "      <th>Overall</th>\n",
       "    </tr>\n",
       "  </thead>\n",
       "  <tbody>\n",
       "    <tr>\n",
       "      <th>0</th>\n",
       "      <td>2018</td>\n",
       "      <td>2018</td>\n",
       "      <td>NV</td>\n",
       "      <td>Nevada</td>\n",
       "      <td>BRFSS</td>\n",
       "      <td>Mental Health</td>\n",
       "      <td>At least 14 recent mentally unhealthy days amo...</td>\n",
       "      <td>NaN</td>\n",
       "      <td>%</td>\n",
       "      <td>Crude Prevalence</td>\n",
       "      <td>...</td>\n",
       "      <td>17.2</td>\n",
       "      <td>26.8</td>\n",
       "      <td>NaN</td>\n",
       "      <td>32</td>\n",
       "      <td>MTH</td>\n",
       "      <td>MTH2_0</td>\n",
       "      <td>CRDPREV</td>\n",
       "      <td>NaN</td>\n",
       "      <td>NaN</td>\n",
       "      <td>Overall</td>\n",
       "    </tr>\n",
       "    <tr>\n",
       "      <th>1</th>\n",
       "      <td>2020</td>\n",
       "      <td>2020</td>\n",
       "      <td>NV</td>\n",
       "      <td>Nevada</td>\n",
       "      <td>BRFSS</td>\n",
       "      <td>Mental Health</td>\n",
       "      <td>Recent mentally unhealthy days among adults ag...</td>\n",
       "      <td>NaN</td>\n",
       "      <td>Number</td>\n",
       "      <td>Mean</td>\n",
       "      <td>...</td>\n",
       "      <td>2.4</td>\n",
       "      <td>5.8</td>\n",
       "      <td>NaN</td>\n",
       "      <td>32</td>\n",
       "      <td>MTH</td>\n",
       "      <td>MTH1_0</td>\n",
       "      <td>MEAN</td>\n",
       "      <td>NaN</td>\n",
       "      <td>Black, non-Hispanic</td>\n",
       "      <td>NaN</td>\n",
       "    </tr>\n",
       "    <tr>\n",
       "      <th>2</th>\n",
       "      <td>2018</td>\n",
       "      <td>2018</td>\n",
       "      <td>NV</td>\n",
       "      <td>Nevada</td>\n",
       "      <td>BRFSS</td>\n",
       "      <td>Mental Health</td>\n",
       "      <td>Recent mentally unhealthy days among adults ag...</td>\n",
       "      <td>NaN</td>\n",
       "      <td>Number</td>\n",
       "      <td>Mean</td>\n",
       "      <td>...</td>\n",
       "      <td>4.4</td>\n",
       "      <td>5.6</td>\n",
       "      <td>NaN</td>\n",
       "      <td>32</td>\n",
       "      <td>MTH</td>\n",
       "      <td>MTH1_0</td>\n",
       "      <td>MEAN</td>\n",
       "      <td>Female</td>\n",
       "      <td>NaN</td>\n",
       "      <td>NaN</td>\n",
       "    </tr>\n",
       "  </tbody>\n",
       "</table>\n",
       "<p>3 rows × 24 columns</p>\n",
       "</div>"
      ],
      "text/plain": [
       "   YearStart  YearEnd LocationAbbr LocationDesc DataSource          Topic  \\\n",
       "0       2018     2018           NV       Nevada      BRFSS  Mental Health   \n",
       "1       2020     2020           NV       Nevada      BRFSS  Mental Health   \n",
       "2       2018     2018           NV       Nevada      BRFSS  Mental Health   \n",
       "\n",
       "                                            Question  Response DataValueUnit  \\\n",
       "0  At least 14 recent mentally unhealthy days amo...       NaN             %   \n",
       "1  Recent mentally unhealthy days among adults ag...       NaN        Number   \n",
       "2  Recent mentally unhealthy days among adults ag...       NaN        Number   \n",
       "\n",
       "      DataValueType  ...  LowConfidenceLimit  HighConfidenceLimit ResponseID  \\\n",
       "0  Crude Prevalence  ...                17.2                 26.8        NaN   \n",
       "1              Mean  ...                 2.4                  5.8        NaN   \n",
       "2              Mean  ...                 4.4                  5.6        NaN   \n",
       "\n",
       "  LocationID  TopicID  QuestionID  DataValueTypeID  Gender  \\\n",
       "0         32      MTH      MTH2_0          CRDPREV     NaN   \n",
       "1         32      MTH      MTH1_0             MEAN     NaN   \n",
       "2         32      MTH      MTH1_0             MEAN  Female   \n",
       "\n",
       "        Race/Ethnicity  Overall  \n",
       "0                  NaN  Overall  \n",
       "1  Black, non-Hispanic      NaN  \n",
       "2                  NaN      NaN  \n",
       "\n",
       "[3 rows x 24 columns]"
      ]
     },
     "execution_count": 355,
     "metadata": {},
     "output_type": "execute_result"
    }
   ],
   "source": [
    "mental_health.head(3)"
   ]
  },
  {
   "cell_type": "markdown",
   "metadata": {},
   "source": [
    "Expanded the stratification category for race, gender, and overall column, and then where ever there is a value in that row, that row will have a summary statistic for that demographic category. This was done for all three datasets."
   ]
  },
  {
   "cell_type": "markdown",
   "metadata": {},
   "source": [
    "#### Investigate Location data columns"
   ]
  },
  {
   "cell_type": "code",
   "execution_count": 356,
   "metadata": {},
   "outputs": [
    {
     "name": "stdout",
     "output_type": "stream",
     "text": [
      "55\n",
      "55\n",
      "55\n",
      "\n",
      "55\n",
      "55\n",
      "55\n",
      "\n",
      "55\n",
      "55\n",
      "55\n",
      "\n"
     ]
    }
   ],
   "source": [
    "for df in [mental_health, alcohol, reproductive_health]:\n",
    "    print(df.LocationAbbr.nunique())\n",
    "    print(df.LocationDesc.nunique())\n",
    "    print(df.LocationID.nunique())\n",
    "    print()"
   ]
  },
  {
   "cell_type": "code",
   "execution_count": 357,
   "metadata": {},
   "outputs": [
    {
     "name": "stdout",
     "output_type": "stream",
     "text": [
      "True\n",
      "True\n",
      "True\n",
      "\n",
      "True\n",
      "True\n",
      "True\n",
      "\n",
      "True\n",
      "True\n",
      "True\n",
      "\n"
     ]
    }
   ],
   "source": [
    "# print if the LocationAbbr, LocationDesc, and LocationID have the same values for each dataset\n",
    "for location in ['LocationAbbr', 'LocationDesc', 'LocationID']:\n",
    "    print(set(mental_health[location].unique()) == set(alcohol[location].unique()))\n",
    "    print(set(mental_health[location].unique()) == set(reproductive_health[location].unique()))\n",
    "    print(set(alcohol[location].unique()) == set(reproductive_health[location].unique()))\n",
    "    print()"
   ]
  },
  {
   "cell_type": "code",
   "execution_count": 358,
   "metadata": {},
   "outputs": [],
   "source": [
    "# just keep one of them, LocationDesc\n",
    "for df in [mental_health, alcohol, reproductive_health]:\n",
    "    df.drop(['LocationAbbr', 'LocationID'], axis=1, inplace=True)"
   ]
  },
  {
   "cell_type": "code",
   "execution_count": 359,
   "metadata": {},
   "outputs": [
    {
     "name": "stdout",
     "output_type": "stream",
     "text": [
      "['Response', 'ResponseID']\n",
      "['Response', 'ResponseID']\n",
      "['Response', 'ResponseID']\n"
     ]
    }
   ],
   "source": [
    "# find columns in all DFs that only have NaN values\n",
    "for df in [mental_health, alcohol, reproductive_health]:\n",
    "    print(df.columns[df.isna().all()].tolist())"
   ]
  },
  {
   "cell_type": "code",
   "execution_count": 360,
   "metadata": {},
   "outputs": [],
   "source": [
    "# remove Reponse and ResponseID from all DFs\n",
    "for df in [mental_health, alcohol, reproductive_health]:\n",
    "    df.drop(['Response', 'ResponseID'], axis=1, inplace=True)"
   ]
  },
  {
   "cell_type": "code",
   "execution_count": 361,
   "metadata": {},
   "outputs": [
    {
     "data": {
      "text/html": [
       "<div>\n",
       "<style scoped>\n",
       "    .dataframe tbody tr th:only-of-type {\n",
       "        vertical-align: middle;\n",
       "    }\n",
       "\n",
       "    .dataframe tbody tr th {\n",
       "        vertical-align: top;\n",
       "    }\n",
       "\n",
       "    .dataframe thead th {\n",
       "        text-align: right;\n",
       "    }\n",
       "</style>\n",
       "<table border=\"1\" class=\"dataframe\">\n",
       "  <thead>\n",
       "    <tr style=\"text-align: right;\">\n",
       "      <th></th>\n",
       "      <th>YearStart</th>\n",
       "      <th>YearEnd</th>\n",
       "      <th>LocationDesc</th>\n",
       "      <th>DataSource</th>\n",
       "      <th>Topic</th>\n",
       "      <th>Question</th>\n",
       "      <th>DataValueUnit</th>\n",
       "      <th>DataValueType</th>\n",
       "      <th>DataValue</th>\n",
       "      <th>DataValueAlt</th>\n",
       "      <th>DataValueFootnoteSymbol</th>\n",
       "      <th>DatavalueFootnote</th>\n",
       "      <th>LowConfidenceLimit</th>\n",
       "      <th>HighConfidenceLimit</th>\n",
       "      <th>TopicID</th>\n",
       "      <th>QuestionID</th>\n",
       "      <th>DataValueTypeID</th>\n",
       "      <th>Gender</th>\n",
       "      <th>Race/Ethnicity</th>\n",
       "      <th>Overall</th>\n",
       "    </tr>\n",
       "  </thead>\n",
       "  <tbody>\n",
       "    <tr>\n",
       "      <th>0</th>\n",
       "      <td>2018</td>\n",
       "      <td>2018</td>\n",
       "      <td>Nevada</td>\n",
       "      <td>BRFSS</td>\n",
       "      <td>Mental Health</td>\n",
       "      <td>At least 14 recent mentally unhealthy days amo...</td>\n",
       "      <td>%</td>\n",
       "      <td>Crude Prevalence</td>\n",
       "      <td>21.6</td>\n",
       "      <td>21.6</td>\n",
       "      <td>NaN</td>\n",
       "      <td>NaN</td>\n",
       "      <td>17.2</td>\n",
       "      <td>26.8</td>\n",
       "      <td>MTH</td>\n",
       "      <td>MTH2_0</td>\n",
       "      <td>CRDPREV</td>\n",
       "      <td>NaN</td>\n",
       "      <td>NaN</td>\n",
       "      <td>Overall</td>\n",
       "    </tr>\n",
       "    <tr>\n",
       "      <th>1</th>\n",
       "      <td>2020</td>\n",
       "      <td>2020</td>\n",
       "      <td>Nevada</td>\n",
       "      <td>BRFSS</td>\n",
       "      <td>Mental Health</td>\n",
       "      <td>Recent mentally unhealthy days among adults ag...</td>\n",
       "      <td>Number</td>\n",
       "      <td>Mean</td>\n",
       "      <td>4.1</td>\n",
       "      <td>4.1</td>\n",
       "      <td>NaN</td>\n",
       "      <td>NaN</td>\n",
       "      <td>2.4</td>\n",
       "      <td>5.8</td>\n",
       "      <td>MTH</td>\n",
       "      <td>MTH1_0</td>\n",
       "      <td>MEAN</td>\n",
       "      <td>NaN</td>\n",
       "      <td>Black, non-Hispanic</td>\n",
       "      <td>NaN</td>\n",
       "    </tr>\n",
       "    <tr>\n",
       "      <th>2</th>\n",
       "      <td>2018</td>\n",
       "      <td>2018</td>\n",
       "      <td>Nevada</td>\n",
       "      <td>BRFSS</td>\n",
       "      <td>Mental Health</td>\n",
       "      <td>Recent mentally unhealthy days among adults ag...</td>\n",
       "      <td>Number</td>\n",
       "      <td>Mean</td>\n",
       "      <td>5.0</td>\n",
       "      <td>5.0</td>\n",
       "      <td>NaN</td>\n",
       "      <td>NaN</td>\n",
       "      <td>4.4</td>\n",
       "      <td>5.6</td>\n",
       "      <td>MTH</td>\n",
       "      <td>MTH1_0</td>\n",
       "      <td>MEAN</td>\n",
       "      <td>Female</td>\n",
       "      <td>NaN</td>\n",
       "      <td>NaN</td>\n",
       "    </tr>\n",
       "  </tbody>\n",
       "</table>\n",
       "</div>"
      ],
      "text/plain": [
       "   YearStart  YearEnd LocationDesc DataSource          Topic  \\\n",
       "0       2018     2018       Nevada      BRFSS  Mental Health   \n",
       "1       2020     2020       Nevada      BRFSS  Mental Health   \n",
       "2       2018     2018       Nevada      BRFSS  Mental Health   \n",
       "\n",
       "                                            Question DataValueUnit  \\\n",
       "0  At least 14 recent mentally unhealthy days amo...             %   \n",
       "1  Recent mentally unhealthy days among adults ag...        Number   \n",
       "2  Recent mentally unhealthy days among adults ag...        Number   \n",
       "\n",
       "      DataValueType  DataValue  DataValueAlt DataValueFootnoteSymbol  \\\n",
       "0  Crude Prevalence       21.6          21.6                     NaN   \n",
       "1              Mean        4.1           4.1                     NaN   \n",
       "2              Mean        5.0           5.0                     NaN   \n",
       "\n",
       "  DatavalueFootnote  LowConfidenceLimit  HighConfidenceLimit TopicID  \\\n",
       "0               NaN                17.2                 26.8     MTH   \n",
       "1               NaN                 2.4                  5.8     MTH   \n",
       "2               NaN                 4.4                  5.6     MTH   \n",
       "\n",
       "  QuestionID DataValueTypeID  Gender       Race/Ethnicity  Overall  \n",
       "0     MTH2_0         CRDPREV     NaN                  NaN  Overall  \n",
       "1     MTH1_0            MEAN     NaN  Black, non-Hispanic      NaN  \n",
       "2     MTH1_0            MEAN  Female                  NaN      NaN  "
      ]
     },
     "execution_count": 361,
     "metadata": {},
     "output_type": "execute_result"
    }
   ],
   "source": [
    "mental_health.head(3)"
   ]
  },
  {
   "cell_type": "code",
   "execution_count": 362,
   "metadata": {},
   "outputs": [
    {
     "name": "stdout",
     "output_type": "stream",
     "text": [
      "['Mental Health']\n",
      "['MTH']\n",
      "\n",
      "['Alcohol']\n",
      "['ALC']\n",
      "\n",
      "['Reproductive Health']\n",
      "['RPH']\n",
      "\n"
     ]
    }
   ],
   "source": [
    "# print all unique Topic and TopicID values for each DF\n",
    "for df in [mental_health, alcohol, reproductive_health]:\n",
    "    print(sorted(df.Topic.unique()))\n",
    "    print(sorted(df.TopicID.unique()))\n",
    "    print()"
   ]
  },
  {
   "cell_type": "code",
   "execution_count": 363,
   "metadata": {},
   "outputs": [],
   "source": [
    "# drop TopicID from all DFs\n",
    "for df in [mental_health, alcohol, reproductive_health]:\n",
    "    df.drop(['TopicID'], axis=1, inplace=True)"
   ]
  },
  {
   "cell_type": "code",
   "execution_count": 364,
   "metadata": {},
   "outputs": [
    {
     "name": "stdout",
     "output_type": "stream",
     "text": [
      "['Age-adjusted Mean', 'Crude Prevalence', 'Mean']\n",
      "['AGEADJMEAN', 'CRDPREV', 'MEAN']\n",
      "\n",
      "['Age-adjusted Mean', 'Age-adjusted Prevalence', 'Age-adjusted Rate', 'Commercial host (dram shop) liability status for alcohol service', 'Crude Prevalence', 'Crude Rate', 'Local control of the regulation of alcohol outlet density', 'Mean', 'Number', 'Per capita alcohol consumption', 'US Dollars']\n",
      "['AGEADJMEAN', 'AGEADJPREV', 'AGEADJRATE', 'COMMHSTLIAB', 'CRDPREV', 'CRDRATE', 'LCLCNTRLALC', 'MEAN', 'NMBR', 'PERCAPALC', 'USD']\n",
      "\n",
      "['Crude Prevalence']\n",
      "['CRDPREV']\n",
      "\n",
      "{'Age-adjusted Mean', 'Crude Prevalence', 'Mean'}\n",
      "{'Crude Prevalence'}\n"
     ]
    }
   ],
   "source": [
    "# get unique DataValueType and DataValueTypeID values for each DF\n",
    "for df in [mental_health, alcohol, reproductive_health]:\n",
    "    print(sorted(df.DataValueType.unique()))\n",
    "    print(sorted(df.DataValueTypeID.unique()))\n",
    "    print()\n",
    "\n",
    "# and get the common DataValueType values across mental_health and alcohol, then mental_health and reproductive_health\n",
    "print(set(mental_health.DataValueType.unique()) & set(alcohol.DataValueType.unique()))\n",
    "print(set(mental_health.DataValueType.unique()) & set(reproductive_health.DataValueType.unique()))"
   ]
  },
  {
   "cell_type": "markdown",
   "metadata": {},
   "source": [
    "#### NOTE: *Crude Prevalence* is the answer to: How many *something* occurred per year for every 100,000 persons in the selected population?\n",
    "[https://www.cdc.gov/injury/wisqars/mapping_help/crude_rate.html]"
   ]
  },
  {
   "cell_type": "code",
   "execution_count": 365,
   "metadata": {},
   "outputs": [
    {
     "data": {
      "text/plain": [
       "array(['Recent mentally unhealthy days among adults aged >= 18 years'],\n",
       "      dtype=object)"
      ]
     },
     "execution_count": 365,
     "metadata": {},
     "output_type": "execute_result"
    }
   ],
   "source": [
    "mental_health[(mental_health.DataValueType == 'Mean') & (mental_health.LocationDesc == 'Michigan') & (mental_health.Overall == 'Overall')].Question.unique()"
   ]
  },
  {
   "cell_type": "markdown",
   "metadata": {},
   "source": [
    "## Data Visualization"
   ]
  },
  {
   "cell_type": "markdown",
   "metadata": {},
   "source": [
    "#### Let's look at some graphs of the data for MI"
   ]
  },
  {
   "cell_type": "code",
   "execution_count": 366,
   "metadata": {},
   "outputs": [
    {
     "data": {
      "image/png": "[encoded data removed]",
      "text/plain": [
       "<Figure size 640x480 with 1 Axes>"
      ]
     },
     "metadata": {},
     "output_type": "display_data"
    }
   ],
   "source": [
    "mental_health[(mental_health.DataValueType == 'Mean') & (mental_health.LocationDesc == 'Michigan') & (mental_health.Overall == 'Overall')].sort_values(by='YearStart').plot(x='YearStart', y='DataValue', kind='line')\n",
    "plt.ylabel('Mean mentally unhealthy days')\n",
    "_ = plt.title('Mean mentally unhealthy days among adults in Michigan over time')"
   ]
  },
  {
   "cell_type": "code",
   "execution_count": 367,
   "metadata": {},
   "outputs": [
    {
     "data": {
      "text/html": [
       "<div>\n",
       "<style scoped>\n",
       "    .dataframe tbody tr th:only-of-type {\n",
       "        vertical-align: middle;\n",
       "    }\n",
       "\n",
       "    .dataframe tbody tr th {\n",
       "        vertical-align: top;\n",
       "    }\n",
       "\n",
       "    .dataframe thead th {\n",
       "        text-align: right;\n",
       "    }\n",
       "</style>\n",
       "<table border=\"1\" class=\"dataframe\">\n",
       "  <thead>\n",
       "    <tr style=\"text-align: right;\">\n",
       "      <th></th>\n",
       "      <th>YearStart</th>\n",
       "      <th>YearEnd</th>\n",
       "      <th>LocationDesc</th>\n",
       "      <th>DataSource</th>\n",
       "      <th>Topic</th>\n",
       "      <th>Question</th>\n",
       "      <th>DataValueUnit</th>\n",
       "      <th>DataValueType</th>\n",
       "      <th>DataValue</th>\n",
       "      <th>DataValueAlt</th>\n",
       "      <th>DataValueFootnoteSymbol</th>\n",
       "      <th>DatavalueFootnote</th>\n",
       "      <th>LowConfidenceLimit</th>\n",
       "      <th>HighConfidenceLimit</th>\n",
       "      <th>QuestionID</th>\n",
       "      <th>DataValueTypeID</th>\n",
       "      <th>Gender</th>\n",
       "      <th>Race/Ethnicity</th>\n",
       "      <th>Overall</th>\n",
       "    </tr>\n",
       "  </thead>\n",
       "  <tbody>\n",
       "    <tr>\n",
       "      <th>40651</th>\n",
       "      <td>2018</td>\n",
       "      <td>2018</td>\n",
       "      <td>Michigan</td>\n",
       "      <td>BRFSS</td>\n",
       "      <td>Alcohol</td>\n",
       "      <td>Binge drinking frequency among adults aged &gt;= ...</td>\n",
       "      <td>Number</td>\n",
       "      <td>Mean</td>\n",
       "      <td>4.8</td>\n",
       "      <td>4.8</td>\n",
       "      <td>NaN</td>\n",
       "      <td>NaN</td>\n",
       "      <td>4.4</td>\n",
       "      <td>5.2</td>\n",
       "      <td>ALC3_0</td>\n",
       "      <td>MEAN</td>\n",
       "      <td>NaN</td>\n",
       "      <td>NaN</td>\n",
       "      <td>Overall</td>\n",
       "    </tr>\n",
       "    <tr>\n",
       "      <th>40861</th>\n",
       "      <td>2021</td>\n",
       "      <td>2021</td>\n",
       "      <td>Michigan</td>\n",
       "      <td>BRFSS</td>\n",
       "      <td>Alcohol</td>\n",
       "      <td>Binge drinking frequency among adults aged &gt;= ...</td>\n",
       "      <td>Number</td>\n",
       "      <td>Mean</td>\n",
       "      <td>5.0</td>\n",
       "      <td>5.0</td>\n",
       "      <td>NaN</td>\n",
       "      <td>NaN</td>\n",
       "      <td>4.4</td>\n",
       "      <td>5.7</td>\n",
       "      <td>ALC3_0</td>\n",
       "      <td>MEAN</td>\n",
       "      <td>NaN</td>\n",
       "      <td>NaN</td>\n",
       "      <td>Overall</td>\n",
       "    </tr>\n",
       "    <tr>\n",
       "      <th>40936</th>\n",
       "      <td>2017</td>\n",
       "      <td>2017</td>\n",
       "      <td>Michigan</td>\n",
       "      <td>BRFSS</td>\n",
       "      <td>Alcohol</td>\n",
       "      <td>Binge drinking frequency among adults aged &gt;= ...</td>\n",
       "      <td>Number</td>\n",
       "      <td>Mean</td>\n",
       "      <td>4.5</td>\n",
       "      <td>4.5</td>\n",
       "      <td>NaN</td>\n",
       "      <td>NaN</td>\n",
       "      <td>4.2</td>\n",
       "      <td>4.9</td>\n",
       "      <td>ALC3_0</td>\n",
       "      <td>MEAN</td>\n",
       "      <td>NaN</td>\n",
       "      <td>NaN</td>\n",
       "      <td>Overall</td>\n",
       "    </tr>\n",
       "  </tbody>\n",
       "</table>\n",
       "</div>"
      ],
      "text/plain": [
       "       YearStart  YearEnd LocationDesc DataSource    Topic  \\\n",
       "40651       2018     2018     Michigan      BRFSS  Alcohol   \n",
       "40861       2021     2021     Michigan      BRFSS  Alcohol   \n",
       "40936       2017     2017     Michigan      BRFSS  Alcohol   \n",
       "\n",
       "                                                Question DataValueUnit  \\\n",
       "40651  Binge drinking frequency among adults aged >= ...        Number   \n",
       "40861  Binge drinking frequency among adults aged >= ...        Number   \n",
       "40936  Binge drinking frequency among adults aged >= ...        Number   \n",
       "\n",
       "      DataValueType DataValue  DataValueAlt DataValueFootnoteSymbol  \\\n",
       "40651          Mean       4.8           4.8                     NaN   \n",
       "40861          Mean       5.0           5.0                     NaN   \n",
       "40936          Mean       4.5           4.5                     NaN   \n",
       "\n",
       "      DatavalueFootnote  LowConfidenceLimit  HighConfidenceLimit QuestionID  \\\n",
       "40651               NaN                 4.4                  5.2     ALC3_0   \n",
       "40861               NaN                 4.4                  5.7     ALC3_0   \n",
       "40936               NaN                 4.2                  4.9     ALC3_0   \n",
       "\n",
       "      DataValueTypeID Gender Race/Ethnicity  Overall  \n",
       "40651            MEAN    NaN            NaN  Overall  \n",
       "40861            MEAN    NaN            NaN  Overall  \n",
       "40936            MEAN    NaN            NaN  Overall  "
      ]
     },
     "execution_count": 367,
     "metadata": {},
     "output_type": "execute_result"
    }
   ],
   "source": [
    "alcohol[(alcohol.DataValueType == 'Mean') & (alcohol.LocationDesc == 'Michigan') & (alcohol.Overall == 'Overall') & (alcohol.Question == 'Binge drinking frequency among adults aged >= 18 years who binge drink')].head(3)"
   ]
  },
  {
   "cell_type": "code",
   "execution_count": 368,
   "metadata": {},
   "outputs": [
    {
     "data": {
      "image/png": "[encoded data removed]",
      "text/plain": [
       "<Figure size 640x480 with 1 Axes>"
      ]
     },
     "metadata": {},
     "output_type": "display_data"
    }
   ],
   "source": [
    "alcohol[(alcohol.DataValueType == 'Mean') & (alcohol.LocationDesc == 'Michigan') & (alcohol.Overall == 'Overall') & (alcohol.Question == 'Binge drinking frequency among adults aged >= 18 years who binge drink')].sort_values(by='YearStart').plot(x='YearStart', y='DataValue', kind='line')\n",
    "plt.ylabel('Binge drinking frequency')\n",
    "_ = plt.title('Binge drinking frequency among adults in Michigan over time')"
   ]
  },
  {
   "cell_type": "markdown",
   "metadata": {},
   "source": [
    "#### And combined for correlation"
   ]
  },
  {
   "cell_type": "code",
   "execution_count": 369,
   "metadata": {},
   "outputs": [
    {
     "data": {
      "image/png": "[encoded data removed]",
      "text/plain": [
       "<Figure size 640x480 with 1 Axes>"
      ]
     },
     "metadata": {},
     "output_type": "display_data"
    }
   ],
   "source": [
    "mh_mi = mental_health[(mental_health.DataValueType == 'Mean') & (mental_health.LocationDesc == 'Michigan') & (mental_health.Overall == 'Overall')]\n",
    "al_mi = alcohol[(alcohol.DataValueType == 'Mean') & (alcohol.LocationDesc == 'Michigan') & (alcohol.Overall == 'Overall') & (alcohol.Question == 'Binge drinking frequency among adults aged >= 18 years who binge drink')]\n",
    "mh_mi.merge(al_mi, on='YearStart', suffixes=('_mh', '_al'), how='inner').sort_values(by='YearStart').plot(x='YearStart', y=['DataValue_mh', 'DataValue_al'], kind='line')\n",
    "plt.legend(['Mean mentally unhealthy days', 'Binge drinking frequency'])\n",
    "_ = plt.title('Mean mentally unhealthy days and binge drinking frequency among adults in Michigan over time')"
   ]
  },
  {
   "cell_type": "markdown",
   "metadata": {},
   "source": [
    "We see an interesting trend among the two variables over time, something to consider investigating in the future."
   ]
  },
  {
   "cell_type": "code",
   "execution_count": 370,
   "metadata": {},
   "outputs": [
    {
     "data": {
      "image/png": "[encoded data removed]",
      "text/plain": [
       "<Figure size 640x480 with 1 Axes>"
      ]
     },
     "metadata": {},
     "output_type": "display_data"
    }
   ],
   "source": [
    "# Merge the DataFrames\n",
    "mh_al_mi = mh_mi.merge(al_mi, on='YearStart', suffixes=('_mh', '_al'), how='inner').sort_values(by='YearStart')\n",
    "\n",
    "# Create a scatter plot of the line plot\n",
    "plt.scatter(mh_al_mi['YearStart'], mh_al_mi['DataValue_mh'], label='Mean Mentally Unhealthy Days')\n",
    "plt.scatter(mh_al_mi['YearStart'], mh_al_mi['DataValue_al'], label='Binge Drinking Frequency')\n",
    "plt.xlabel('Year')\n",
    "plt.ylabel('Values')\n",
    "plt.title('Mean mentally unhealthy days and binge drinking frequency among adults in Michigan over time')\n",
    "plt.legend()\n",
    "plt.show()"
   ]
  },
  {
   "cell_type": "code",
   "execution_count": 371,
   "metadata": {},
   "outputs": [
    {
     "name": "stdout",
     "output_type": "stream",
     "text": [
      "Correlation Coefficient of Mean Mentally Unhealthy Data and Binge Drinking in Michigan: 0.6904164189808101\n"
     ]
    }
   ],
   "source": [
    "# find the correlation coefficient between the two variables\n",
    "corr_mh_al_mi = mh_al_mi['DataValue_mh'].corr(mh_al_mi['DataValue_al'])\n",
    "print(\"Correlation Coefficient of Mean Mentally Unhealthy Data and Binge Drinking in Michigan:\", corr_mh_al_mi)\n"
   ]
  },
  {
   "cell_type": "code",
   "execution_count": 372,
   "metadata": {},
   "outputs": [
    {
     "data": {
      "image/png": "[encoded data removed]",
      "text/plain": [
       "<Figure size 640x480 with 1 Axes>"
      ]
     },
     "metadata": {},
     "output_type": "display_data"
    }
   ],
   "source": [
    "plt.scatter(mh_al_mi['DataValue_mh'], mh_al_mi['DataValue_al'])\n",
    "plt.xlabel('Mean Mentally Unhealthy Days')\n",
    "plt.ylabel('Binge Drinking Frequency')\n",
    "plt.title('Mean mentally unhealthy days and binge drinking frequency among adults in Michigan')\n",
    "_ = plt.show()"
   ]
  },
  {
   "cell_type": "markdown",
   "metadata": {},
   "source": [
    "Positive correlation of 0.7 between the incidence of binge drinking and average mentally unhealthy days in the state of Michigan, indicating that binge drinking increases as people self report mentally unhealthy days."
   ]
  },
  {
   "cell_type": "code",
   "execution_count": 373,
   "metadata": {},
   "outputs": [
    {
     "data": {
      "text/plain": [
       "array(['Timeliness of routine health care checkup among women aged 18-44 years',\n",
       "       'Postpartum checkup', 'Folic acid supplementation'], dtype=object)"
      ]
     },
     "execution_count": 373,
     "metadata": {},
     "output_type": "execute_result"
    }
   ],
   "source": [
    "# get unique Question values for reproductive_health\n",
    "reproductive_health.Question.unique()"
   ]
  },
  {
   "cell_type": "code",
   "execution_count": 374,
   "metadata": {},
   "outputs": [
    {
     "data": {
      "text/plain": [
       "array(['Postpartum checkup', 'Folic acid supplementation',\n",
       "       'Timeliness of routine health care checkup among women aged 18-44 years'],\n",
       "      dtype=object)"
      ]
     },
     "execution_count": 374,
     "metadata": {},
     "output_type": "execute_result"
    }
   ],
   "source": [
    "# and get the reported aggregate values for Michigan\n",
    "reproductive_health[(reproductive_health.DataValueType == 'Crude Prevalence') & (reproductive_health.LocationDesc == 'Michigan') & (reproductive_health.Overall == 'Overall')].Question.unique()"
   ]
  },
  {
   "cell_type": "code",
   "execution_count": 375,
   "metadata": {},
   "outputs": [
    {
     "data": {
      "image/png": "[encoded data removed]",
      "text/plain": [
       "<Figure size 640x480 with 1 Axes>"
      ]
     },
     "metadata": {},
     "output_type": "display_data"
    }
   ],
   "source": [
    "reproductive_health[(reproductive_health.DataValueType == 'Crude Prevalence') & (reproductive_health.LocationDesc == 'Michigan') & (reproductive_health.Overall == 'Overall') & (reproductive_health.Question == 'Postpartum checkup')].sort_values(by='YearStart').plot(x='YearStart', y='DataValue', kind='line')\n",
    "plt.title('Postpartum checkup \"Crude Prevalence\" in Michigan over time')\n",
    "plt.ylabel('Crude Prevalence')\n",
    "_ = plt.show()"
   ]
  },
  {
   "cell_type": "code",
   "execution_count": 376,
   "metadata": {},
   "outputs": [
    {
     "data": {
      "text/plain": [
       "array([2012, 2016, 2013, 2015, 2017, 2019, 2020, 2018, 2021, 2011])"
      ]
     },
     "execution_count": 376,
     "metadata": {},
     "output_type": "execute_result"
    }
   ],
   "source": [
    "# check reproductive_health for missing YearStart values of 2013 to 2015\n",
    "reproductive_health[(reproductive_health.YearStart <= 2013) | (reproductive_health.YearStart >= 2015)].YearStart.unique()"
   ]
  },
  {
   "cell_type": "markdown",
   "metadata": {},
   "source": [
    "We can see the reproductive health data set is missing a *YearStart* of 2014."
   ]
  },
  {
   "cell_type": "code",
   "execution_count": 377,
   "metadata": {},
   "outputs": [
    {
     "data": {
      "text/plain": [
       "-0.8402165453495583"
      ]
     },
     "execution_count": 377,
     "metadata": {},
     "output_type": "execute_result"
    }
   ],
   "source": [
    "# let's find the correlation coefficient between the two variables\n",
    "rh_mi = reproductive_health[(reproductive_health.DataValueType == 'Crude Prevalence') & (reproductive_health.LocationDesc == 'Michigan') & (reproductive_health.Overall == 'Overall') & (reproductive_health.Question == 'Postpartum checkup')]\n",
    "mh_rh_mi = mh_mi.merge(rh_mi, on='YearStart', suffixes=('_mh', '_rh'), how='inner').sort_values(by='YearStart')\n",
    "mh_rh_mi['DataValue_mh'].corr(mh_rh_mi['DataValue_rh'])"
   ]
  },
  {
   "cell_type": "code",
   "execution_count": 378,
   "metadata": {},
   "outputs": [
    {
     "data": {
      "image/png": "[encoded data removed]",
      "text/plain": [
       "<Figure size 640x480 with 1 Axes>"
      ]
     },
     "metadata": {},
     "output_type": "display_data"
    }
   ],
   "source": [
    "# now let's plot the scatter plot\n",
    "plt.scatter(mh_rh_mi['DataValue_mh'], mh_rh_mi['DataValue_rh'])\n",
    "plt.xlabel('Mean Mentally Unhealthy Days')\n",
    "plt.ylabel('Postpartum checkup \"Crude Prevalence\"')\n",
    "plt.title('Mean mentally unhealthy days and Postpartum checkup \"Crude Prevalence\" in Michigan')\n",
    "_ = plt.show()"
   ]
  },
  {
   "cell_type": "markdown",
   "metadata": {},
   "source": [
    "Strong negative correlation of -0.84, indicating that as the number of postpartum checkups decreased, that was associated with a higher average of overall mentally unhealthy days."
   ]
  },
  {
   "cell_type": "markdown",
   "metadata": {},
   "source": [
    "#### Distributions of means across data sets"
   ]
  },
  {
   "cell_type": "code",
   "execution_count": 379,
   "metadata": {},
   "outputs": [
    {
     "data": {
      "image/png": "[encoded data removed]",
      "text/plain": [
       "<Figure size 640x480 with 1 Axes>"
      ]
     },
     "metadata": {},
     "output_type": "display_data"
    }
   ],
   "source": [
    "# histogram of means of mentally unhealthy days\n",
    "mental_health[mental_health.DataValueType == 'Mean'].DataValue.plot(kind='hist')\n",
    "plt.xlabel('Mean mentally unhealthy days')\n",
    "_ = plt.title('Distribution of means of mentally unhealthy days')"
   ]
  },
  {
   "cell_type": "markdown",
   "metadata": {},
   "source": [
    "We can see the distribution of means is \"normal-ish\", and right skewed, indicating the number of reported mentally-unhealthy days tends toward the lower values."
   ]
  },
  {
   "cell_type": "code",
   "execution_count": 380,
   "metadata": {},
   "outputs": [
    {
     "name": "stderr",
     "output_type": "stream",
     "text": [
      "/var/folders/6t/t91z119x51q_lpb_lspp0sjw0000gn/T/ipykernel_64832/3109894760.py:3: SettingWithCopyWarning: \n",
      "A value is trying to be set on a copy of a slice from a DataFrame.\n",
      "Try using .loc[row_indexer,col_indexer] = value instead\n",
      "\n",
      "See the caveats in the documentation: https://pandas.pydata.org/pandas-docs/stable/user_guide/indexing.html#returning-a-view-versus-a-copy\n",
      "  df['DataValue'] = pd.to_numeric(df['DataValue'], errors='coerce')\n"
     ]
    },
    {
     "data": {
      "image/png": "[encoded data removed]",
      "text/plain": [
       "<Figure size 640x480 with 1 Axes>"
      ]
     },
     "metadata": {},
     "output_type": "display_data"
    }
   ],
   "source": [
    "# histogram of means of binge drinking frequency, ignoring NaN values\n",
    "df = alcohol[(alcohol.DataValueType == 'Mean') & (alcohol.Question == 'Binge drinking frequency among adults aged >= 18 years who binge drink')]\n",
    "df['DataValue'] = pd.to_numeric(df['DataValue'], errors='coerce')\n",
    "df.DataValue.dropna().plot(kind='hist')\n",
    "plt.title('Distribution of binge drinking among adults')\n",
    "plt.xlabel('frequency of binge drinking')\n",
    "_ = plt.show()"
   ]
  },
  {
   "cell_type": "markdown",
   "metadata": {},
   "source": [
    "This distribution is also fairly normal. It's also right skewed, but less so than the the mental health means."
   ]
  },
  {
   "cell_type": "code",
   "execution_count": 381,
   "metadata": {},
   "outputs": [
    {
     "name": "stderr",
     "output_type": "stream",
     "text": [
      "/var/folders/6t/t91z119x51q_lpb_lspp0sjw0000gn/T/ipykernel_64832/3425637516.py:3: SettingWithCopyWarning: \n",
      "A value is trying to be set on a copy of a slice from a DataFrame.\n",
      "Try using .loc[row_indexer,col_indexer] = value instead\n",
      "\n",
      "See the caveats in the documentation: https://pandas.pydata.org/pandas-docs/stable/user_guide/indexing.html#returning-a-view-versus-a-copy\n",
      "  df['DataValue'] = pd.to_numeric(df['DataValue'], errors='coerce')\n"
     ]
    },
    {
     "data": {
      "image/png": "[encoded data removed]",
      "text/plain": [
       "<Figure size 640x480 with 1 Axes>"
      ]
     },
     "metadata": {},
     "output_type": "display_data"
    }
   ],
   "source": [
    "# histogram of crude prevalence of postpartum checkup\n",
    "df = reproductive_health[(reproductive_health.DataValueType == 'Crude Prevalence') & (reproductive_health.Question == 'Postpartum checkup')]\n",
    "df['DataValue'] = pd.to_numeric(df['DataValue'], errors='coerce')\n",
    "df.DataValue.dropna().plot(kind='hist')\n",
    "plt.title('Distribution of crude prevalence of postpartum checkup')\n",
    "plt.xlabel('crude prevalence')\n",
    "_ = plt.show()"
   ]
  },
  {
   "cell_type": "markdown",
   "metadata": {},
   "source": [
    "Finally, we have another normal distribution for \"crude prevalence\" of postpartum checkup. While the prior distributions were right skewed, this one appears left skewed, indicating a more optimistic statistic that it's more common for higher percentages of populations to have postpartum checkups."
   ]
  },
  {
   "cell_type": "markdown",
   "metadata": {},
   "source": [
    "Overall, we have a lot to work with across these three data sets. We have further ideas for investigating trends across various demographics like race and gender, and feel confident we can perform statistical tests with our aggregate data since the confidence interval values are included. We plan to merge the alcohol and reproductive health data sets separately with the mental health data set when conducting further analysis, as needed, since the main focus is mental health impacts."
   ]
  },
  {
   "cell_type": "markdown",
   "metadata": {},
   "source": [
    "# Project Analysis Part 2"
   ]
  },
  {
   "cell_type": "markdown",
   "metadata": {},
   "source": [
    "### Descriptive Statistics\n",
    "\n",
    "Provide a comprehensive summary of your combined dataset using descriptive statistics. This should include means, medians, modes, ranges, variance, and standard deviations for the relevant features of your data. The descriptive statistics should inform your guiding questions that you developed in Part I of the project, rather than merely providing an overview of your data. Interpret these results to draw preliminary conclusions about the data.\n"
   ]
  },
  {
   "cell_type": "markdown",
   "metadata": {},
   "source": [
    "- Part of our analysis includes comparing a merged data set of mental health, alcohol use, and reproductive health for the state of Michigan. Step two of our project includes comparing these sames outcomes to a similarly joined data set for the greater United States. We are interested in looking at demographic information such as race and ethnicity, gender, and location.\n"
   ]
  },
  {
   "cell_type": "code",
   "execution_count": 382,
   "metadata": {},
   "outputs": [
    {
     "data": {
      "text/html": [
       "<div>\n",
       "<style scoped>\n",
       "    .dataframe tbody tr th:only-of-type {\n",
       "        vertical-align: middle;\n",
       "    }\n",
       "\n",
       "    .dataframe tbody tr th {\n",
       "        vertical-align: top;\n",
       "    }\n",
       "\n",
       "    .dataframe thead th {\n",
       "        text-align: right;\n",
       "    }\n",
       "</style>\n",
       "<table border=\"1\" class=\"dataframe\">\n",
       "  <thead>\n",
       "    <tr style=\"text-align: right;\">\n",
       "      <th></th>\n",
       "      <th>YearStart</th>\n",
       "      <th>YearEnd</th>\n",
       "      <th>LocationDesc</th>\n",
       "      <th>DataSource</th>\n",
       "      <th>Topic</th>\n",
       "      <th>Question</th>\n",
       "      <th>DataValueUnit</th>\n",
       "      <th>DataValueType</th>\n",
       "      <th>DataValue</th>\n",
       "      <th>DataValueAlt</th>\n",
       "      <th>DataValueFootnoteSymbol</th>\n",
       "      <th>DatavalueFootnote</th>\n",
       "      <th>LowConfidenceLimit</th>\n",
       "      <th>HighConfidenceLimit</th>\n",
       "      <th>QuestionID</th>\n",
       "      <th>DataValueTypeID</th>\n",
       "      <th>Gender</th>\n",
       "      <th>Race/Ethnicity</th>\n",
       "      <th>Overall</th>\n",
       "    </tr>\n",
       "  </thead>\n",
       "  <tbody>\n",
       "    <tr>\n",
       "      <th>0</th>\n",
       "      <td>2018</td>\n",
       "      <td>2018</td>\n",
       "      <td>Nevada</td>\n",
       "      <td>BRFSS</td>\n",
       "      <td>Mental Health</td>\n",
       "      <td>At least 14 recent mentally unhealthy days amo...</td>\n",
       "      <td>%</td>\n",
       "      <td>Crude Prevalence</td>\n",
       "      <td>21.6</td>\n",
       "      <td>21.6</td>\n",
       "      <td>NaN</td>\n",
       "      <td>NaN</td>\n",
       "      <td>17.2</td>\n",
       "      <td>26.8</td>\n",
       "      <td>MTH2_0</td>\n",
       "      <td>CRDPREV</td>\n",
       "      <td>NaN</td>\n",
       "      <td>NaN</td>\n",
       "      <td>Overall</td>\n",
       "    </tr>\n",
       "    <tr>\n",
       "      <th>1</th>\n",
       "      <td>2020</td>\n",
       "      <td>2020</td>\n",
       "      <td>Nevada</td>\n",
       "      <td>BRFSS</td>\n",
       "      <td>Mental Health</td>\n",
       "      <td>Recent mentally unhealthy days among adults ag...</td>\n",
       "      <td>Number</td>\n",
       "      <td>Mean</td>\n",
       "      <td>4.1</td>\n",
       "      <td>4.1</td>\n",
       "      <td>NaN</td>\n",
       "      <td>NaN</td>\n",
       "      <td>2.4</td>\n",
       "      <td>5.8</td>\n",
       "      <td>MTH1_0</td>\n",
       "      <td>MEAN</td>\n",
       "      <td>NaN</td>\n",
       "      <td>Black, non-Hispanic</td>\n",
       "      <td>NaN</td>\n",
       "    </tr>\n",
       "    <tr>\n",
       "      <th>2</th>\n",
       "      <td>2018</td>\n",
       "      <td>2018</td>\n",
       "      <td>Nevada</td>\n",
       "      <td>BRFSS</td>\n",
       "      <td>Mental Health</td>\n",
       "      <td>Recent mentally unhealthy days among adults ag...</td>\n",
       "      <td>Number</td>\n",
       "      <td>Mean</td>\n",
       "      <td>5.0</td>\n",
       "      <td>5.0</td>\n",
       "      <td>NaN</td>\n",
       "      <td>NaN</td>\n",
       "      <td>4.4</td>\n",
       "      <td>5.6</td>\n",
       "      <td>MTH1_0</td>\n",
       "      <td>MEAN</td>\n",
       "      <td>Female</td>\n",
       "      <td>NaN</td>\n",
       "      <td>NaN</td>\n",
       "    </tr>\n",
       "    <tr>\n",
       "      <th>3</th>\n",
       "      <td>2019</td>\n",
       "      <td>2019</td>\n",
       "      <td>Nevada</td>\n",
       "      <td>BRFSS</td>\n",
       "      <td>Mental Health</td>\n",
       "      <td>Recent mentally unhealthy days among adults ag...</td>\n",
       "      <td>Number</td>\n",
       "      <td>Age-adjusted Mean</td>\n",
       "      <td>4.7</td>\n",
       "      <td>4.7</td>\n",
       "      <td>NaN</td>\n",
       "      <td>NaN</td>\n",
       "      <td>4.2</td>\n",
       "      <td>5.2</td>\n",
       "      <td>MTH1_0</td>\n",
       "      <td>AGEADJMEAN</td>\n",
       "      <td>NaN</td>\n",
       "      <td>NaN</td>\n",
       "      <td>Overall</td>\n",
       "    </tr>\n",
       "    <tr>\n",
       "      <th>4</th>\n",
       "      <td>2017</td>\n",
       "      <td>2017</td>\n",
       "      <td>Nevada</td>\n",
       "      <td>BRFSS</td>\n",
       "      <td>Mental Health</td>\n",
       "      <td>Recent mentally unhealthy days among adults ag...</td>\n",
       "      <td>Number</td>\n",
       "      <td>Mean</td>\n",
       "      <td>3.5</td>\n",
       "      <td>3.5</td>\n",
       "      <td>NaN</td>\n",
       "      <td>NaN</td>\n",
       "      <td>3.2</td>\n",
       "      <td>3.9</td>\n",
       "      <td>MTH1_0</td>\n",
       "      <td>MEAN</td>\n",
       "      <td>NaN</td>\n",
       "      <td>NaN</td>\n",
       "      <td>Overall</td>\n",
       "    </tr>\n",
       "  </tbody>\n",
       "</table>\n",
       "</div>"
      ],
      "text/plain": [
       "   YearStart  YearEnd LocationDesc DataSource          Topic  \\\n",
       "0       2018     2018       Nevada      BRFSS  Mental Health   \n",
       "1       2020     2020       Nevada      BRFSS  Mental Health   \n",
       "2       2018     2018       Nevada      BRFSS  Mental Health   \n",
       "3       2019     2019       Nevada      BRFSS  Mental Health   \n",
       "4       2017     2017       Nevada      BRFSS  Mental Health   \n",
       "\n",
       "                                            Question DataValueUnit  \\\n",
       "0  At least 14 recent mentally unhealthy days amo...             %   \n",
       "1  Recent mentally unhealthy days among adults ag...        Number   \n",
       "2  Recent mentally unhealthy days among adults ag...        Number   \n",
       "3  Recent mentally unhealthy days among adults ag...        Number   \n",
       "4  Recent mentally unhealthy days among adults ag...        Number   \n",
       "\n",
       "       DataValueType  DataValue  DataValueAlt DataValueFootnoteSymbol  \\\n",
       "0   Crude Prevalence       21.6          21.6                     NaN   \n",
       "1               Mean        4.1           4.1                     NaN   \n",
       "2               Mean        5.0           5.0                     NaN   \n",
       "3  Age-adjusted Mean        4.7           4.7                     NaN   \n",
       "4               Mean        3.5           3.5                     NaN   \n",
       "\n",
       "  DatavalueFootnote  LowConfidenceLimit  HighConfidenceLimit QuestionID  \\\n",
       "0               NaN                17.2                 26.8     MTH2_0   \n",
       "1               NaN                 2.4                  5.8     MTH1_0   \n",
       "2               NaN                 4.4                  5.6     MTH1_0   \n",
       "3               NaN                 4.2                  5.2     MTH1_0   \n",
       "4               NaN                 3.2                  3.9     MTH1_0   \n",
       "\n",
       "  DataValueTypeID  Gender       Race/Ethnicity  Overall  \n",
       "0         CRDPREV     NaN                  NaN  Overall  \n",
       "1            MEAN     NaN  Black, non-Hispanic      NaN  \n",
       "2            MEAN  Female                  NaN      NaN  \n",
       "3      AGEADJMEAN     NaN                  NaN  Overall  \n",
       "4            MEAN     NaN                  NaN  Overall  "
      ]
     },
     "execution_count": 382,
     "metadata": {},
     "output_type": "execute_result"
    }
   ],
   "source": [
    "mental_health.head(5)\n"
   ]
  },
  {
   "cell_type": "code",
   "execution_count": 383,
   "metadata": {},
   "outputs": [
    {
     "data": {
      "text/html": [
       "<div>\n",
       "<style scoped>\n",
       "    .dataframe tbody tr th:only-of-type {\n",
       "        vertical-align: middle;\n",
       "    }\n",
       "\n",
       "    .dataframe tbody tr th {\n",
       "        vertical-align: top;\n",
       "    }\n",
       "\n",
       "    .dataframe thead th {\n",
       "        text-align: right;\n",
       "    }\n",
       "</style>\n",
       "<table border=\"1\" class=\"dataframe\">\n",
       "  <thead>\n",
       "    <tr style=\"text-align: right;\">\n",
       "      <th></th>\n",
       "      <th>YearStart</th>\n",
       "      <th>YearEnd</th>\n",
       "      <th>LocationDesc</th>\n",
       "      <th>DataSource</th>\n",
       "      <th>Topic</th>\n",
       "      <th>Question</th>\n",
       "      <th>DataValueUnit</th>\n",
       "      <th>DataValueType</th>\n",
       "      <th>DataValue</th>\n",
       "      <th>DataValueAlt</th>\n",
       "      <th>DataValueFootnoteSymbol</th>\n",
       "      <th>DatavalueFootnote</th>\n",
       "      <th>LowConfidenceLimit</th>\n",
       "      <th>HighConfidenceLimit</th>\n",
       "      <th>QuestionID</th>\n",
       "      <th>DataValueTypeID</th>\n",
       "      <th>Race/Ethnicity</th>\n",
       "      <th>Overall</th>\n",
       "    </tr>\n",
       "  </thead>\n",
       "  <tbody>\n",
       "    <tr>\n",
       "      <th>2</th>\n",
       "      <td>2013</td>\n",
       "      <td>2013</td>\n",
       "      <td>Hawaii</td>\n",
       "      <td>PRAMS</td>\n",
       "      <td>Reproductive Health</td>\n",
       "      <td>Postpartum checkup</td>\n",
       "      <td>%</td>\n",
       "      <td>Crude Prevalence</td>\n",
       "      <td>88.2</td>\n",
       "      <td>88.2</td>\n",
       "      <td>NaN</td>\n",
       "      <td>NaN</td>\n",
       "      <td>85.7</td>\n",
       "      <td>90.2</td>\n",
       "      <td>RPH2_0</td>\n",
       "      <td>CRDPREV</td>\n",
       "      <td>NaN</td>\n",
       "      <td>Overall</td>\n",
       "    </tr>\n",
       "    <tr>\n",
       "      <th>3</th>\n",
       "      <td>2013</td>\n",
       "      <td>2013</td>\n",
       "      <td>Kentucky</td>\n",
       "      <td>PRAMS</td>\n",
       "      <td>Reproductive Health</td>\n",
       "      <td>Postpartum checkup</td>\n",
       "      <td>%</td>\n",
       "      <td>Crude Prevalence</td>\n",
       "      <td>NaN</td>\n",
       "      <td>NaN</td>\n",
       "      <td>-</td>\n",
       "      <td>No data available</td>\n",
       "      <td>NaN</td>\n",
       "      <td>NaN</td>\n",
       "      <td>RPH2_0</td>\n",
       "      <td>CRDPREV</td>\n",
       "      <td>NaN</td>\n",
       "      <td>Overall</td>\n",
       "    </tr>\n",
       "    <tr>\n",
       "      <th>4</th>\n",
       "      <td>2013</td>\n",
       "      <td>2013</td>\n",
       "      <td>Maryland</td>\n",
       "      <td>PRAMS</td>\n",
       "      <td>Reproductive Health</td>\n",
       "      <td>Postpartum checkup</td>\n",
       "      <td>%</td>\n",
       "      <td>Crude Prevalence</td>\n",
       "      <td>89.1</td>\n",
       "      <td>89.1</td>\n",
       "      <td>NaN</td>\n",
       "      <td>NaN</td>\n",
       "      <td>86.8</td>\n",
       "      <td>91.0</td>\n",
       "      <td>RPH2_0</td>\n",
       "      <td>CRDPREV</td>\n",
       "      <td>NaN</td>\n",
       "      <td>Overall</td>\n",
       "    </tr>\n",
       "    <tr>\n",
       "      <th>5</th>\n",
       "      <td>2016</td>\n",
       "      <td>2016</td>\n",
       "      <td>Maryland</td>\n",
       "      <td>PRAMS</td>\n",
       "      <td>Reproductive Health</td>\n",
       "      <td>Postpartum checkup</td>\n",
       "      <td>%</td>\n",
       "      <td>Crude Prevalence</td>\n",
       "      <td>89.0</td>\n",
       "      <td>89.0</td>\n",
       "      <td>NaN</td>\n",
       "      <td>NaN</td>\n",
       "      <td>86.7</td>\n",
       "      <td>90.9</td>\n",
       "      <td>RPH2_0</td>\n",
       "      <td>CRDPREV</td>\n",
       "      <td>NaN</td>\n",
       "      <td>Overall</td>\n",
       "    </tr>\n",
       "    <tr>\n",
       "      <th>6</th>\n",
       "      <td>2014</td>\n",
       "      <td>2014</td>\n",
       "      <td>Maine</td>\n",
       "      <td>PRAMS</td>\n",
       "      <td>Reproductive Health</td>\n",
       "      <td>Postpartum checkup</td>\n",
       "      <td>%</td>\n",
       "      <td>Crude Prevalence</td>\n",
       "      <td>92.0</td>\n",
       "      <td>92.0</td>\n",
       "      <td>NaN</td>\n",
       "      <td>NaN</td>\n",
       "      <td>89.4</td>\n",
       "      <td>94.0</td>\n",
       "      <td>RPH2_0</td>\n",
       "      <td>CRDPREV</td>\n",
       "      <td>White, non-Hispanic</td>\n",
       "      <td>NaN</td>\n",
       "    </tr>\n",
       "  </tbody>\n",
       "</table>\n",
       "</div>"
      ],
      "text/plain": [
       "   YearStart  YearEnd LocationDesc DataSource                Topic  \\\n",
       "2       2013     2013       Hawaii      PRAMS  Reproductive Health   \n",
       "3       2013     2013     Kentucky      PRAMS  Reproductive Health   \n",
       "4       2013     2013     Maryland      PRAMS  Reproductive Health   \n",
       "5       2016     2016     Maryland      PRAMS  Reproductive Health   \n",
       "6       2014     2014        Maine      PRAMS  Reproductive Health   \n",
       "\n",
       "             Question DataValueUnit     DataValueType  DataValue  \\\n",
       "2  Postpartum checkup             %  Crude Prevalence       88.2   \n",
       "3  Postpartum checkup             %  Crude Prevalence        NaN   \n",
       "4  Postpartum checkup             %  Crude Prevalence       89.1   \n",
       "5  Postpartum checkup             %  Crude Prevalence       89.0   \n",
       "6  Postpartum checkup             %  Crude Prevalence       92.0   \n",
       "\n",
       "   DataValueAlt DataValueFootnoteSymbol  DatavalueFootnote  \\\n",
       "2          88.2                     NaN                NaN   \n",
       "3           NaN                       -  No data available   \n",
       "4          89.1                     NaN                NaN   \n",
       "5          89.0                     NaN                NaN   \n",
       "6          92.0                     NaN                NaN   \n",
       "\n",
       "   LowConfidenceLimit  HighConfidenceLimit QuestionID DataValueTypeID  \\\n",
       "2                85.7                 90.2     RPH2_0         CRDPREV   \n",
       "3                 NaN                  NaN     RPH2_0         CRDPREV   \n",
       "4                86.8                 91.0     RPH2_0         CRDPREV   \n",
       "5                86.7                 90.9     RPH2_0         CRDPREV   \n",
       "6                89.4                 94.0     RPH2_0         CRDPREV   \n",
       "\n",
       "        Race/Ethnicity  Overall  \n",
       "2                  NaN  Overall  \n",
       "3                  NaN  Overall  \n",
       "4                  NaN  Overall  \n",
       "5                  NaN  Overall  \n",
       "6  White, non-Hispanic      NaN  "
      ]
     },
     "execution_count": 383,
     "metadata": {},
     "output_type": "execute_result"
    }
   ],
   "source": [
    "df.head(5)"
   ]
  },
  {
   "cell_type": "code",
   "execution_count": 384,
   "metadata": {},
   "outputs": [
    {
     "data": {
      "text/html": [
       "<div>\n",
       "<style scoped>\n",
       "    .dataframe tbody tr th:only-of-type {\n",
       "        vertical-align: middle;\n",
       "    }\n",
       "\n",
       "    .dataframe tbody tr th {\n",
       "        vertical-align: top;\n",
       "    }\n",
       "\n",
       "    .dataframe thead th {\n",
       "        text-align: right;\n",
       "    }\n",
       "</style>\n",
       "<table border=\"1\" class=\"dataframe\">\n",
       "  <thead>\n",
       "    <tr style=\"text-align: right;\">\n",
       "      <th></th>\n",
       "      <th>YearStart</th>\n",
       "      <th>YearEnd</th>\n",
       "      <th>LocationDesc</th>\n",
       "      <th>DataSource</th>\n",
       "      <th>Topic</th>\n",
       "      <th>Question</th>\n",
       "      <th>DataValueUnit</th>\n",
       "      <th>DataValueType</th>\n",
       "      <th>DataValue</th>\n",
       "      <th>DataValueAlt</th>\n",
       "      <th>DataValueFootnoteSymbol</th>\n",
       "      <th>DatavalueFootnote</th>\n",
       "      <th>LowConfidenceLimit</th>\n",
       "      <th>HighConfidenceLimit</th>\n",
       "      <th>QuestionID</th>\n",
       "      <th>DataValueTypeID</th>\n",
       "      <th>Gender</th>\n",
       "      <th>Race/Ethnicity</th>\n",
       "      <th>Overall</th>\n",
       "    </tr>\n",
       "  </thead>\n",
       "  <tbody>\n",
       "    <tr>\n",
       "      <th>0</th>\n",
       "      <td>2019</td>\n",
       "      <td>2019</td>\n",
       "      <td>Arizona</td>\n",
       "      <td>YRBSS</td>\n",
       "      <td>Alcohol</td>\n",
       "      <td>Alcohol use among youth</td>\n",
       "      <td>%</td>\n",
       "      <td>Crude Prevalence</td>\n",
       "      <td>29.5</td>\n",
       "      <td>29.5</td>\n",
       "      <td>NaN</td>\n",
       "      <td>NaN</td>\n",
       "      <td>24.9</td>\n",
       "      <td>34.7</td>\n",
       "      <td>ALC1_1</td>\n",
       "      <td>CRDPREV</td>\n",
       "      <td>Female</td>\n",
       "      <td>NaN</td>\n",
       "      <td>NaN</td>\n",
       "    </tr>\n",
       "    <tr>\n",
       "      <th>1</th>\n",
       "      <td>2019</td>\n",
       "      <td>2019</td>\n",
       "      <td>Ohio</td>\n",
       "      <td>YRBSS</td>\n",
       "      <td>Alcohol</td>\n",
       "      <td>Alcohol use among youth</td>\n",
       "      <td>%</td>\n",
       "      <td>Crude Prevalence</td>\n",
       "      <td>22.5</td>\n",
       "      <td>22.5</td>\n",
       "      <td>NaN</td>\n",
       "      <td>NaN</td>\n",
       "      <td>17.0</td>\n",
       "      <td>29.1</td>\n",
       "      <td>ALC1_1</td>\n",
       "      <td>CRDPREV</td>\n",
       "      <td>Male</td>\n",
       "      <td>NaN</td>\n",
       "      <td>NaN</td>\n",
       "    </tr>\n",
       "    <tr>\n",
       "      <th>2</th>\n",
       "      <td>2019</td>\n",
       "      <td>2019</td>\n",
       "      <td>United States</td>\n",
       "      <td>YRBSS</td>\n",
       "      <td>Alcohol</td>\n",
       "      <td>Alcohol use among youth</td>\n",
       "      <td>%</td>\n",
       "      <td>Crude Prevalence</td>\n",
       "      <td>13.9</td>\n",
       "      <td>13.9</td>\n",
       "      <td>NaN</td>\n",
       "      <td>NaN</td>\n",
       "      <td>10.4</td>\n",
       "      <td>18.4</td>\n",
       "      <td>ALC1_1</td>\n",
       "      <td>CRDPREV</td>\n",
       "      <td>NaN</td>\n",
       "      <td>Asian, non-Hispanic</td>\n",
       "      <td>NaN</td>\n",
       "    </tr>\n",
       "    <tr>\n",
       "      <th>3</th>\n",
       "      <td>2015</td>\n",
       "      <td>2015</td>\n",
       "      <td>Virgin Islands</td>\n",
       "      <td>YRBSS</td>\n",
       "      <td>Alcohol</td>\n",
       "      <td>Alcohol use among youth</td>\n",
       "      <td>%</td>\n",
       "      <td>Crude Prevalence</td>\n",
       "      <td>NaN</td>\n",
       "      <td>NaN</td>\n",
       "      <td>-</td>\n",
       "      <td>No data available</td>\n",
       "      <td>NaN</td>\n",
       "      <td>NaN</td>\n",
       "      <td>ALC1_1</td>\n",
       "      <td>CRDPREV</td>\n",
       "      <td>Male</td>\n",
       "      <td>NaN</td>\n",
       "      <td>NaN</td>\n",
       "    </tr>\n",
       "    <tr>\n",
       "      <th>4</th>\n",
       "      <td>2020</td>\n",
       "      <td>2020</td>\n",
       "      <td>Alabama</td>\n",
       "      <td>PRAMS</td>\n",
       "      <td>Alcohol</td>\n",
       "      <td>Alcohol use before pregnancy</td>\n",
       "      <td>%</td>\n",
       "      <td>Crude Prevalence</td>\n",
       "      <td>59.1</td>\n",
       "      <td>59.1</td>\n",
       "      <td>NaN</td>\n",
       "      <td>NaN</td>\n",
       "      <td>53.9</td>\n",
       "      <td>64.0</td>\n",
       "      <td>ALC1_2</td>\n",
       "      <td>CRDPREV</td>\n",
       "      <td>NaN</td>\n",
       "      <td>White, non-Hispanic</td>\n",
       "      <td>NaN</td>\n",
       "    </tr>\n",
       "  </tbody>\n",
       "</table>\n",
       "</div>"
      ],
      "text/plain": [
       "   YearStart  YearEnd    LocationDesc DataSource    Topic  \\\n",
       "0       2019     2019         Arizona      YRBSS  Alcohol   \n",
       "1       2019     2019            Ohio      YRBSS  Alcohol   \n",
       "2       2019     2019   United States      YRBSS  Alcohol   \n",
       "3       2015     2015  Virgin Islands      YRBSS  Alcohol   \n",
       "4       2020     2020         Alabama      PRAMS  Alcohol   \n",
       "\n",
       "                       Question DataValueUnit     DataValueType DataValue  \\\n",
       "0       Alcohol use among youth             %  Crude Prevalence      29.5   \n",
       "1       Alcohol use among youth             %  Crude Prevalence      22.5   \n",
       "2       Alcohol use among youth             %  Crude Prevalence      13.9   \n",
       "3       Alcohol use among youth             %  Crude Prevalence       NaN   \n",
       "4  Alcohol use before pregnancy             %  Crude Prevalence      59.1   \n",
       "\n",
       "   DataValueAlt DataValueFootnoteSymbol  DatavalueFootnote  \\\n",
       "0          29.5                     NaN                NaN   \n",
       "1          22.5                     NaN                NaN   \n",
       "2          13.9                     NaN                NaN   \n",
       "3           NaN                       -  No data available   \n",
       "4          59.1                     NaN                NaN   \n",
       "\n",
       "   LowConfidenceLimit  HighConfidenceLimit QuestionID DataValueTypeID  Gender  \\\n",
       "0                24.9                 34.7     ALC1_1         CRDPREV  Female   \n",
       "1                17.0                 29.1     ALC1_1         CRDPREV    Male   \n",
       "2                10.4                 18.4     ALC1_1         CRDPREV     NaN   \n",
       "3                 NaN                  NaN     ALC1_1         CRDPREV    Male   \n",
       "4                53.9                 64.0     ALC1_2         CRDPREV     NaN   \n",
       "\n",
       "        Race/Ethnicity Overall  \n",
       "0                  NaN     NaN  \n",
       "1                  NaN     NaN  \n",
       "2  Asian, non-Hispanic     NaN  \n",
       "3                  NaN     NaN  \n",
       "4  White, non-Hispanic     NaN  "
      ]
     },
     "execution_count": 384,
     "metadata": {},
     "output_type": "execute_result"
    }
   ],
   "source": [
    "alcohol.head(5)"
   ]
  },
  {
   "cell_type": "code",
   "execution_count": 385,
   "metadata": {},
   "outputs": [],
   "source": [
    "mental_health['DataValue'] = mental_health['DataValue'].astype(str)\n",
    "alcohol['DataValue'] = alcohol['DataValue'].astype(str)\n"
   ]
  },
  {
   "cell_type": "code",
   "execution_count": 395,
   "metadata": {},
   "outputs": [],
   "source": [
    "national_merged_MA = pd.merge(mental_health, alcohol, on=['YearStart', 'YearEnd', 'LocationDesc', 'DataSource', 'Topic', 'Question', 'DataValueType', 'DataValue', 'DataValueAlt', 'LowConfidenceLimit', 'HighConfidenceLimit', 'QuestionID', 'DataValueTypeID', 'Gender', 'Race/Ethnicity'], how='outer')"
   ]
  },
  {
   "cell_type": "code",
   "execution_count": 396,
   "metadata": {},
   "outputs": [
    {
     "data": {
      "text/html": [
       "<div>\n",
       "<style scoped>\n",
       "    .dataframe tbody tr th:only-of-type {\n",
       "        vertical-align: middle;\n",
       "    }\n",
       "\n",
       "    .dataframe tbody tr th {\n",
       "        vertical-align: top;\n",
       "    }\n",
       "\n",
       "    .dataframe thead th {\n",
       "        text-align: right;\n",
       "    }\n",
       "</style>\n",
       "<table border=\"1\" class=\"dataframe\">\n",
       "  <thead>\n",
       "    <tr style=\"text-align: right;\">\n",
       "      <th></th>\n",
       "      <th>YearStart</th>\n",
       "      <th>YearEnd</th>\n",
       "      <th>DataValueAlt</th>\n",
       "      <th>LowConfidenceLimit</th>\n",
       "      <th>HighConfidenceLimit</th>\n",
       "    </tr>\n",
       "  </thead>\n",
       "  <tbody>\n",
       "    <tr>\n",
       "      <th>count</th>\n",
       "      <td>79291.000000</td>\n",
       "      <td>79291.000000</td>\n",
       "      <td>53685.000000</td>\n",
       "      <td>49566.000000</td>\n",
       "      <td>49566.000000</td>\n",
       "    </tr>\n",
       "    <tr>\n",
       "      <th>mean</th>\n",
       "      <td>2015.866366</td>\n",
       "      <td>2015.867753</td>\n",
       "      <td>42.843915</td>\n",
       "      <td>9.325671</td>\n",
       "      <td>13.697196</td>\n",
       "    </tr>\n",
       "    <tr>\n",
       "      <th>std</th>\n",
       "      <td>3.154107</td>\n",
       "      <td>3.151526</td>\n",
       "      <td>599.052299</td>\n",
       "      <td>9.421997</td>\n",
       "      <td>13.123393</td>\n",
       "    </tr>\n",
       "    <tr>\n",
       "      <th>min</th>\n",
       "      <td>2009.000000</td>\n",
       "      <td>2010.000000</td>\n",
       "      <td>0.000000</td>\n",
       "      <td>0.100000</td>\n",
       "      <td>1.600000</td>\n",
       "    </tr>\n",
       "    <tr>\n",
       "      <th>25%</th>\n",
       "      <td>2013.000000</td>\n",
       "      <td>2013.000000</td>\n",
       "      <td>4.800000</td>\n",
       "      <td>3.900000</td>\n",
       "      <td>5.800000</td>\n",
       "    </tr>\n",
       "    <tr>\n",
       "      <th>50%</th>\n",
       "      <td>2016.000000</td>\n",
       "      <td>2016.000000</td>\n",
       "      <td>7.700000</td>\n",
       "      <td>6.400000</td>\n",
       "      <td>8.700000</td>\n",
       "    </tr>\n",
       "    <tr>\n",
       "      <th>75%</th>\n",
       "      <td>2019.000000</td>\n",
       "      <td>2019.000000</td>\n",
       "      <td>16.100000</td>\n",
       "      <td>11.500000</td>\n",
       "      <td>17.800000</td>\n",
       "    </tr>\n",
       "    <tr>\n",
       "      <th>max</th>\n",
       "      <td>2021.000000</td>\n",
       "      <td>2021.000000</td>\n",
       "      <td>51642.000000</td>\n",
       "      <td>201.300000</td>\n",
       "      <td>406.200000</td>\n",
       "    </tr>\n",
       "  </tbody>\n",
       "</table>\n",
       "</div>"
      ],
      "text/plain": [
       "          YearStart       YearEnd  DataValueAlt  LowConfidenceLimit  \\\n",
       "count  79291.000000  79291.000000  53685.000000        49566.000000   \n",
       "mean    2015.866366   2015.867753     42.843915            9.325671   \n",
       "std        3.154107      3.151526    599.052299            9.421997   \n",
       "min     2009.000000   2010.000000      0.000000            0.100000   \n",
       "25%     2013.000000   2013.000000      4.800000            3.900000   \n",
       "50%     2016.000000   2016.000000      7.700000            6.400000   \n",
       "75%     2019.000000   2019.000000     16.100000           11.500000   \n",
       "max     2021.000000   2021.000000  51642.000000          201.300000   \n",
       "\n",
       "       HighConfidenceLimit  \n",
       "count         49566.000000  \n",
       "mean             13.697196  \n",
       "std              13.123393  \n",
       "min               1.600000  \n",
       "25%               5.800000  \n",
       "50%               8.700000  \n",
       "75%              17.800000  \n",
       "max             406.200000  "
      ]
     },
     "execution_count": 396,
     "metadata": {},
     "output_type": "execute_result"
    }
   ],
   "source": [
    "national_merged_MA.describe()"
   ]
  },
  {
   "cell_type": "code",
   "execution_count": 410,
   "metadata": {},
   "outputs": [
    {
     "data": {
      "text/plain": [
       "count                   50908\n",
       "unique                      8\n",
       "top       White, non-Hispanic\n",
       "freq                    10054\n",
       "Name: Race/Ethnicity, dtype: object"
      ]
     },
     "execution_count": 410,
     "metadata": {},
     "output_type": "execute_result"
    }
   ],
   "source": [
    "national_merged_MA['Race/Ethnicity'].describe()"
   ]
  },
  {
   "cell_type": "code",
   "execution_count": 398,
   "metadata": {},
   "outputs": [
    {
     "data": {
      "text/html": [
       "<div>\n",
       "<style scoped>\n",
       "    .dataframe tbody tr th:only-of-type {\n",
       "        vertical-align: middle;\n",
       "    }\n",
       "\n",
       "    .dataframe tbody tr th {\n",
       "        vertical-align: top;\n",
       "    }\n",
       "\n",
       "    .dataframe thead th {\n",
       "        text-align: right;\n",
       "    }\n",
       "</style>\n",
       "<table border=\"1\" class=\"dataframe\">\n",
       "  <thead>\n",
       "    <tr style=\"text-align: right;\">\n",
       "      <th></th>\n",
       "      <th>count</th>\n",
       "      <th>unique</th>\n",
       "      <th>top</th>\n",
       "      <th>freq</th>\n",
       "    </tr>\n",
       "    <tr>\n",
       "      <th>Race/Ethnicity</th>\n",
       "      <th></th>\n",
       "      <th></th>\n",
       "      <th></th>\n",
       "      <th></th>\n",
       "    </tr>\n",
       "  </thead>\n",
       "  <tbody>\n",
       "    <tr>\n",
       "      <th>American Indian or Alaska Native</th>\n",
       "      <td>2332</td>\n",
       "      <td>55</td>\n",
       "      <td>Washington</td>\n",
       "      <td>48</td>\n",
       "    </tr>\n",
       "    <tr>\n",
       "      <th>Asian or Pacific Islander</th>\n",
       "      <td>2002</td>\n",
       "      <td>53</td>\n",
       "      <td>Vermont</td>\n",
       "      <td>42</td>\n",
       "    </tr>\n",
       "    <tr>\n",
       "      <th>Asian, non-Hispanic</th>\n",
       "      <td>330</td>\n",
       "      <td>55</td>\n",
       "      <td>Alabama</td>\n",
       "      <td>6</td>\n",
       "    </tr>\n",
       "    <tr>\n",
       "      <th>Black, non-Hispanic</th>\n",
       "      <td>10054</td>\n",
       "      <td>55</td>\n",
       "      <td>Washington</td>\n",
       "      <td>191</td>\n",
       "    </tr>\n",
       "    <tr>\n",
       "      <th>Hispanic</th>\n",
       "      <td>10054</td>\n",
       "      <td>55</td>\n",
       "      <td>Washington</td>\n",
       "      <td>191</td>\n",
       "    </tr>\n",
       "    <tr>\n",
       "      <th>Multiracial, non-Hispanic</th>\n",
       "      <td>8041</td>\n",
       "      <td>55</td>\n",
       "      <td>Illinois</td>\n",
       "      <td>152</td>\n",
       "    </tr>\n",
       "    <tr>\n",
       "      <th>Other, non-Hispanic</th>\n",
       "      <td>8041</td>\n",
       "      <td>55</td>\n",
       "      <td>Illinois</td>\n",
       "      <td>152</td>\n",
       "    </tr>\n",
       "    <tr>\n",
       "      <th>White, non-Hispanic</th>\n",
       "      <td>10054</td>\n",
       "      <td>55</td>\n",
       "      <td>Washington</td>\n",
       "      <td>191</td>\n",
       "    </tr>\n",
       "  </tbody>\n",
       "</table>\n",
       "</div>"
      ],
      "text/plain": [
       "                                  count unique         top freq\n",
       "Race/Ethnicity                                                 \n",
       "American Indian or Alaska Native   2332     55  Washington   48\n",
       "Asian or Pacific Islander          2002     53     Vermont   42\n",
       "Asian, non-Hispanic                 330     55     Alabama    6\n",
       "Black, non-Hispanic               10054     55  Washington  191\n",
       "Hispanic                          10054     55  Washington  191\n",
       "Multiracial, non-Hispanic          8041     55    Illinois  152\n",
       "Other, non-Hispanic                8041     55    Illinois  152\n",
       "White, non-Hispanic               10054     55  Washington  191"
      ]
     },
     "execution_count": 398,
     "metadata": {},
     "output_type": "execute_result"
    }
   ],
   "source": [
    "national_merged_MA.groupby('Race/Ethnicity')['LocationDesc'].describe()"
   ]
  },
  {
   "cell_type": "code",
   "execution_count": 420,
   "metadata": {},
   "outputs": [
    {
     "data": {
      "text/html": [
       "<div>\n",
       "<style scoped>\n",
       "    .dataframe tbody tr th:only-of-type {\n",
       "        vertical-align: middle;\n",
       "    }\n",
       "\n",
       "    .dataframe tbody tr th {\n",
       "        vertical-align: top;\n",
       "    }\n",
       "\n",
       "    .dataframe thead th {\n",
       "        text-align: right;\n",
       "    }\n",
       "</style>\n",
       "<table border=\"1\" class=\"dataframe\">\n",
       "  <thead>\n",
       "    <tr style=\"text-align: right;\">\n",
       "      <th></th>\n",
       "      <th>count</th>\n",
       "      <th>unique</th>\n",
       "      <th>top</th>\n",
       "      <th>freq</th>\n",
       "    </tr>\n",
       "    <tr>\n",
       "      <th>Race/Ethnicity</th>\n",
       "      <th></th>\n",
       "      <th></th>\n",
       "      <th></th>\n",
       "      <th></th>\n",
       "    </tr>\n",
       "  </thead>\n",
       "  <tbody>\n",
       "    <tr>\n",
       "      <th>American Indian or Alaska Native</th>\n",
       "      <td>2332</td>\n",
       "      <td>4</td>\n",
       "      <td>Chronic liver disease mortality</td>\n",
       "      <td>1683</td>\n",
       "    </tr>\n",
       "    <tr>\n",
       "      <th>Asian or Pacific Islander</th>\n",
       "      <td>2002</td>\n",
       "      <td>2</td>\n",
       "      <td>Chronic liver disease mortality</td>\n",
       "      <td>1683</td>\n",
       "    </tr>\n",
       "    <tr>\n",
       "      <th>Asian, non-Hispanic</th>\n",
       "      <td>330</td>\n",
       "      <td>2</td>\n",
       "      <td>Alcohol use among youth</td>\n",
       "      <td>220</td>\n",
       "    </tr>\n",
       "    <tr>\n",
       "      <th>Black, non-Hispanic</th>\n",
       "      <td>10054</td>\n",
       "      <td>12</td>\n",
       "      <td>Chronic liver disease mortality</td>\n",
       "      <td>1683</td>\n",
       "    </tr>\n",
       "    <tr>\n",
       "      <th>Hispanic</th>\n",
       "      <td>10054</td>\n",
       "      <td>12</td>\n",
       "      <td>Chronic liver disease mortality</td>\n",
       "      <td>1683</td>\n",
       "    </tr>\n",
       "    <tr>\n",
       "      <th>Multiracial, non-Hispanic</th>\n",
       "      <td>8041</td>\n",
       "      <td>9</td>\n",
       "      <td>Binge drinking frequency among adults aged &gt;= ...</td>\n",
       "      <td>1188</td>\n",
       "    </tr>\n",
       "    <tr>\n",
       "      <th>Other, non-Hispanic</th>\n",
       "      <td>8041</td>\n",
       "      <td>9</td>\n",
       "      <td>Binge drinking frequency among adults aged &gt;= ...</td>\n",
       "      <td>1188</td>\n",
       "    </tr>\n",
       "    <tr>\n",
       "      <th>White, non-Hispanic</th>\n",
       "      <td>10054</td>\n",
       "      <td>12</td>\n",
       "      <td>Chronic liver disease mortality</td>\n",
       "      <td>1683</td>\n",
       "    </tr>\n",
       "  </tbody>\n",
       "</table>\n",
       "</div>"
      ],
      "text/plain": [
       "                                  count unique  \\\n",
       "Race/Ethnicity                                   \n",
       "American Indian or Alaska Native   2332      4   \n",
       "Asian or Pacific Islander          2002      2   \n",
       "Asian, non-Hispanic                 330      2   \n",
       "Black, non-Hispanic               10054     12   \n",
       "Hispanic                          10054     12   \n",
       "Multiracial, non-Hispanic          8041      9   \n",
       "Other, non-Hispanic                8041      9   \n",
       "White, non-Hispanic               10054     12   \n",
       "\n",
       "                                                                                top  \\\n",
       "Race/Ethnicity                                                                        \n",
       "American Indian or Alaska Native                    Chronic liver disease mortality   \n",
       "Asian or Pacific Islander                           Chronic liver disease mortality   \n",
       "Asian, non-Hispanic                                         Alcohol use among youth   \n",
       "Black, non-Hispanic                                 Chronic liver disease mortality   \n",
       "Hispanic                                            Chronic liver disease mortality   \n",
       "Multiracial, non-Hispanic         Binge drinking frequency among adults aged >= ...   \n",
       "Other, non-Hispanic               Binge drinking frequency among adults aged >= ...   \n",
       "White, non-Hispanic                                 Chronic liver disease mortality   \n",
       "\n",
       "                                  freq  \n",
       "Race/Ethnicity                          \n",
       "American Indian or Alaska Native  1683  \n",
       "Asian or Pacific Islander         1683  \n",
       "Asian, non-Hispanic                220  \n",
       "Black, non-Hispanic               1683  \n",
       "Hispanic                          1683  \n",
       "Multiracial, non-Hispanic         1188  \n",
       "Other, non-Hispanic               1188  \n",
       "White, non-Hispanic               1683  "
      ]
     },
     "execution_count": 420,
     "metadata": {},
     "output_type": "execute_result"
    }
   ],
   "source": [
    "national_merged_MA.groupby('Race/Ethnicity')['Question'].describe()"
   ]
  },
  {
   "cell_type": "code",
   "execution_count": null,
   "metadata": {},
   "outputs": [],
   "source": []
  },
  {
   "cell_type": "code",
   "execution_count": null,
   "metadata": {},
   "outputs": [],
   "source": []
  },
  {
   "cell_type": "markdown",
   "metadata": {},
   "source": [
    "Below is the merging of all data sets denoted as MR (Mental Health and Reproductive Health)"
   ]
  },
  {
   "cell_type": "code",
   "execution_count": 411,
   "metadata": {},
   "outputs": [
    {
     "name": "stderr",
     "output_type": "stream",
     "text": [
      "/var/folders/6t/t91z119x51q_lpb_lspp0sjw0000gn/T/ipykernel_64832/1431168220.py:1: SettingWithCopyWarning: \n",
      "A value is trying to be set on a copy of a slice from a DataFrame.\n",
      "Try using .loc[row_indexer,col_indexer] = value instead\n",
      "\n",
      "See the caveats in the documentation: https://pandas.pydata.org/pandas-docs/stable/user_guide/indexing.html#returning-a-view-versus-a-copy\n",
      "  df['DataValue'] = df['DataValue'].astype(str)\n"
     ]
    }
   ],
   "source": [
    "df['DataValue'] = df['DataValue'].astype(str)"
   ]
  },
  {
   "cell_type": "code",
   "execution_count": 407,
   "metadata": {},
   "outputs": [],
   "source": [
    "national_merged_MR= pd.merge(mental_health, df, on=['YearStart', 'YearEnd', 'LocationDesc', 'DataSource', 'Topic', 'Question', 'DataValueType', 'DataValue', 'DataValueAlt', 'LowConfidenceLimit', 'HighConfidenceLimit', 'QuestionID', 'DataValueTypeID','Race/Ethnicity'], how='outer')"
   ]
  },
  {
   "cell_type": "markdown",
   "metadata": {},
   "source": [
    "Descriptive Statistics of Merged National Datasets "
   ]
  },
  {
   "cell_type": "code",
   "execution_count": 408,
   "metadata": {},
   "outputs": [
    {
     "data": {
      "text/html": [
       "<div>\n",
       "<style scoped>\n",
       "    .dataframe tbody tr th:only-of-type {\n",
       "        vertical-align: middle;\n",
       "    }\n",
       "\n",
       "    .dataframe tbody tr th {\n",
       "        vertical-align: top;\n",
       "    }\n",
       "\n",
       "    .dataframe thead th {\n",
       "        text-align: right;\n",
       "    }\n",
       "</style>\n",
       "<table border=\"1\" class=\"dataframe\">\n",
       "  <thead>\n",
       "    <tr style=\"text-align: right;\">\n",
       "      <th></th>\n",
       "      <th>YearStart</th>\n",
       "      <th>YearEnd</th>\n",
       "      <th>LocationDesc</th>\n",
       "      <th>DataSource</th>\n",
       "      <th>Topic</th>\n",
       "      <th>Question</th>\n",
       "      <th>DataValueUnit_x</th>\n",
       "      <th>DataValueType</th>\n",
       "      <th>DataValue</th>\n",
       "      <th>DataValueAlt</th>\n",
       "      <th>...</th>\n",
       "      <th>HighConfidenceLimit</th>\n",
       "      <th>QuestionID</th>\n",
       "      <th>DataValueTypeID</th>\n",
       "      <th>Gender</th>\n",
       "      <th>Race/Ethnicity</th>\n",
       "      <th>Overall_x</th>\n",
       "      <th>DataValueUnit_y</th>\n",
       "      <th>DataValueFootnoteSymbol_y</th>\n",
       "      <th>DatavalueFootnote_y</th>\n",
       "      <th>Overall_y</th>\n",
       "    </tr>\n",
       "  </thead>\n",
       "  <tbody>\n",
       "    <tr>\n",
       "      <th>0</th>\n",
       "      <td>2009</td>\n",
       "      <td>2011</td>\n",
       "      <td>Alabama</td>\n",
       "      <td>PRAMS</td>\n",
       "      <td>Mental Health</td>\n",
       "      <td>Postpartum depressive symptoms</td>\n",
       "      <td>%</td>\n",
       "      <td>Crude Prevalence</td>\n",
       "      <td>nan</td>\n",
       "      <td>NaN</td>\n",
       "      <td>...</td>\n",
       "      <td>NaN</td>\n",
       "      <td>MTH3_0</td>\n",
       "      <td>CRDPREV</td>\n",
       "      <td>NaN</td>\n",
       "      <td>NaN</td>\n",
       "      <td>Overall</td>\n",
       "      <td>NaN</td>\n",
       "      <td>NaN</td>\n",
       "      <td>NaN</td>\n",
       "      <td>NaN</td>\n",
       "    </tr>\n",
       "    <tr>\n",
       "      <th>1</th>\n",
       "      <td>2009</td>\n",
       "      <td>2011</td>\n",
       "      <td>Alaska</td>\n",
       "      <td>PRAMS</td>\n",
       "      <td>Mental Health</td>\n",
       "      <td>Postpartum depressive symptoms</td>\n",
       "      <td>%</td>\n",
       "      <td>Crude Prevalence</td>\n",
       "      <td>nan</td>\n",
       "      <td>NaN</td>\n",
       "      <td>...</td>\n",
       "      <td>NaN</td>\n",
       "      <td>MTH3_0</td>\n",
       "      <td>CRDPREV</td>\n",
       "      <td>NaN</td>\n",
       "      <td>NaN</td>\n",
       "      <td>Overall</td>\n",
       "      <td>NaN</td>\n",
       "      <td>NaN</td>\n",
       "      <td>NaN</td>\n",
       "      <td>NaN</td>\n",
       "    </tr>\n",
       "    <tr>\n",
       "      <th>2</th>\n",
       "      <td>2009</td>\n",
       "      <td>2011</td>\n",
       "      <td>Arizona</td>\n",
       "      <td>PRAMS</td>\n",
       "      <td>Mental Health</td>\n",
       "      <td>Postpartum depressive symptoms</td>\n",
       "      <td>%</td>\n",
       "      <td>Crude Prevalence</td>\n",
       "      <td>nan</td>\n",
       "      <td>NaN</td>\n",
       "      <td>...</td>\n",
       "      <td>NaN</td>\n",
       "      <td>MTH3_0</td>\n",
       "      <td>CRDPREV</td>\n",
       "      <td>NaN</td>\n",
       "      <td>NaN</td>\n",
       "      <td>Overall</td>\n",
       "      <td>NaN</td>\n",
       "      <td>NaN</td>\n",
       "      <td>NaN</td>\n",
       "      <td>NaN</td>\n",
       "    </tr>\n",
       "    <tr>\n",
       "      <th>3</th>\n",
       "      <td>2009</td>\n",
       "      <td>2011</td>\n",
       "      <td>Arkansas</td>\n",
       "      <td>PRAMS</td>\n",
       "      <td>Mental Health</td>\n",
       "      <td>Postpartum depressive symptoms</td>\n",
       "      <td>%</td>\n",
       "      <td>Crude Prevalence</td>\n",
       "      <td>18.0</td>\n",
       "      <td>18.0</td>\n",
       "      <td>...</td>\n",
       "      <td>21.6</td>\n",
       "      <td>MTH3_0</td>\n",
       "      <td>CRDPREV</td>\n",
       "      <td>NaN</td>\n",
       "      <td>NaN</td>\n",
       "      <td>Overall</td>\n",
       "      <td>NaN</td>\n",
       "      <td>NaN</td>\n",
       "      <td>NaN</td>\n",
       "      <td>NaN</td>\n",
       "    </tr>\n",
       "    <tr>\n",
       "      <th>4</th>\n",
       "      <td>2009</td>\n",
       "      <td>2011</td>\n",
       "      <td>California</td>\n",
       "      <td>PRAMS</td>\n",
       "      <td>Mental Health</td>\n",
       "      <td>Postpartum depressive symptoms</td>\n",
       "      <td>%</td>\n",
       "      <td>Crude Prevalence</td>\n",
       "      <td>nan</td>\n",
       "      <td>NaN</td>\n",
       "      <td>...</td>\n",
       "      <td>NaN</td>\n",
       "      <td>MTH3_0</td>\n",
       "      <td>CRDPREV</td>\n",
       "      <td>NaN</td>\n",
       "      <td>NaN</td>\n",
       "      <td>Overall</td>\n",
       "      <td>NaN</td>\n",
       "      <td>NaN</td>\n",
       "      <td>NaN</td>\n",
       "      <td>NaN</td>\n",
       "    </tr>\n",
       "  </tbody>\n",
       "</table>\n",
       "<p>5 rows × 23 columns</p>\n",
       "</div>"
      ],
      "text/plain": [
       "   YearStart  YearEnd LocationDesc DataSource          Topic  \\\n",
       "0       2009     2011      Alabama      PRAMS  Mental Health   \n",
       "1       2009     2011       Alaska      PRAMS  Mental Health   \n",
       "2       2009     2011      Arizona      PRAMS  Mental Health   \n",
       "3       2009     2011     Arkansas      PRAMS  Mental Health   \n",
       "4       2009     2011   California      PRAMS  Mental Health   \n",
       "\n",
       "                         Question DataValueUnit_x     DataValueType DataValue  \\\n",
       "0  Postpartum depressive symptoms               %  Crude Prevalence       nan   \n",
       "1  Postpartum depressive symptoms               %  Crude Prevalence       nan   \n",
       "2  Postpartum depressive symptoms               %  Crude Prevalence       nan   \n",
       "3  Postpartum depressive symptoms               %  Crude Prevalence      18.0   \n",
       "4  Postpartum depressive symptoms               %  Crude Prevalence       nan   \n",
       "\n",
       "   DataValueAlt  ... HighConfidenceLimit QuestionID  DataValueTypeID  Gender  \\\n",
       "0           NaN  ...                 NaN     MTH3_0          CRDPREV     NaN   \n",
       "1           NaN  ...                 NaN     MTH3_0          CRDPREV     NaN   \n",
       "2           NaN  ...                 NaN     MTH3_0          CRDPREV     NaN   \n",
       "3          18.0  ...                21.6     MTH3_0          CRDPREV     NaN   \n",
       "4           NaN  ...                 NaN     MTH3_0          CRDPREV     NaN   \n",
       "\n",
       "  Race/Ethnicity Overall_x DataValueUnit_y DataValueFootnoteSymbol_y  \\\n",
       "0            NaN   Overall             NaN                       NaN   \n",
       "1            NaN   Overall             NaN                       NaN   \n",
       "2            NaN   Overall             NaN                       NaN   \n",
       "3            NaN   Overall             NaN                       NaN   \n",
       "4            NaN   Overall             NaN                       NaN   \n",
       "\n",
       "  DatavalueFootnote_y Overall_y  \n",
       "0                 NaN       NaN  \n",
       "1                 NaN       NaN  \n",
       "2                 NaN       NaN  \n",
       "3                 NaN       NaN  \n",
       "4                 NaN       NaN  \n",
       "\n",
       "[5 rows x 23 columns]"
      ]
     },
     "execution_count": 408,
     "metadata": {},
     "output_type": "execute_result"
    }
   ],
   "source": [
    "national_merged_MR.head()"
   ]
  },
  {
   "cell_type": "code",
   "execution_count": 409,
   "metadata": {},
   "outputs": [
    {
     "data": {
      "text/plain": [
       "array(['Postpartum depressive symptoms',\n",
       "       'At least 14 recent mentally unhealthy days among women aged 18-44 years',\n",
       "       'Recent mentally unhealthy days among adults aged >= 18 years',\n",
       "       'Postpartum checkup'], dtype=object)"
      ]
     },
     "execution_count": 409,
     "metadata": {},
     "output_type": "execute_result"
    }
   ],
   "source": [
    "national_merged_MR['Question'].unique()"
   ]
  },
  {
   "cell_type": "code",
   "execution_count": 393,
   "metadata": {},
   "outputs": [
    {
     "data": {
      "text/html": [
       "<div>\n",
       "<style scoped>\n",
       "    .dataframe tbody tr th:only-of-type {\n",
       "        vertical-align: middle;\n",
       "    }\n",
       "\n",
       "    .dataframe tbody tr th {\n",
       "        vertical-align: top;\n",
       "    }\n",
       "\n",
       "    .dataframe thead th {\n",
       "        text-align: right;\n",
       "    }\n",
       "</style>\n",
       "<table border=\"1\" class=\"dataframe\">\n",
       "  <thead>\n",
       "    <tr style=\"text-align: right;\">\n",
       "      <th></th>\n",
       "      <th>YearStart_x</th>\n",
       "      <th>YearEnd_x</th>\n",
       "      <th>DataValueAlt_x</th>\n",
       "      <th>LowConfidenceLimit_x</th>\n",
       "      <th>HighConfidenceLimit_x</th>\n",
       "      <th>YearStart_y</th>\n",
       "      <th>YearEnd_y</th>\n",
       "      <th>DataValue_y</th>\n",
       "      <th>DataValueAlt_y</th>\n",
       "      <th>LowConfidenceLimit_y</th>\n",
       "      <th>HighConfidenceLimit_y</th>\n",
       "    </tr>\n",
       "  </thead>\n",
       "  <tbody>\n",
       "    <tr>\n",
       "      <th>count</th>\n",
       "      <td>13200.000000</td>\n",
       "      <td>13200.000000</td>\n",
       "      <td>10716.00000</td>\n",
       "      <td>10716.000000</td>\n",
       "      <td>10716.000000</td>\n",
       "      <td>2728.000000</td>\n",
       "      <td>2728.000000</td>\n",
       "      <td>1572.000000</td>\n",
       "      <td>1572.000000</td>\n",
       "      <td>1570.000000</td>\n",
       "      <td>1570.000000</td>\n",
       "    </tr>\n",
       "    <tr>\n",
       "      <th>mean</th>\n",
       "      <td>2015.970833</td>\n",
       "      <td>2015.979167</td>\n",
       "      <td>6.74804</td>\n",
       "      <td>5.244336</td>\n",
       "      <td>8.495502</td>\n",
       "      <td>2016.307918</td>\n",
       "      <td>2016.307918</td>\n",
       "      <td>88.496438</td>\n",
       "      <td>88.496438</td>\n",
       "      <td>82.108217</td>\n",
       "      <td>92.363057</td>\n",
       "    </tr>\n",
       "    <tr>\n",
       "      <th>std</th>\n",
       "      <td>3.187855</td>\n",
       "      <td>3.172196</td>\n",
       "      <td>5.47081</td>\n",
       "      <td>4.131193</td>\n",
       "      <td>7.545289</td>\n",
       "      <td>2.594552</td>\n",
       "      <td>2.594552</td>\n",
       "      <td>5.664864</td>\n",
       "      <td>5.664864</td>\n",
       "      <td>8.937991</td>\n",
       "      <td>4.354210</td>\n",
       "    </tr>\n",
       "    <tr>\n",
       "      <th>min</th>\n",
       "      <td>2009.000000</td>\n",
       "      <td>2011.000000</td>\n",
       "      <td>1.20000</td>\n",
       "      <td>0.700000</td>\n",
       "      <td>1.800000</td>\n",
       "      <td>2012.000000</td>\n",
       "      <td>2012.000000</td>\n",
       "      <td>58.600000</td>\n",
       "      <td>58.600000</td>\n",
       "      <td>39.800000</td>\n",
       "      <td>64.600000</td>\n",
       "    </tr>\n",
       "    <tr>\n",
       "      <th>25%</th>\n",
       "      <td>2013.000000</td>\n",
       "      <td>2013.000000</td>\n",
       "      <td>3.60000</td>\n",
       "      <td>3.000000</td>\n",
       "      <td>4.200000</td>\n",
       "      <td>2014.000000</td>\n",
       "      <td>2014.000000</td>\n",
       "      <td>85.800000</td>\n",
       "      <td>85.800000</td>\n",
       "      <td>77.500000</td>\n",
       "      <td>90.100000</td>\n",
       "    </tr>\n",
       "    <tr>\n",
       "      <th>50%</th>\n",
       "      <td>2016.000000</td>\n",
       "      <td>2016.000000</td>\n",
       "      <td>4.40000</td>\n",
       "      <td>3.700000</td>\n",
       "      <td>5.100000</td>\n",
       "      <td>2017.000000</td>\n",
       "      <td>2017.000000</td>\n",
       "      <td>89.600000</td>\n",
       "      <td>89.600000</td>\n",
       "      <td>84.600000</td>\n",
       "      <td>93.000000</td>\n",
       "    </tr>\n",
       "    <tr>\n",
       "      <th>75%</th>\n",
       "      <td>2019.000000</td>\n",
       "      <td>2019.000000</td>\n",
       "      <td>6.40000</td>\n",
       "      <td>4.900000</td>\n",
       "      <td>8.700000</td>\n",
       "      <td>2019.000000</td>\n",
       "      <td>2019.000000</td>\n",
       "      <td>92.325000</td>\n",
       "      <td>92.325000</td>\n",
       "      <td>88.600000</td>\n",
       "      <td>95.300000</td>\n",
       "    </tr>\n",
       "    <tr>\n",
       "      <th>max</th>\n",
       "      <td>2021.000000</td>\n",
       "      <td>2021.000000</td>\n",
       "      <td>41.20000</td>\n",
       "      <td>27.800000</td>\n",
       "      <td>59.400000</td>\n",
       "      <td>2020.000000</td>\n",
       "      <td>2020.000000</td>\n",
       "      <td>100.000000</td>\n",
       "      <td>100.000000</td>\n",
       "      <td>98.100000</td>\n",
       "      <td>100.000000</td>\n",
       "    </tr>\n",
       "  </tbody>\n",
       "</table>\n",
       "</div>"
      ],
      "text/plain": [
       "        YearStart_x     YearEnd_x  DataValueAlt_x  LowConfidenceLimit_x  \\\n",
       "count  13200.000000  13200.000000     10716.00000          10716.000000   \n",
       "mean    2015.970833   2015.979167         6.74804              5.244336   \n",
       "std        3.187855      3.172196         5.47081              4.131193   \n",
       "min     2009.000000   2011.000000         1.20000              0.700000   \n",
       "25%     2013.000000   2013.000000         3.60000              3.000000   \n",
       "50%     2016.000000   2016.000000         4.40000              3.700000   \n",
       "75%     2019.000000   2019.000000         6.40000              4.900000   \n",
       "max     2021.000000   2021.000000        41.20000             27.800000   \n",
       "\n",
       "       HighConfidenceLimit_x  YearStart_y    YearEnd_y  DataValue_y  \\\n",
       "count           10716.000000  2728.000000  2728.000000  1572.000000   \n",
       "mean                8.495502  2016.307918  2016.307918    88.496438   \n",
       "std                 7.545289     2.594552     2.594552     5.664864   \n",
       "min                 1.800000  2012.000000  2012.000000    58.600000   \n",
       "25%                 4.200000  2014.000000  2014.000000    85.800000   \n",
       "50%                 5.100000  2017.000000  2017.000000    89.600000   \n",
       "75%                 8.700000  2019.000000  2019.000000    92.325000   \n",
       "max                59.400000  2020.000000  2020.000000   100.000000   \n",
       "\n",
       "       DataValueAlt_y  LowConfidenceLimit_y  HighConfidenceLimit_y  \n",
       "count     1572.000000           1570.000000            1570.000000  \n",
       "mean        88.496438             82.108217              92.363057  \n",
       "std          5.664864              8.937991               4.354210  \n",
       "min         58.600000             39.800000              64.600000  \n",
       "25%         85.800000             77.500000              90.100000  \n",
       "50%         89.600000             84.600000              93.000000  \n",
       "75%         92.325000             88.600000              95.300000  \n",
       "max        100.000000             98.100000             100.000000  "
      ]
     },
     "execution_count": 393,
     "metadata": {},
     "output_type": "execute_result"
    }
   ],
   "source": [
    "national_merged_MR.describe()"
   ]
  },
  {
   "cell_type": "markdown",
   "metadata": {},
   "source": [
    "The summary statistics show that the datasets have similar mean values for various numeric variables across different years, with moderate standard deviations indicating some variability. Additionally, the ranges of the data suggest a spread from the minimum to maximum values, while quartiles provide insight into the central tendency and variability of the data distribution."
   ]
  },
  {
   "cell_type": "code",
   "execution_count": 394,
   "metadata": {},
   "outputs": [
    {
     "ename": "TypeError",
     "evalue": "'>=' not supported between instances of 'float' and 'str'",
     "output_type": "error",
     "traceback": [
      "\u001b[0;31m---------------------------------------------------------------------------\u001b[0m",
      "\u001b[0;31mTypeError\u001b[0m                                 Traceback (most recent call last)",
      "Cell \u001b[0;32mIn[394], line 2\u001b[0m\n\u001b[1;32m      1\u001b[0m \u001b[38;5;66;03m#ranges national_merged_MAR\u001b[39;00m\n\u001b[0;32m----> 2\u001b[0m \u001b[43mnational_merged_MR\u001b[49m\u001b[43m[\u001b[49m\u001b[38;5;124;43m'\u001b[39;49m\u001b[38;5;124;43mDataValue_x\u001b[39;49m\u001b[38;5;124;43m'\u001b[39;49m\u001b[43m]\u001b[49m\u001b[38;5;241;43m.\u001b[39;49m\u001b[43mmax\u001b[49m\u001b[43m(\u001b[49m\u001b[43m)\u001b[49m \u001b[38;5;241m-\u001b[39m national_merged_MR[\u001b[38;5;124m'\u001b[39m\u001b[38;5;124mDataValue_x\u001b[39m\u001b[38;5;124m'\u001b[39m]\u001b[38;5;241m.\u001b[39mmin()\n",
      "File \u001b[0;32m~/Documents/UMich/Grad School Year 2/Semester_2/SI_618_DataManipulationAndAnalysis/618-project/.venv/lib/python3.11/site-packages/pandas/core/series.py:6497\u001b[0m, in \u001b[0;36mSeries.max\u001b[0;34m(self, axis, skipna, numeric_only, **kwargs)\u001b[0m\n\u001b[1;32m   6489\u001b[0m \u001b[38;5;129m@doc\u001b[39m(make_doc(\u001b[38;5;124m\"\u001b[39m\u001b[38;5;124mmax\u001b[39m\u001b[38;5;124m\"\u001b[39m, ndim\u001b[38;5;241m=\u001b[39m\u001b[38;5;241m1\u001b[39m))\n\u001b[1;32m   6490\u001b[0m \u001b[38;5;28;01mdef\u001b[39;00m \u001b[38;5;21mmax\u001b[39m(\n\u001b[1;32m   6491\u001b[0m     \u001b[38;5;28mself\u001b[39m,\n\u001b[0;32m   (...)\u001b[0m\n\u001b[1;32m   6495\u001b[0m     \u001b[38;5;241m*\u001b[39m\u001b[38;5;241m*\u001b[39mkwargs,\n\u001b[1;32m   6496\u001b[0m ):\n\u001b[0;32m-> 6497\u001b[0m     \u001b[38;5;28;01mreturn\u001b[39;00m \u001b[43mNDFrame\u001b[49m\u001b[38;5;241;43m.\u001b[39;49m\u001b[43mmax\u001b[49m\u001b[43m(\u001b[49m\u001b[38;5;28;43mself\u001b[39;49m\u001b[43m,\u001b[49m\u001b[43m \u001b[49m\u001b[43maxis\u001b[49m\u001b[43m,\u001b[49m\u001b[43m \u001b[49m\u001b[43mskipna\u001b[49m\u001b[43m,\u001b[49m\u001b[43m \u001b[49m\u001b[43mnumeric_only\u001b[49m\u001b[43m,\u001b[49m\u001b[43m \u001b[49m\u001b[38;5;241;43m*\u001b[39;49m\u001b[38;5;241;43m*\u001b[39;49m\u001b[43mkwargs\u001b[49m\u001b[43m)\u001b[49m\n",
      "File \u001b[0;32m~/Documents/UMich/Grad School Year 2/Semester_2/SI_618_DataManipulationAndAnalysis/618-project/.venv/lib/python3.11/site-packages/pandas/core/generic.py:12397\u001b[0m, in \u001b[0;36mNDFrame.max\u001b[0;34m(self, axis, skipna, numeric_only, **kwargs)\u001b[0m\n\u001b[1;32m  12390\u001b[0m \u001b[38;5;28;01mdef\u001b[39;00m \u001b[38;5;21mmax\u001b[39m(\n\u001b[1;32m  12391\u001b[0m     \u001b[38;5;28mself\u001b[39m,\n\u001b[1;32m  12392\u001b[0m     axis: Axis \u001b[38;5;241m|\u001b[39m \u001b[38;5;28;01mNone\u001b[39;00m \u001b[38;5;241m=\u001b[39m \u001b[38;5;241m0\u001b[39m,\n\u001b[0;32m   (...)\u001b[0m\n\u001b[1;32m  12395\u001b[0m     \u001b[38;5;241m*\u001b[39m\u001b[38;5;241m*\u001b[39mkwargs,\n\u001b[1;32m  12396\u001b[0m ):\n\u001b[0;32m> 12397\u001b[0m     \u001b[38;5;28;01mreturn\u001b[39;00m \u001b[38;5;28;43mself\u001b[39;49m\u001b[38;5;241;43m.\u001b[39;49m\u001b[43m_stat_function\u001b[49m\u001b[43m(\u001b[49m\n\u001b[1;32m  12398\u001b[0m \u001b[43m        \u001b[49m\u001b[38;5;124;43m\"\u001b[39;49m\u001b[38;5;124;43mmax\u001b[39;49m\u001b[38;5;124;43m\"\u001b[39;49m\u001b[43m,\u001b[49m\n\u001b[1;32m  12399\u001b[0m \u001b[43m        \u001b[49m\u001b[43mnanops\u001b[49m\u001b[38;5;241;43m.\u001b[39;49m\u001b[43mnanmax\u001b[49m\u001b[43m,\u001b[49m\n\u001b[1;32m  12400\u001b[0m \u001b[43m        \u001b[49m\u001b[43maxis\u001b[49m\u001b[43m,\u001b[49m\n\u001b[1;32m  12401\u001b[0m \u001b[43m        \u001b[49m\u001b[43mskipna\u001b[49m\u001b[43m,\u001b[49m\n\u001b[1;32m  12402\u001b[0m \u001b[43m        \u001b[49m\u001b[43mnumeric_only\u001b[49m\u001b[43m,\u001b[49m\n\u001b[1;32m  12403\u001b[0m \u001b[43m        \u001b[49m\u001b[38;5;241;43m*\u001b[39;49m\u001b[38;5;241;43m*\u001b[39;49m\u001b[43mkwargs\u001b[49m\u001b[43m,\u001b[49m\n\u001b[1;32m  12404\u001b[0m \u001b[43m    \u001b[49m\u001b[43m)\u001b[49m\n",
      "File \u001b[0;32m~/Documents/UMich/Grad School Year 2/Semester_2/SI_618_DataManipulationAndAnalysis/618-project/.venv/lib/python3.11/site-packages/pandas/core/generic.py:12370\u001b[0m, in \u001b[0;36mNDFrame._stat_function\u001b[0;34m(self, name, func, axis, skipna, numeric_only, **kwargs)\u001b[0m\n\u001b[1;32m  12366\u001b[0m nv\u001b[38;5;241m.\u001b[39mvalidate_func(name, (), kwargs)\n\u001b[1;32m  12368\u001b[0m validate_bool_kwarg(skipna, \u001b[38;5;124m\"\u001b[39m\u001b[38;5;124mskipna\u001b[39m\u001b[38;5;124m\"\u001b[39m, none_allowed\u001b[38;5;241m=\u001b[39m\u001b[38;5;28;01mFalse\u001b[39;00m)\n\u001b[0;32m> 12370\u001b[0m \u001b[38;5;28;01mreturn\u001b[39;00m \u001b[38;5;28;43mself\u001b[39;49m\u001b[38;5;241;43m.\u001b[39;49m\u001b[43m_reduce\u001b[49m\u001b[43m(\u001b[49m\n\u001b[1;32m  12371\u001b[0m \u001b[43m    \u001b[49m\u001b[43mfunc\u001b[49m\u001b[43m,\u001b[49m\u001b[43m \u001b[49m\u001b[43mname\u001b[49m\u001b[38;5;241;43m=\u001b[39;49m\u001b[43mname\u001b[49m\u001b[43m,\u001b[49m\u001b[43m \u001b[49m\u001b[43maxis\u001b[49m\u001b[38;5;241;43m=\u001b[39;49m\u001b[43maxis\u001b[49m\u001b[43m,\u001b[49m\u001b[43m \u001b[49m\u001b[43mskipna\u001b[49m\u001b[38;5;241;43m=\u001b[39;49m\u001b[43mskipna\u001b[49m\u001b[43m,\u001b[49m\u001b[43m \u001b[49m\u001b[43mnumeric_only\u001b[49m\u001b[38;5;241;43m=\u001b[39;49m\u001b[43mnumeric_only\u001b[49m\n\u001b[1;32m  12372\u001b[0m \u001b[43m\u001b[49m\u001b[43m)\u001b[49m\n",
      "File \u001b[0;32m~/Documents/UMich/Grad School Year 2/Semester_2/SI_618_DataManipulationAndAnalysis/618-project/.venv/lib/python3.11/site-packages/pandas/core/series.py:6437\u001b[0m, in \u001b[0;36mSeries._reduce\u001b[0;34m(self, op, name, axis, skipna, numeric_only, filter_type, **kwds)\u001b[0m\n\u001b[1;32m   6432\u001b[0m     \u001b[38;5;66;03m# GH#47500 - change to TypeError to match other methods\u001b[39;00m\n\u001b[1;32m   6433\u001b[0m     \u001b[38;5;28;01mraise\u001b[39;00m \u001b[38;5;167;01mTypeError\u001b[39;00m(\n\u001b[1;32m   6434\u001b[0m         \u001b[38;5;124mf\u001b[39m\u001b[38;5;124m\"\u001b[39m\u001b[38;5;124mSeries.\u001b[39m\u001b[38;5;132;01m{\u001b[39;00mname\u001b[38;5;132;01m}\u001b[39;00m\u001b[38;5;124m does not allow \u001b[39m\u001b[38;5;132;01m{\u001b[39;00mkwd_name\u001b[38;5;132;01m}\u001b[39;00m\u001b[38;5;124m=\u001b[39m\u001b[38;5;132;01m{\u001b[39;00mnumeric_only\u001b[38;5;132;01m}\u001b[39;00m\u001b[38;5;124m \u001b[39m\u001b[38;5;124m\"\u001b[39m\n\u001b[1;32m   6435\u001b[0m         \u001b[38;5;124m\"\u001b[39m\u001b[38;5;124mwith non-numeric dtypes.\u001b[39m\u001b[38;5;124m\"\u001b[39m\n\u001b[1;32m   6436\u001b[0m     )\n\u001b[0;32m-> 6437\u001b[0m \u001b[38;5;28;01mreturn\u001b[39;00m \u001b[43mop\u001b[49m\u001b[43m(\u001b[49m\u001b[43mdelegate\u001b[49m\u001b[43m,\u001b[49m\u001b[43m \u001b[49m\u001b[43mskipna\u001b[49m\u001b[38;5;241;43m=\u001b[39;49m\u001b[43mskipna\u001b[49m\u001b[43m,\u001b[49m\u001b[43m \u001b[49m\u001b[38;5;241;43m*\u001b[39;49m\u001b[38;5;241;43m*\u001b[39;49m\u001b[43mkwds\u001b[49m\u001b[43m)\u001b[49m\n",
      "File \u001b[0;32m~/Documents/UMich/Grad School Year 2/Semester_2/SI_618_DataManipulationAndAnalysis/618-project/.venv/lib/python3.11/site-packages/pandas/core/nanops.py:147\u001b[0m, in \u001b[0;36mbottleneck_switch.__call__.<locals>.f\u001b[0;34m(values, axis, skipna, **kwds)\u001b[0m\n\u001b[1;32m    145\u001b[0m         result \u001b[38;5;241m=\u001b[39m alt(values, axis\u001b[38;5;241m=\u001b[39maxis, skipna\u001b[38;5;241m=\u001b[39mskipna, \u001b[38;5;241m*\u001b[39m\u001b[38;5;241m*\u001b[39mkwds)\n\u001b[1;32m    146\u001b[0m \u001b[38;5;28;01melse\u001b[39;00m:\n\u001b[0;32m--> 147\u001b[0m     result \u001b[38;5;241m=\u001b[39m \u001b[43malt\u001b[49m\u001b[43m(\u001b[49m\u001b[43mvalues\u001b[49m\u001b[43m,\u001b[49m\u001b[43m \u001b[49m\u001b[43maxis\u001b[49m\u001b[38;5;241;43m=\u001b[39;49m\u001b[43maxis\u001b[49m\u001b[43m,\u001b[49m\u001b[43m \u001b[49m\u001b[43mskipna\u001b[49m\u001b[38;5;241;43m=\u001b[39;49m\u001b[43mskipna\u001b[49m\u001b[43m,\u001b[49m\u001b[43m \u001b[49m\u001b[38;5;241;43m*\u001b[39;49m\u001b[38;5;241;43m*\u001b[39;49m\u001b[43mkwds\u001b[49m\u001b[43m)\u001b[49m\n\u001b[1;32m    149\u001b[0m \u001b[38;5;28;01mreturn\u001b[39;00m result\n",
      "File \u001b[0;32m~/Documents/UMich/Grad School Year 2/Semester_2/SI_618_DataManipulationAndAnalysis/618-project/.venv/lib/python3.11/site-packages/pandas/core/nanops.py:404\u001b[0m, in \u001b[0;36m_datetimelike_compat.<locals>.new_func\u001b[0;34m(values, axis, skipna, mask, **kwargs)\u001b[0m\n\u001b[1;32m    401\u001b[0m \u001b[38;5;28;01mif\u001b[39;00m datetimelike \u001b[38;5;129;01mand\u001b[39;00m mask \u001b[38;5;129;01mis\u001b[39;00m \u001b[38;5;28;01mNone\u001b[39;00m:\n\u001b[1;32m    402\u001b[0m     mask \u001b[38;5;241m=\u001b[39m isna(values)\n\u001b[0;32m--> 404\u001b[0m result \u001b[38;5;241m=\u001b[39m \u001b[43mfunc\u001b[49m\u001b[43m(\u001b[49m\u001b[43mvalues\u001b[49m\u001b[43m,\u001b[49m\u001b[43m \u001b[49m\u001b[43maxis\u001b[49m\u001b[38;5;241;43m=\u001b[39;49m\u001b[43maxis\u001b[49m\u001b[43m,\u001b[49m\u001b[43m \u001b[49m\u001b[43mskipna\u001b[49m\u001b[38;5;241;43m=\u001b[39;49m\u001b[43mskipna\u001b[49m\u001b[43m,\u001b[49m\u001b[43m \u001b[49m\u001b[43mmask\u001b[49m\u001b[38;5;241;43m=\u001b[39;49m\u001b[43mmask\u001b[49m\u001b[43m,\u001b[49m\u001b[43m \u001b[49m\u001b[38;5;241;43m*\u001b[39;49m\u001b[38;5;241;43m*\u001b[39;49m\u001b[43mkwargs\u001b[49m\u001b[43m)\u001b[49m\n\u001b[1;32m    406\u001b[0m \u001b[38;5;28;01mif\u001b[39;00m datetimelike:\n\u001b[1;32m    407\u001b[0m     result \u001b[38;5;241m=\u001b[39m _wrap_results(result, orig_values\u001b[38;5;241m.\u001b[39mdtype, fill_value\u001b[38;5;241m=\u001b[39miNaT)\n",
      "File \u001b[0;32m~/Documents/UMich/Grad School Year 2/Semester_2/SI_618_DataManipulationAndAnalysis/618-project/.venv/lib/python3.11/site-packages/pandas/core/nanops.py:1098\u001b[0m, in \u001b[0;36m_nanminmax.<locals>.reduction\u001b[0;34m(values, axis, skipna, mask)\u001b[0m\n\u001b[1;32m   1093\u001b[0m     \u001b[38;5;28;01mreturn\u001b[39;00m _na_for_min_count(values, axis)\n\u001b[1;32m   1095\u001b[0m values, mask \u001b[38;5;241m=\u001b[39m _get_values(\n\u001b[1;32m   1096\u001b[0m     values, skipna, fill_value_typ\u001b[38;5;241m=\u001b[39mfill_value_typ, mask\u001b[38;5;241m=\u001b[39mmask\n\u001b[1;32m   1097\u001b[0m )\n\u001b[0;32m-> 1098\u001b[0m result \u001b[38;5;241m=\u001b[39m \u001b[38;5;28;43mgetattr\u001b[39;49m\u001b[43m(\u001b[49m\u001b[43mvalues\u001b[49m\u001b[43m,\u001b[49m\u001b[43m \u001b[49m\u001b[43mmeth\u001b[49m\u001b[43m)\u001b[49m\u001b[43m(\u001b[49m\u001b[43maxis\u001b[49m\u001b[43m)\u001b[49m\n\u001b[1;32m   1099\u001b[0m result \u001b[38;5;241m=\u001b[39m _maybe_null_out(result, axis, mask, values\u001b[38;5;241m.\u001b[39mshape)\n\u001b[1;32m   1100\u001b[0m \u001b[38;5;28;01mreturn\u001b[39;00m result\n",
      "File \u001b[0;32m~/Documents/UMich/Grad School Year 2/Semester_2/SI_618_DataManipulationAndAnalysis/618-project/.venv/lib/python3.11/site-packages/numpy/core/_methods.py:41\u001b[0m, in \u001b[0;36m_amax\u001b[0;34m(a, axis, out, keepdims, initial, where)\u001b[0m\n\u001b[1;32m     39\u001b[0m \u001b[38;5;28;01mdef\u001b[39;00m \u001b[38;5;21m_amax\u001b[39m(a, axis\u001b[38;5;241m=\u001b[39m\u001b[38;5;28;01mNone\u001b[39;00m, out\u001b[38;5;241m=\u001b[39m\u001b[38;5;28;01mNone\u001b[39;00m, keepdims\u001b[38;5;241m=\u001b[39m\u001b[38;5;28;01mFalse\u001b[39;00m,\n\u001b[1;32m     40\u001b[0m           initial\u001b[38;5;241m=\u001b[39m_NoValue, where\u001b[38;5;241m=\u001b[39m\u001b[38;5;28;01mTrue\u001b[39;00m):\n\u001b[0;32m---> 41\u001b[0m     \u001b[38;5;28;01mreturn\u001b[39;00m umr_maximum(a, axis, \u001b[38;5;28;01mNone\u001b[39;00m, out, keepdims, initial, where)\n",
      "\u001b[0;31mTypeError\u001b[0m: '>=' not supported between instances of 'float' and 'str'"
     ]
    }
   ],
   "source": [
    "#ranges national_merged_MAR\n",
    "national_merged_MR['DataValue_x'].max() - national_merged_MR['DataValue_x'].min()\n"
   ]
  },
  {
   "cell_type": "markdown",
   "metadata": {},
   "source": [
    "Range of responses differs by 40.00"
   ]
  },
  {
   "cell_type": "code",
   "execution_count": null,
   "metadata": {},
   "outputs": [
    {
     "data": {
      "text/plain": [
       "29.929764708034018"
      ]
     },
     "execution_count": 270,
     "metadata": {},
     "output_type": "execute_result"
    }
   ],
   "source": [
    "national_merged_MR['DataValue_x'].var()"
   ]
  },
  {
   "cell_type": "markdown",
   "metadata": {},
   "source": [
    "variance of overall responses is 29.929 "
   ]
  },
  {
   "cell_type": "code",
   "execution_count": null,
   "metadata": {},
   "outputs": [
    {
     "data": {
      "text/plain": [
       "5.470810242371235"
      ]
     },
     "execution_count": 271,
     "metadata": {},
     "output_type": "execute_result"
    }
   ],
   "source": [
    "national_merged_MR['DataValue_x'].std()"
   ]
  },
  {
   "cell_type": "markdown",
   "metadata": {},
   "source": [
    "standard deviations is 5.470"
   ]
  },
  {
   "cell_type": "code",
   "execution_count": null,
   "metadata": {},
   "outputs": [],
   "source": []
  },
  {
   "cell_type": "markdown",
   "metadata": {},
   "source": [
    "# Inferential Statistics\n",
    "\n",
    "- Conduct appropriate hypothesis tests to investigate if there are significant differences or correlations within your data. This might involve regression analysis, ANOVA, and/or chi-squared tests.\n",
    "\n",
    "- Clearly state your null and alternative hypotheses, choose an appropriate significance level, and\n",
    "discuss your findings. Make sure to justify the choice of your tests."
   ]
  },
  {
   "cell_type": "markdown",
   "metadata": {},
   "source": [
    "Below we conducted a t-test and fisher's z-test statistics test to see if the correlation coefficients for Michigan and Ohio were statistically different. The output states that it is not. "
   ]
  },
  {
   "cell_type": "markdown",
   "metadata": {},
   "source": [
    "# Graphical Analysis\n",
    "\n",
    "Create various types of plots to visualize relationships within your data. Use histograms, bar charts, scatter plots, box plots, and any other suitable graphical representations you've learned.\n",
    "\n",
    "Be sure to use appropriate titles, labels, and legends to make your plots readable and informative. Interpret the graphical representations to uncover patterns, trends, and outliers."
   ]
  },
  {
   "cell_type": "markdown",
   "metadata": {},
   "source": [
    "# Comparative Analysis\n",
    "Compare and contrast different subsets of your data. This can include comparisons over time, across different categories, or any other relevant segmentation. Note that for some projects, the nature of this comparative analysis will be obvious. For others, you will need to think about how\n",
    "you might subset your data.\n",
    "\n",
    "Discuss any notable similarities or differences you have identified."
   ]
  },
  {
   "cell_type": "markdown",
   "metadata": {},
   "source": [
    "# Multivariate Analysis\n",
    "Perform multivariate analysis to understand the relationships among three or more variables in your dataset.\n",
    "\n",
    "Use techniques like cross-tabulation, pivot tables, and multivariate graphs."
   ]
  }
 ],
 "metadata": {
  "kernelspec": {
   "display_name": ".venv",
   "language": "python",
   "name": "python3"
  },
  "language_info": {
   "codemirror_mode": {
    "name": "ipython",
    "version": 3
   },
   "file_extension": ".py",
   "mimetype": "text/x-python",
   "name": "python",
   "nbconvert_exporter": "python",
   "pygments_lexer": "ipython3",
   "version": "3.11.4"
  }
 },
 "nbformat": 4,
 "nbformat_minor": 2
}
